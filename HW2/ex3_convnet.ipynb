{
  "cells": [
    {
      "cell_type": "markdown",
      "metadata": {
        "id": "paZudiMhj6AA"
      },
      "source": [
        "## Question 1: Implement a Convolutional Neural Network\n"
      ]
    },
    {
      "cell_type": "code",
      "execution_count": null,
      "metadata": {
        "id": "2MMVpptiVgEE"
      },
      "outputs": [],
      "source": [
        "import torch\n",
        "import torch.nn as nn\n",
        "import torchvision\n",
        "import torchvision.transforms as transforms\n",
        "import numpy as np\n",
        "from prettytable import PrettyTable\n",
        "import matplotlib.pyplot as plt\n",
        "from tqdm import tqdm\n",
        "from PIL import Image"
      ]
    },
    {
      "cell_type": "code",
      "execution_count": null,
      "metadata": {
        "id": "rUFGho8OVnnm"
      },
      "outputs": [],
      "source": [
        "def weights_init(m):\n",
        "    if type(m) == nn.Linear:\n",
        "        m.weight.data.normal_(0.0, 1e-3)\n",
        "        m.bias.data.fill_(0.)\n",
        "\n",
        "def update_lr(optimizer, lr):\n",
        "    for param_group in optimizer.param_groups:\n",
        "        param_group['lr'] = lr"
      ]
    },
    {
      "cell_type": "code",
      "execution_count": null,
      "metadata": {
        "colab": {
          "base_uri": "https://localhost:8080/"
        },
        "id": "VIbbJ1jCVnqC",
        "outputId": "19b80bc2-f310-4eed-a1d9-c114f0c0cd39"
      },
      "outputs": [
        {
          "output_type": "stream",
          "name": "stdout",
          "text": [
            "Using device: cuda\n"
          ]
        }
      ],
      "source": [
        "#--------------------------------\n",
        "# Device configuration\n",
        "#--------------------------------\n",
        "device = torch.device('cuda' if torch.cuda.is_available() else 'cpu')\n",
        "print('Using device: %s'%device)"
      ]
    },
    {
      "cell_type": "code",
      "execution_count": null,
      "metadata": {
        "id": "0ULr0yuQVnsk"
      },
      "outputs": [],
      "source": [
        "#--------------------------------\n",
        "# Hyper-parameters\n",
        "#--------------------------------\n",
        "input_size = 3\n",
        "num_classes = 10\n",
        "hidden_size = [128, 512, 512, 512, 512]\n",
        "num_epochs = 20\n",
        "batch_size = 200\n",
        "learning_rate = 2e-3\n",
        "learning_rate_decay = 0.95\n",
        "reg = 0.001\n",
        "num_training = 49000\n",
        "num_validation =1000\n",
        "norm_layer = None"
      ]
    },
    {
      "cell_type": "code",
      "execution_count": null,
      "metadata": {
        "colab": {
          "base_uri": "https://localhost:8080/"
        },
        "id": "Nwfli4v7Vnu6",
        "outputId": "024e2ce9-26c4-4ac8-90ff-975a678998c4"
      },
      "outputs": [
        {
          "output_type": "stream",
          "name": "stdout",
          "text": [
            "Files already downloaded and verified\n"
          ]
        }
      ],
      "source": [
        "#-------------------------------------------------\n",
        "# Load the CIFAR-10 dataset\n",
        "#-------------------------------------------------\n",
        "#################################################################################\n",
        "# TODO: Q3.a Choose the right data augmentation transforms with the right       #\n",
        "# hyper-parameters and put them in the data_aug_transforms variable             #\n",
        "#################################################################################\n",
        "\n",
        "# *****START OF YOUR CODE (DO NOT DELETE/MODIFY THIS LINE)*****\n",
        "\n",
        "# data_aug_transforms = [transforms.Resize(32),\n",
        "#                       transforms.ColorJitter(hue=.05, saturation=.05),\n",
        "#                       transforms.RandomHorizontalFlip(),\n",
        "#                       transforms.RandomRotation(20, resample=Image.BILINEAR)]\n",
        "data_aug_transforms = []\n",
        "\n",
        "# *****END OF YOUR CODE (DO NOT DELETE/MODIFY THIS LINE)*****\n",
        "# norm_transform = transforms.Compose(data_aug_transforms + [transforms.ToTensor(),\n",
        "#                                      transforms.Normalize((0.5, 0.5, 0.5), (0.5, 0.5, 0.5))])\n",
        "norm_transform = transforms.Compose(data_aug_transforms + [transforms.ToTensor(),\n",
        "                                     transforms.Normalize((0.485, 0.456, 0.406), (0.229, 0.224, 0.225))])\n",
        "\n",
        "# test_transform = transforms.Compose([transforms.ToTensor(),\n",
        "#                                      transforms.Normalize((0.5, 0.5, 0.5), (0.5, 0.5, 0.5))])\n",
        "test_transform = transforms.Compose([transforms.ToTensor(),\n",
        "                                     transforms.Normalize((0.485, 0.456, 0.406), (0.229, 0.224, 0.225))])\n",
        "\n",
        "cifar_dataset = torchvision.datasets.CIFAR10(root = 'datasets/',\n",
        "                                           train = True,\n",
        "                                           transform = norm_transform,\n",
        "                                           download = True)\n",
        "\n",
        "test_dataset = torchvision.datasets.CIFAR10(root = 'datasets/',\n",
        "                                          train = False,\n",
        "                                          transform = test_transform)"
      ]
    },
    {
      "cell_type": "code",
      "execution_count": null,
      "metadata": {
        "id": "8h077MRbVnxF"
      },
      "outputs": [],
      "source": [
        "#-------------------------------------------------\n",
        "# Prepare the training and validation splits\n",
        "#-------------------------------------------------\n",
        "mask = list(range(num_training))\n",
        "train_dataset = torch.utils.data.Subset(cifar_dataset, mask)\n",
        "mask = list(range(num_training, num_training + num_validation))\n",
        "val_dataset = torch.utils.data.Subset(cifar_dataset, mask)"
      ]
    },
    {
      "cell_type": "code",
      "execution_count": null,
      "metadata": {
        "id": "nnkF5PfOVnzi"
      },
      "outputs": [],
      "source": [
        "#-------------------------------------------------\n",
        "# Data loader\n",
        "#-------------------------------------------------\n",
        "train_loader = torch.utils.data.DataLoader(dataset = train_dataset,\n",
        "                                           batch_size = batch_size,\n",
        "                                           shuffle = True)\n",
        "\n",
        "val_loader = torch.utils.data.DataLoader(dataset = val_dataset,\n",
        "                                         batch_size = batch_size,\n",
        "                                         shuffle = False)\n",
        "\n",
        "test_loader = torch.utils.data.DataLoader(dataset = test_dataset,\n",
        "                                          batch_size = batch_size,\n",
        "                                          shuffle = False)"
      ]
    },
    {
      "cell_type": "markdown",
      "source": [
        "### a)\n",
        "We implement the architecture shown in Fig.1, with five convolution blocks.\n",
        "Each block consists of convolution, max pooling, and ReLU operations.\n",
        "\n",
        "### b)\n",
        "We implement a function *PrintModelSize*, which calculates and prints the bumber of parameters.\n",
        "\n",
        "### c)\n",
        "Visualize the filters of the first convolution layer implemented in the previous model."
      ],
      "metadata": {
        "id": "_iFtU3-1g_0j"
      }
    },
    {
      "cell_type": "code",
      "execution_count": null,
      "metadata": {
        "id": "wGLIarDyVn1i"
      },
      "outputs": [],
      "source": [
        "#-------------------------------------------------\n",
        "# Convolutional neural network (Q1.a and Q2.a)\n",
        "# Set norm_layer for different networks whether using batch normalization\n",
        "#-------------------------------------------------\n",
        "class ConvNet(nn.Module):\n",
        "    def __init__(self, input_size, hidden_layers, num_classes, norm_layer = None, drop = None):\n",
        "        super(ConvNet, self).__init__()\n",
        "        #################################################################################\n",
        "        # TODO: Initialize the modules required to implement the convolutional layer    #\n",
        "        # described in the exercise.                                                    #\n",
        "        # For Q1.a make use of conv2d and relu layers from the torch.nn module.         #\n",
        "        # For Q2.a make use of BatchNorm2d layer from the torch.nn module.              #\n",
        "        # For Q3.b Use Dropout layer from the torch.nn module.                          #\n",
        "        #################################################################################\n",
        "        layers = []\n",
        "        # *****START OF YOUR CODE (DO NOT DELETE/MODIFY THIS LINE)*****\n",
        "        for i in hidden_size:\n",
        "            layers.append(nn.Conv2d(input_size, i, kernel_size = (3,3),\n",
        "                                    padding = 1))\n",
        "            if norm_layer == \"BN\":\n",
        "                layers.append(nn.BatchNorm2d(i))\n",
        "            layers.append(nn.MaxPool2d(kernel_size = (2,2), stride = 2))\n",
        "            layers.append(nn.ReLU())\n",
        "            if drop is not None:\n",
        "              layers.append(nn.Dropout(drop))\n",
        "            input_size = i\n",
        "            \n",
        "        layers.append(torch.nn.Flatten())\n",
        "        layers.append(nn.Linear(input_size, num_classes))\n",
        "\n",
        "        self.layers = nn.Sequential(*layers)\n",
        "                                    \n",
        "        # *****END OF YOUR CODE (DO NOT DELETE/MODIFY THIS LINE)*****\n",
        "\n",
        "    def forward(self, x):\n",
        "        #################################################################################\n",
        "        # TODO: Implement the forward pass computations                                 #\n",
        "        #################################################################################\n",
        "        # *****START OF YOUR CODE (DO NOT DELETE/MODIFY THIS LINE)*****\n",
        "\n",
        "        out = self.layers(x)\n",
        "        \n",
        "        # *****END OF YOUR CODE (DO NOT DELETE/MODIFY THIS LINE)*****\n",
        "        return out\n",
        "\n",
        "\n",
        "\n",
        "#-------------------------------------------------\n",
        "# Calculate the model size (Q1.b)\n",
        "# if disp is true, print the model parameters, otherwise, only return the number of parameters.\n",
        "#-------------------------------------------------\n",
        "def PrintModelSize(model, disp=True):\n",
        "    #################################################################################\n",
        "    # TODO: Implement the function to count the number of trainable parameters in   #\n",
        "    # the input model. This useful to track the capacity of the model you are       #\n",
        "    # training                                                                      #\n",
        "    #################################################################################\n",
        "    # *****START OF YOUR CODE (DO NOT DELETE/MODIFY THIS LINE)*****\n",
        "\n",
        "    table = PrettyTable([\"Modules\", \"Parameters\"])\n",
        "    model_sz = 0\n",
        "    for name, parameter in model.named_parameters():\n",
        "        if not parameter.requires_grad: continue\n",
        "        params = parameter.numel()\n",
        "        table.add_row([name, params])\n",
        "        model_sz += params\n",
        "    print(table)\n",
        "    print(f\"Total Trainable Params: {model_sz}\")       \n",
        "    \n",
        "\n",
        "    # *****END OF YOUR CODE (DO NOT DELETE/MODIFY THIS LINE)*****\n",
        "    return model_sz\n",
        "\n",
        "\n",
        "\n",
        "#-------------------------------------------------\n",
        "# Calculate the model size (Q1.c)\n",
        "# visualize the convolution filters of the first convolution layer of the input model\n",
        "#-------------------------------------------------\n",
        "def VisualizeFilter(model):\n",
        "    #################################################################################\n",
        "    # TODO: Implement the functiont to visualize the weights in the first conv layer#\n",
        "    # in the model. Visualize them as a single image of stacked filters.            #\n",
        "    # You can use matlplotlib.imshow to visualize an image in python                #\n",
        "    #################################################################################\n",
        "    # *****START OF YOUR CODE (DO NOT DELETE/MODIFY THIS LINE)*****\n",
        "    \n",
        "    ix = 1\n",
        "    for _ in range(8):\n",
        "        for _ in range(16):\n",
        "            # specify subplot and turn of axis\n",
        "            ax = plt.subplot(8, 16, ix)\n",
        "            ax.set_xticks([])\n",
        "            ax.set_yticks([])\n",
        "            # plot filter channel in grayscale\n",
        "            img = model.layers[0].weight.data.cpu().numpy()[ix-1, :, :, :]\n",
        "            plt.imshow((img * 255).astype(np.uint8))\n",
        "            ix += 1\n",
        "    # show the figure\n",
        "    plt.show()\n",
        "\n",
        "    # *****END OF YOUR CODE (DO NOT DELETE/MODIFY THIS LINE)*****"
      ]
    },
    {
      "cell_type": "code",
      "execution_count": null,
      "metadata": {
        "id": "Hc4JMwj6V6f2",
        "colab": {
          "base_uri": "https://localhost:8080/",
          "height": 995
        },
        "outputId": "e71bf934-e079-4154-8389-646cb21f238d"
      },
      "outputs": [
        {
          "output_type": "stream",
          "name": "stdout",
          "text": [
            "--------------------------------------------------------------------------\n",
            "ConvNet(\n",
            "  (layers): Sequential(\n",
            "    (0): Conv2d(3, 128, kernel_size=(3, 3), stride=(1, 1), padding=(1, 1))\n",
            "    (1): MaxPool2d(kernel_size=(2, 2), stride=2, padding=0, dilation=1, ceil_mode=False)\n",
            "    (2): ReLU()\n",
            "    (3): Conv2d(128, 512, kernel_size=(3, 3), stride=(1, 1), padding=(1, 1))\n",
            "    (4): MaxPool2d(kernel_size=(2, 2), stride=2, padding=0, dilation=1, ceil_mode=False)\n",
            "    (5): ReLU()\n",
            "    (6): Conv2d(512, 512, kernel_size=(3, 3), stride=(1, 1), padding=(1, 1))\n",
            "    (7): MaxPool2d(kernel_size=(2, 2), stride=2, padding=0, dilation=1, ceil_mode=False)\n",
            "    (8): ReLU()\n",
            "    (9): Conv2d(512, 512, kernel_size=(3, 3), stride=(1, 1), padding=(1, 1))\n",
            "    (10): MaxPool2d(kernel_size=(2, 2), stride=2, padding=0, dilation=1, ceil_mode=False)\n",
            "    (11): ReLU()\n",
            "    (12): Conv2d(512, 512, kernel_size=(3, 3), stride=(1, 1), padding=(1, 1))\n",
            "    (13): MaxPool2d(kernel_size=(2, 2), stride=2, padding=0, dilation=1, ceil_mode=False)\n",
            "    (14): ReLU()\n",
            "    (15): Flatten(start_dim=1, end_dim=-1)\n",
            "    (16): Linear(in_features=512, out_features=10, bias=True)\n",
            "  )\n",
            ")\n",
            "--------------------------------------------------------------------------\n",
            "+------------------+------------+\n",
            "|     Modules      | Parameters |\n",
            "+------------------+------------+\n",
            "| layers.0.weight  |    3456    |\n",
            "|  layers.0.bias   |    128     |\n",
            "| layers.3.weight  |   589824   |\n",
            "|  layers.3.bias   |    512     |\n",
            "| layers.6.weight  |  2359296   |\n",
            "|  layers.6.bias   |    512     |\n",
            "| layers.9.weight  |  2359296   |\n",
            "|  layers.9.bias   |    512     |\n",
            "| layers.12.weight |  2359296   |\n",
            "|  layers.12.bias  |    512     |\n",
            "| layers.16.weight |    5120    |\n",
            "|  layers.16.bias  |     10     |\n",
            "+------------------+------------+\n",
            "Total Trainable Params: 7678474\n",
            "--------------------------------------------------------------------------\n"
          ]
        },
        {
          "output_type": "display_data",
          "data": {
            "text/plain": [
              "<Figure size 432x288 with 128 Axes>"
            ],
            "image/png": "[encoded data removed]"
          },
          "metadata": {}
        }
      ],
      "source": [
        "#======================================================================================\n",
        "# Q1.a: Implementing convolutional neural net in PyTorch\n",
        "#======================================================================================\n",
        "# In this question we will implement a convolutional neural networks using the PyTorch\n",
        "# library.  Please complete the code for the ConvNet class evaluating the model\n",
        "#--------------------------------------------------------------------------------------\n",
        "model = ConvNet(input_size, hidden_size, num_classes, norm_layer = norm_layer).to(device)\n",
        "# Q2.a - Initialize the model with correct batch norm layer\n",
        "\n",
        "model.apply(weights_init)\n",
        "print(\"--------------------------------------------------------------------------\")\n",
        "# Print the model\n",
        "print(model)\n",
        "print(\"--------------------------------------------------------------------------\")\n",
        "# Print model size\n",
        "#======================================================================================\n",
        "# Q1.b: Implementing the function to count the number of trainable parameters in the model\n",
        "#======================================================================================\n",
        "PrintModelSize(model)\n",
        "print(\"--------------------------------------------------------------------------\")\n",
        "# #======================================================================================\n",
        "# # Q1.a: Implementing the function to visualize the filters in the first conv layers.\n",
        "# # Visualize the filters before training\n",
        "# #======================================================================================\n",
        "VisualizeFilter(model)"
      ]
    },
    {
      "cell_type": "code",
      "execution_count": null,
      "metadata": {
        "id": "HOsUszGNV6iM"
      },
      "outputs": [],
      "source": [
        "## Function to train the model\n",
        "\n",
        "def train_model(model, early_stop = False):\n",
        "    # Loss and optimizer\n",
        "    criterion = nn.CrossEntropyLoss()\n",
        "    optimizer = torch.optim.Adam(model.parameters(), lr = learning_rate, weight_decay = reg)\n",
        "\n",
        "    # Train the model\n",
        "    lr = learning_rate\n",
        "    total_step = len(train_loader)\n",
        "    loss_train = []\n",
        "    loss_val = []\n",
        "    best_accuracy = None\n",
        "    accuracy_val = []\n",
        "    best_model = type(model)(input_size, hidden_size, num_classes, norm_layer = None) # get a new instance\n",
        "    #best_model = ConvNet(input_size, hidden_size, num_classes, norm_layer=norm_layer)\n",
        "    for epoch in tqdm(range(num_epochs)):\n",
        "\n",
        "        model.train()\n",
        "\n",
        "        loss_iter = 0\n",
        "        for i, (images, labels) in enumerate(train_loader):\n",
        "            # Move tensors to the configured device\n",
        "            images = images.to(device)\n",
        "            labels = labels.to(device)\n",
        "\n",
        "            # Forward pass\n",
        "            outputs = model(images)\n",
        "            loss = criterion(outputs, labels)\n",
        "\n",
        "            # Backward and optimize\n",
        "            optimizer.zero_grad()\n",
        "            loss.backward()\n",
        "            optimizer.step()\n",
        "\n",
        "            loss_iter += loss.item()\n",
        "            \n",
        "            if (i+1) % 100 == 0:\n",
        "                print ('Epoch [{}/{}], Step [{}/{}], Loss: {:.4f}'\n",
        "                    .format(epoch+1, num_epochs, i+1, total_step, loss.item()))\n",
        "                \n",
        "        epoch_loss_train = loss_iter/(len(train_loader)*batch_size)\n",
        "        loss_train.append(epoch_loss_train)\n",
        "\n",
        "        \n",
        "        # Code to update the lr\n",
        "        lr *= learning_rate_decay\n",
        "        update_lr(optimizer, lr)\n",
        "        \n",
        "            \n",
        "        model.eval()\n",
        "        with torch.no_grad():\n",
        "            correct = 0\n",
        "            total = 0\n",
        "            loss_iter = 0\n",
        "            for images, labels in val_loader:\n",
        "                images = images.to(device)\n",
        "                labels = labels.to(device)\n",
        "                \n",
        "                outputs = model(images)\n",
        "                _, predicted = torch.max(outputs.data, 1)\n",
        "                \n",
        "                total += labels.size(0)\n",
        "                correct += (predicted == labels).sum().item()\n",
        "                \n",
        "                loss = criterion(outputs, labels)\n",
        "                loss_iter += loss.item()\n",
        "            \n",
        "            epoch_loss_val = loss_iter/(len(val_loader)*batch_size)\n",
        "            loss_val.append(epoch_loss_val)\n",
        "            \n",
        "            accuracy = 100 * correct / total\n",
        "            accuracy_val.append(accuracy)\n",
        "            print('Validation accuracy is: {} %'.format(accuracy))\n",
        "\n",
        "        # early stopping\n",
        "        if early_stop == True:\n",
        "            early_stopping(epoch_loss_train, epoch_loss_val)\n",
        "            if early_stopping.early_stop:\n",
        "                print(\"We are at epoch:\", epoch)\n",
        "                break\n",
        "\n",
        "    res = [loss_train, loss_val, accuracy_val]\n",
        "    return(res)"
      ]
    },
    {
      "cell_type": "code",
      "source": [
        "## Train the model without BN\n",
        "loss_train, loss_val, accuracy_val = train_model(model)"
      ],
      "metadata": {
        "id": "4dNq8boVuUS-",
        "colab": {
          "base_uri": "https://localhost:8080/"
        },
        "outputId": "2f4636f5-738a-4bb7-9f75-c16bf9146dc7"
      },
      "execution_count": null,
      "outputs": [
        {
          "output_type": "stream",
          "name": "stderr",
          "text": [
            "\r  0%|          | 0/20 [00:00<?, ?it/s]"
          ]
        },
        {
          "output_type": "stream",
          "name": "stdout",
          "text": [
            "Epoch [1/20], Step [100/245], Loss: 1.7580\n",
            "Epoch [1/20], Step [200/245], Loss: 1.3329\n"
          ]
        },
        {
          "output_type": "stream",
          "name": "stderr",
          "text": [
            "\r  5%|▌         | 1/20 [00:30<09:46, 30.87s/it]"
          ]
        },
        {
          "output_type": "stream",
          "name": "stdout",
          "text": [
            "Validation accuracy is: 55.1 %\n",
            "Epoch [2/20], Step [100/245], Loss: 1.0573\n",
            "Epoch [2/20], Step [200/245], Loss: 1.0229\n"
          ]
        },
        {
          "output_type": "stream",
          "name": "stderr",
          "text": [
            "\r 10%|█         | 2/20 [00:57<08:27, 28.22s/it]"
          ]
        },
        {
          "output_type": "stream",
          "name": "stdout",
          "text": [
            "Validation accuracy is: 63.8 %\n",
            "Epoch [3/20], Step [100/245], Loss: 0.8747\n",
            "Epoch [3/20], Step [200/245], Loss: 0.7253\n"
          ]
        },
        {
          "output_type": "stream",
          "name": "stderr",
          "text": [
            "\r 15%|█▌        | 3/20 [01:24<07:49, 27.60s/it]"
          ]
        },
        {
          "output_type": "stream",
          "name": "stdout",
          "text": [
            "Validation accuracy is: 71.1 %\n",
            "Epoch [4/20], Step [100/245], Loss: 0.7880\n",
            "Epoch [4/20], Step [200/245], Loss: 0.6141\n"
          ]
        },
        {
          "output_type": "stream",
          "name": "stderr",
          "text": [
            "\r 20%|██        | 4/20 [01:50<07:12, 27.03s/it]"
          ]
        },
        {
          "output_type": "stream",
          "name": "stdout",
          "text": [
            "Validation accuracy is: 72.7 %\n",
            "Epoch [5/20], Step [100/245], Loss: 0.6909\n",
            "Epoch [5/20], Step [200/245], Loss: 0.7750\n"
          ]
        },
        {
          "output_type": "stream",
          "name": "stderr",
          "text": [
            "\r 25%|██▌       | 5/20 [02:16<06:41, 26.77s/it]"
          ]
        },
        {
          "output_type": "stream",
          "name": "stdout",
          "text": [
            "Validation accuracy is: 77.0 %\n",
            "Epoch [6/20], Step [100/245], Loss: 0.5826\n",
            "Epoch [6/20], Step [200/245], Loss: 0.6742\n"
          ]
        },
        {
          "output_type": "stream",
          "name": "stderr",
          "text": [
            "\r 30%|███       | 6/20 [02:42<06:12, 26.58s/it]"
          ]
        },
        {
          "output_type": "stream",
          "name": "stdout",
          "text": [
            "Validation accuracy is: 77.6 %\n",
            "Epoch [7/20], Step [100/245], Loss: 0.5020\n",
            "Epoch [7/20], Step [200/245], Loss: 0.4698\n"
          ]
        },
        {
          "output_type": "stream",
          "name": "stderr",
          "text": [
            "\r 35%|███▌      | 7/20 [03:08<05:43, 26.46s/it]"
          ]
        },
        {
          "output_type": "stream",
          "name": "stdout",
          "text": [
            "Validation accuracy is: 76.7 %\n",
            "Epoch [8/20], Step [100/245], Loss: 0.4497\n",
            "Epoch [8/20], Step [200/245], Loss: 0.4611\n"
          ]
        },
        {
          "output_type": "stream",
          "name": "stderr",
          "text": [
            "\r 40%|████      | 8/20 [03:35<05:17, 26.49s/it]"
          ]
        },
        {
          "output_type": "stream",
          "name": "stdout",
          "text": [
            "Validation accuracy is: 78.3 %\n",
            "Epoch [9/20], Step [100/245], Loss: 0.4800\n",
            "Epoch [9/20], Step [200/245], Loss: 0.3749\n"
          ]
        },
        {
          "output_type": "stream",
          "name": "stderr",
          "text": [
            "\r 45%|████▌     | 9/20 [04:01<04:50, 26.40s/it]"
          ]
        },
        {
          "output_type": "stream",
          "name": "stdout",
          "text": [
            "Validation accuracy is: 80.1 %\n",
            "Epoch [10/20], Step [100/245], Loss: 0.2981\n",
            "Epoch [10/20], Step [200/245], Loss: 0.2549\n"
          ]
        },
        {
          "output_type": "stream",
          "name": "stderr",
          "text": [
            "\r 50%|█████     | 10/20 [04:27<04:22, 26.29s/it]"
          ]
        },
        {
          "output_type": "stream",
          "name": "stdout",
          "text": [
            "Validation accuracy is: 81.0 %\n",
            "Epoch [11/20], Step [100/245], Loss: 0.2021\n",
            "Epoch [11/20], Step [200/245], Loss: 0.3957\n"
          ]
        },
        {
          "output_type": "stream",
          "name": "stderr",
          "text": [
            "\r 55%|█████▌    | 11/20 [04:53<03:56, 26.23s/it]"
          ]
        },
        {
          "output_type": "stream",
          "name": "stdout",
          "text": [
            "Validation accuracy is: 81.5 %\n",
            "Epoch [12/20], Step [100/245], Loss: 0.2087\n",
            "Epoch [12/20], Step [200/245], Loss: 0.2682\n"
          ]
        },
        {
          "output_type": "stream",
          "name": "stderr",
          "text": [
            "\r 60%|██████    | 12/20 [05:20<03:29, 26.21s/it]"
          ]
        },
        {
          "output_type": "stream",
          "name": "stdout",
          "text": [
            "Validation accuracy is: 80.3 %\n",
            "Epoch [13/20], Step [100/245], Loss: 0.1811\n",
            "Epoch [13/20], Step [200/245], Loss: 0.1710\n"
          ]
        },
        {
          "output_type": "stream",
          "name": "stderr",
          "text": [
            "\r 65%|██████▌   | 13/20 [05:46<03:03, 26.17s/it]"
          ]
        },
        {
          "output_type": "stream",
          "name": "stdout",
          "text": [
            "Validation accuracy is: 81.3 %\n",
            "Epoch [14/20], Step [100/245], Loss: 0.1373\n",
            "Epoch [14/20], Step [200/245], Loss: 0.1900\n"
          ]
        },
        {
          "output_type": "stream",
          "name": "stderr",
          "text": [
            "\r 70%|███████   | 14/20 [06:12<02:36, 26.16s/it]"
          ]
        },
        {
          "output_type": "stream",
          "name": "stdout",
          "text": [
            "Validation accuracy is: 78.5 %\n",
            "Epoch [15/20], Step [100/245], Loss: 0.1010\n",
            "Epoch [15/20], Step [200/245], Loss: 0.1439\n"
          ]
        },
        {
          "output_type": "stream",
          "name": "stderr",
          "text": [
            "\r 75%|███████▌  | 15/20 [06:38<02:10, 26.14s/it]"
          ]
        },
        {
          "output_type": "stream",
          "name": "stdout",
          "text": [
            "Validation accuracy is: 79.2 %\n",
            "Epoch [16/20], Step [100/245], Loss: 0.1506\n",
            "Epoch [16/20], Step [200/245], Loss: 0.1266\n"
          ]
        },
        {
          "output_type": "stream",
          "name": "stderr",
          "text": [
            "\r 80%|████████  | 16/20 [07:04<01:44, 26.24s/it]"
          ]
        },
        {
          "output_type": "stream",
          "name": "stdout",
          "text": [
            "Validation accuracy is: 79.6 %\n",
            "Epoch [17/20], Step [100/245], Loss: 0.1084\n",
            "Epoch [17/20], Step [200/245], Loss: 0.0863\n"
          ]
        },
        {
          "output_type": "stream",
          "name": "stderr",
          "text": [
            "\r 85%|████████▌ | 17/20 [07:30<01:18, 26.19s/it]"
          ]
        },
        {
          "output_type": "stream",
          "name": "stdout",
          "text": [
            "Validation accuracy is: 80.7 %\n",
            "Epoch [18/20], Step [100/245], Loss: 0.0712\n",
            "Epoch [18/20], Step [200/245], Loss: 0.1242\n"
          ]
        },
        {
          "output_type": "stream",
          "name": "stderr",
          "text": [
            "\r 90%|█████████ | 18/20 [07:56<00:52, 26.12s/it]"
          ]
        },
        {
          "output_type": "stream",
          "name": "stdout",
          "text": [
            "Validation accuracy is: 81.0 %\n",
            "Epoch [19/20], Step [100/245], Loss: 0.0772\n",
            "Epoch [19/20], Step [200/245], Loss: 0.0512\n"
          ]
        },
        {
          "output_type": "stream",
          "name": "stderr",
          "text": [
            "\r 95%|█████████▌| 19/20 [08:22<00:26, 26.06s/it]"
          ]
        },
        {
          "output_type": "stream",
          "name": "stdout",
          "text": [
            "Validation accuracy is: 80.3 %\n",
            "Epoch [20/20], Step [100/245], Loss: 0.0678\n",
            "Epoch [20/20], Step [200/245], Loss: 0.0601\n"
          ]
        },
        {
          "output_type": "stream",
          "name": "stderr",
          "text": [
            "100%|██████████| 20/20 [08:49<00:00, 26.46s/it]"
          ]
        },
        {
          "output_type": "stream",
          "name": "stdout",
          "text": [
            "Validation accuracy is: 80.7 %\n"
          ]
        },
        {
          "output_type": "stream",
          "name": "stderr",
          "text": [
            "\n"
          ]
        }
      ]
    },
    {
      "cell_type": "code",
      "source": [
        "## Plot validation and training losses\n",
        "model.eval()\n",
        "\n",
        "plt.rcParams[\"figure.figsize\"] = (8,4)\n",
        "plt.figure(2)\n",
        "plt.plot(loss_train, 'r', label = 'Train loss')\n",
        "plt.plot(loss_val, 'g', label = 'Val loss')\n",
        "plt.xticks(range(0, num_epochs))\n",
        "plt.xlabel('Epochs')\n",
        "plt.legend()\n",
        "plt.grid(True)\n",
        "plt.tight_layout()\n",
        "plt.show()\n",
        "                                                            \n",
        "print(\"--------------------------------------------------------------------------\")\n",
        "\n",
        "## Plot validation accuracy \n",
        "plt.rcParams[\"figure.figsize\"] = (8,4)\n",
        "plt.figure(3)\n",
        "plt.plot(accuracy_val, \"r\", label = 'Val accuracy')\n",
        "plt.xticks(range(0, num_epochs))\n",
        "plt.ylabel('Acccuracy [%]')\n",
        "plt.xlabel('Epochs')\n",
        "plt.legend()\n",
        "plt.grid(True)\n",
        "plt.tight_layout()\n",
        "plt.show()"
      ],
      "metadata": {
        "colab": {
          "base_uri": "https://localhost:8080/",
          "height": 595
        },
        "id": "WZc0PTYFHosK",
        "outputId": "1eb7bd46-0779-437a-db19-77836ebf3771"
      },
      "execution_count": null,
      "outputs": [
        {
          "output_type": "display_data",
          "data": {
            "text/plain": [
              "<Figure size 576x288 with 1 Axes>"
            ],
            "image/png": "[encoded data removed]"
          },
          "metadata": {
            "needs_background": "light"
          }
        },
        {
          "output_type": "stream",
          "name": "stdout",
          "text": [
            "--------------------------------------------------------------------------\n"
          ]
        },
        {
          "output_type": "display_data",
          "data": {
            "text/plain": [
              "<Figure size 576x288 with 1 Axes>"
            ],
            "image/png": "[encoded data removed]"
          },
          "metadata": {
            "needs_background": "light"
          }
        }
      ]
    },
    {
      "cell_type": "code",
      "source": [
        "## Performance\n",
        "print(\"Best accuracy:\", max(accuracy_val), \"with epoch:\", accuracy_val.index(max(accuracy_val))+1)\n",
        "print(\"----------------------------------\")\n",
        "print(\"Min loss:\", round(min(loss_val), 5), \"with epoch:\", loss_val.index(min(loss_val)))"
      ],
      "metadata": {
        "id": "xtIGKA6pYHhX",
        "colab": {
          "base_uri": "https://localhost:8080/"
        },
        "outputId": "2c1167d0-eedf-4b79-de7c-b70acd0efe20"
      },
      "execution_count": null,
      "outputs": [
        {
          "output_type": "stream",
          "name": "stdout",
          "text": [
            "Best accuracy: 81.5 with epoch: 11\n",
            "----------------------------------\n",
            "Min loss: 0.00301 with epoch: 10\n"
          ]
        }
      ]
    },
    {
      "cell_type": "code",
      "source": [
        "## Visualize filter after the training of the model\n",
        "VisualizeFilter(model)"
      ],
      "metadata": {
        "id": "YvxjcWBlmafR",
        "colab": {
          "base_uri": "https://localhost:8080/",
          "height": 252
        },
        "outputId": "048ad298-6f8f-46b1-d04b-a5fdc4cdc34b"
      },
      "execution_count": null,
      "outputs": [
        {
          "output_type": "display_data",
          "data": {
            "text/plain": [
              "<Figure size 576x288 with 128 Axes>"
            ],
            "image/png": "[encoded data removed]"
          },
          "metadata": {}
        }
      ]
    },
    {
      "cell_type": "markdown",
      "source": [
        "As we can see, after the training step, some filters appear the same color, this could mean that the networks is starting to find common patterns."
      ],
      "metadata": {
        "id": "e2GySA2o0j1o"
      }
    },
    {
      "cell_type": "code",
      "source": [
        "## Adding Batch Normalization\n",
        "norm_layer = \"BN\"\n",
        "model = ConvNet(input_size, hidden_size, num_classes, norm_layer = norm_layer).to(device)\n",
        "model.apply(weights_init)"
      ],
      "metadata": {
        "id": "WizoKIA4f9oP",
        "colab": {
          "base_uri": "https://localhost:8080/"
        },
        "outputId": "8cf176cc-c91d-4951-f1a2-7ae145199b9a"
      },
      "execution_count": null,
      "outputs": [
        {
          "output_type": "execute_result",
          "data": {
            "text/plain": [
              "ConvNet(\n",
              "  (layers): Sequential(\n",
              "    (0): Conv2d(3, 128, kernel_size=(3, 3), stride=(1, 1), padding=(1, 1))\n",
              "    (1): BatchNorm2d(128, eps=1e-05, momentum=0.1, affine=True, track_running_stats=True)\n",
              "    (2): MaxPool2d(kernel_size=(2, 2), stride=2, padding=0, dilation=1, ceil_mode=False)\n",
              "    (3): ReLU()\n",
              "    (4): Conv2d(128, 512, kernel_size=(3, 3), stride=(1, 1), padding=(1, 1))\n",
              "    (5): BatchNorm2d(512, eps=1e-05, momentum=0.1, affine=True, track_running_stats=True)\n",
              "    (6): MaxPool2d(kernel_size=(2, 2), stride=2, padding=0, dilation=1, ceil_mode=False)\n",
              "    (7): ReLU()\n",
              "    (8): Conv2d(512, 512, kernel_size=(3, 3), stride=(1, 1), padding=(1, 1))\n",
              "    (9): BatchNorm2d(512, eps=1e-05, momentum=0.1, affine=True, track_running_stats=True)\n",
              "    (10): MaxPool2d(kernel_size=(2, 2), stride=2, padding=0, dilation=1, ceil_mode=False)\n",
              "    (11): ReLU()\n",
              "    (12): Conv2d(512, 512, kernel_size=(3, 3), stride=(1, 1), padding=(1, 1))\n",
              "    (13): BatchNorm2d(512, eps=1e-05, momentum=0.1, affine=True, track_running_stats=True)\n",
              "    (14): MaxPool2d(kernel_size=(2, 2), stride=2, padding=0, dilation=1, ceil_mode=False)\n",
              "    (15): ReLU()\n",
              "    (16): Conv2d(512, 512, kernel_size=(3, 3), stride=(1, 1), padding=(1, 1))\n",
              "    (17): BatchNorm2d(512, eps=1e-05, momentum=0.1, affine=True, track_running_stats=True)\n",
              "    (18): MaxPool2d(kernel_size=(2, 2), stride=2, padding=0, dilation=1, ceil_mode=False)\n",
              "    (19): ReLU()\n",
              "    (20): Flatten(start_dim=1, end_dim=-1)\n",
              "    (21): Linear(in_features=512, out_features=10, bias=True)\n",
              "  )\n",
              ")"
            ]
          },
          "metadata": {},
          "execution_count": 15
        }
      ]
    },
    {
      "cell_type": "code",
      "source": [
        "## Training model with BN\n",
        "loss_train, loss_val, accuracy_val = train_model(model)"
      ],
      "metadata": {
        "id": "5A8_18Eof_KG",
        "colab": {
          "base_uri": "https://localhost:8080/"
        },
        "outputId": "2a6eb5d0-cd1d-4872-f4ed-a6d617770f25"
      },
      "execution_count": null,
      "outputs": [
        {
          "output_type": "stream",
          "name": "stderr",
          "text": [
            "\r  0%|          | 0/20 [00:00<?, ?it/s]"
          ]
        },
        {
          "output_type": "stream",
          "name": "stdout",
          "text": [
            "Epoch [1/20], Step [100/245], Loss: 1.2969\n",
            "Epoch [1/20], Step [200/245], Loss: 1.2172\n"
          ]
        },
        {
          "output_type": "stream",
          "name": "stderr",
          "text": [
            "\r  5%|▌         | 1/20 [00:29<09:22, 29.58s/it]"
          ]
        },
        {
          "output_type": "stream",
          "name": "stdout",
          "text": [
            "Validation accuracy is: 60.5 %\n",
            "Epoch [2/20], Step [100/245], Loss: 0.9687\n",
            "Epoch [2/20], Step [200/245], Loss: 0.8400\n"
          ]
        },
        {
          "output_type": "stream",
          "name": "stderr",
          "text": [
            "\r 10%|█         | 2/20 [01:01<09:15, 30.88s/it]"
          ]
        },
        {
          "output_type": "stream",
          "name": "stdout",
          "text": [
            "Validation accuracy is: 59.8 %\n",
            "Epoch [3/20], Step [100/245], Loss: 0.9169\n",
            "Epoch [3/20], Step [200/245], Loss: 0.7441\n"
          ]
        },
        {
          "output_type": "stream",
          "name": "stderr",
          "text": [
            "\r 15%|█▌        | 3/20 [01:31<08:35, 30.35s/it]"
          ]
        },
        {
          "output_type": "stream",
          "name": "stdout",
          "text": [
            "Validation accuracy is: 67.0 %\n",
            "Epoch [4/20], Step [100/245], Loss: 0.6340\n",
            "Epoch [4/20], Step [200/245], Loss: 0.7239\n"
          ]
        },
        {
          "output_type": "stream",
          "name": "stderr",
          "text": [
            "\r 20%|██        | 4/20 [02:00<08:02, 30.13s/it]"
          ]
        },
        {
          "output_type": "stream",
          "name": "stdout",
          "text": [
            "Validation accuracy is: 72.8 %\n",
            "Epoch [5/20], Step [100/245], Loss: 0.6205\n",
            "Epoch [5/20], Step [200/245], Loss: 0.6936\n"
          ]
        },
        {
          "output_type": "stream",
          "name": "stderr",
          "text": [
            "\r 25%|██▌       | 5/20 [02:30<07:26, 29.78s/it]"
          ]
        },
        {
          "output_type": "stream",
          "name": "stdout",
          "text": [
            "Validation accuracy is: 79.1 %\n",
            "Epoch [6/20], Step [100/245], Loss: 0.5807\n",
            "Epoch [6/20], Step [200/245], Loss: 0.6148\n"
          ]
        },
        {
          "output_type": "stream",
          "name": "stderr",
          "text": [
            "\r 30%|███       | 6/20 [02:59<06:53, 29.56s/it]"
          ]
        },
        {
          "output_type": "stream",
          "name": "stdout",
          "text": [
            "Validation accuracy is: 70.7 %\n",
            "Epoch [7/20], Step [100/245], Loss: 0.4703\n",
            "Epoch [7/20], Step [200/245], Loss: 0.5214\n"
          ]
        },
        {
          "output_type": "stream",
          "name": "stderr",
          "text": [
            "\r 35%|███▌      | 7/20 [03:27<06:20, 29.29s/it]"
          ]
        },
        {
          "output_type": "stream",
          "name": "stdout",
          "text": [
            "Validation accuracy is: 80.7 %\n",
            "Epoch [8/20], Step [100/245], Loss: 0.3744\n",
            "Epoch [8/20], Step [200/245], Loss: 0.3758\n"
          ]
        },
        {
          "output_type": "stream",
          "name": "stderr",
          "text": [
            "\r 40%|████      | 8/20 [03:56<05:49, 29.12s/it]"
          ]
        },
        {
          "output_type": "stream",
          "name": "stdout",
          "text": [
            "Validation accuracy is: 80.7 %\n",
            "Epoch [9/20], Step [100/245], Loss: 0.4570\n",
            "Epoch [9/20], Step [200/245], Loss: 0.3797\n"
          ]
        },
        {
          "output_type": "stream",
          "name": "stderr",
          "text": [
            "\r 45%|████▌     | 9/20 [04:25<05:18, 28.98s/it]"
          ]
        },
        {
          "output_type": "stream",
          "name": "stdout",
          "text": [
            "Validation accuracy is: 81.2 %\n",
            "Epoch [10/20], Step [100/245], Loss: 0.2849\n",
            "Epoch [10/20], Step [200/245], Loss: 0.3126\n"
          ]
        },
        {
          "output_type": "stream",
          "name": "stderr",
          "text": [
            "\r 50%|█████     | 10/20 [04:54<04:49, 28.94s/it]"
          ]
        },
        {
          "output_type": "stream",
          "name": "stdout",
          "text": [
            "Validation accuracy is: 78.2 %\n",
            "Epoch [11/20], Step [100/245], Loss: 0.1715\n",
            "Epoch [11/20], Step [200/245], Loss: 0.3151\n"
          ]
        },
        {
          "output_type": "stream",
          "name": "stderr",
          "text": [
            "\r 55%|█████▌    | 11/20 [05:22<04:19, 28.84s/it]"
          ]
        },
        {
          "output_type": "stream",
          "name": "stdout",
          "text": [
            "Validation accuracy is: 79.7 %\n",
            "Epoch [12/20], Step [100/245], Loss: 0.1879\n",
            "Epoch [12/20], Step [200/245], Loss: 0.2282\n"
          ]
        },
        {
          "output_type": "stream",
          "name": "stderr",
          "text": [
            "\r 60%|██████    | 12/20 [05:51<03:49, 28.72s/it]"
          ]
        },
        {
          "output_type": "stream",
          "name": "stdout",
          "text": [
            "Validation accuracy is: 78.9 %\n",
            "Epoch [13/20], Step [100/245], Loss: 0.1906\n",
            "Epoch [13/20], Step [200/245], Loss: 0.1784\n"
          ]
        },
        {
          "output_type": "stream",
          "name": "stderr",
          "text": [
            "\r 65%|██████▌   | 13/20 [06:19<03:20, 28.64s/it]"
          ]
        },
        {
          "output_type": "stream",
          "name": "stdout",
          "text": [
            "Validation accuracy is: 82.4 %\n",
            "Epoch [14/20], Step [100/245], Loss: 0.1193\n",
            "Epoch [14/20], Step [200/245], Loss: 0.1376\n"
          ]
        },
        {
          "output_type": "stream",
          "name": "stderr",
          "text": [
            "\r 70%|███████   | 14/20 [06:48<02:51, 28.57s/it]"
          ]
        },
        {
          "output_type": "stream",
          "name": "stdout",
          "text": [
            "Validation accuracy is: 78.6 %\n",
            "Epoch [15/20], Step [100/245], Loss: 0.0964\n",
            "Epoch [15/20], Step [200/245], Loss: 0.0648\n"
          ]
        },
        {
          "output_type": "stream",
          "name": "stderr",
          "text": [
            "\r 75%|███████▌  | 15/20 [07:16<02:22, 28.49s/it]"
          ]
        },
        {
          "output_type": "stream",
          "name": "stdout",
          "text": [
            "Validation accuracy is: 82.2 %\n",
            "Epoch [16/20], Step [100/245], Loss: 0.0969\n",
            "Epoch [16/20], Step [200/245], Loss: 0.1191\n"
          ]
        },
        {
          "output_type": "stream",
          "name": "stderr",
          "text": [
            "\r 80%|████████  | 16/20 [07:44<01:53, 28.42s/it]"
          ]
        },
        {
          "output_type": "stream",
          "name": "stdout",
          "text": [
            "Validation accuracy is: 82.3 %\n",
            "Epoch [17/20], Step [100/245], Loss: 0.0520\n",
            "Epoch [17/20], Step [200/245], Loss: 0.0565\n"
          ]
        },
        {
          "output_type": "stream",
          "name": "stderr",
          "text": [
            "\r 85%|████████▌ | 17/20 [08:12<01:25, 28.38s/it]"
          ]
        },
        {
          "output_type": "stream",
          "name": "stdout",
          "text": [
            "Validation accuracy is: 81.1 %\n",
            "Epoch [18/20], Step [100/245], Loss: 0.0706\n",
            "Epoch [18/20], Step [200/245], Loss: 0.0986\n"
          ]
        },
        {
          "output_type": "stream",
          "name": "stderr",
          "text": [
            "\r 90%|█████████ | 18/20 [08:41<00:56, 28.45s/it]"
          ]
        },
        {
          "output_type": "stream",
          "name": "stdout",
          "text": [
            "Validation accuracy is: 80.5 %\n",
            "Epoch [19/20], Step [100/245], Loss: 0.0571\n",
            "Epoch [19/20], Step [200/245], Loss: 0.1067\n"
          ]
        },
        {
          "output_type": "stream",
          "name": "stderr",
          "text": [
            "\r 95%|█████████▌| 19/20 [09:09<00:28, 28.38s/it]"
          ]
        },
        {
          "output_type": "stream",
          "name": "stdout",
          "text": [
            "Validation accuracy is: 81.6 %\n",
            "Epoch [20/20], Step [100/245], Loss: 0.0229\n",
            "Epoch [20/20], Step [200/245], Loss: 0.0892\n"
          ]
        },
        {
          "output_type": "stream",
          "name": "stderr",
          "text": [
            "100%|██████████| 20/20 [09:38<00:00, 28.90s/it]"
          ]
        },
        {
          "output_type": "stream",
          "name": "stdout",
          "text": [
            "Validation accuracy is: 81.9 %\n"
          ]
        },
        {
          "output_type": "stream",
          "name": "stderr",
          "text": [
            "\n"
          ]
        }
      ]
    },
    {
      "cell_type": "code",
      "source": [
        "## Plot validation and training losses\n",
        "model.eval()\n",
        "\n",
        "plt.rcParams[\"figure.figsize\"] = (8,4)\n",
        "plt.figure(2)\n",
        "plt.plot(loss_train, 'r', label = 'Train loss')\n",
        "plt.plot(loss_val, 'g', label = 'Val loss')\n",
        "plt.xticks(range(0, num_epochs))\n",
        "plt.xlabel('Epochs')\n",
        "plt.legend()\n",
        "plt.grid(True)\n",
        "plt.tight_layout()\n",
        "plt.show()\n",
        "                                                            \n",
        "print(\"--------------------------------------------------------------------------\")\n",
        "\n",
        "## Plot validation accuracy\n",
        "plt.rcParams[\"figure.figsize\"] = (8,4)\n",
        "plt.figure(3)\n",
        "plt.plot(accuracy_val, \"r\", label = 'Val accuracy')\n",
        "plt.xticks(range(0, num_epochs))\n",
        "plt.ylabel('Acccuracy [%]')\n",
        "plt.xlabel('Epochs')\n",
        "plt.legend()\n",
        "plt.grid(True)\n",
        "plt.tight_layout()\n",
        "plt.show()"
      ],
      "metadata": {
        "id": "ds1bYt3bgFcc",
        "colab": {
          "base_uri": "https://localhost:8080/",
          "height": 595
        },
        "outputId": "76eadcc6-9edd-402f-989f-3438dd3039a5"
      },
      "execution_count": null,
      "outputs": [
        {
          "output_type": "display_data",
          "data": {
            "text/plain": [
              "<Figure size 576x288 with 1 Axes>"
            ],
            "image/png": "[encoded data removed]"
          },
          "metadata": {
            "needs_background": "light"
          }
        },
        {
          "output_type": "stream",
          "name": "stdout",
          "text": [
            "--------------------------------------------------------------------------\n"
          ]
        },
        {
          "output_type": "display_data",
          "data": {
            "text/plain": [
              "<Figure size 576x288 with 1 Axes>"
            ],
            "image/png": "[encoded data removed]"
          },
          "metadata": {
            "needs_background": "light"
          }
        }
      ]
    },
    {
      "cell_type": "code",
      "source": [
        "## Performance\n",
        "print(\"Best accuracy:\", max(accuracy_val), \"with epoch:\", accuracy_val.index(max(accuracy_val)))\n",
        "print(\"----------------------------------\")\n",
        "print(\"Min loss:\", round(min(loss_val), 5), \"with epoch:\", loss_val.index(min(loss_val)))"
      ],
      "metadata": {
        "colab": {
          "base_uri": "https://localhost:8080/"
        },
        "id": "V3QfGaT-IWah",
        "outputId": "6ef7c908-0aaa-4000-df41-705684a54bed"
      },
      "execution_count": null,
      "outputs": [
        {
          "output_type": "stream",
          "name": "stdout",
          "text": [
            "Best accuracy: 82.4 with epoch: 12\n",
            "----------------------------------\n",
            "Min loss: 0.00296 with epoch: 6\n"
          ]
        }
      ]
    },
    {
      "cell_type": "markdown",
      "source": [
        "Adding the batch normalization, we obtain a slightly better performance."
      ],
      "metadata": {
        "id": "Iy9iPeSQ5WeL"
      }
    },
    {
      "cell_type": "markdown",
      "source": [
        "## Question 2: Improve training of Convolutional Networks"
      ],
      "metadata": {
        "id": "v9leVy2el9y2"
      }
    },
    {
      "cell_type": "markdown",
      "source": [
        "### a)\n",
        "In order to increase the speed of convergence, we add batch normalization in the previous model.\n",
        "\n",
        "### b)\n",
        "At this step, we use the early stopping technique to alleviate overfitting. Instead of reporting the performance of final model, with this method we save the best model on the validation set during training.\n",
        "\n",
        "We increase the number of epochs to 50."
      ],
      "metadata": {
        "id": "S6ruZmauf7yM"
      }
    },
    {
      "cell_type": "code",
      "source": [
        "## Implement Class\n",
        "class EarlyStopping():\n",
        "    def __init__(self, tolerance = 5, min_delta = 0):\n",
        "        self.tolerance = tolerance\n",
        "        self.min_delta = min_delta\n",
        "        self.counter = 0\n",
        "        self.early_stop = False\n",
        "\n",
        "    def __call__(self, train_loss, validation_loss):\n",
        "        if (validation_loss - train_loss) > self.min_delta:\n",
        "            self.counter +=1\n",
        "            if self.counter >= self.tolerance:  \n",
        "                self.early_stop = True"
      ],
      "metadata": {
        "id": "cjHp-p-tdFL-"
      },
      "execution_count": null,
      "outputs": []
    },
    {
      "cell_type": "code",
      "source": [
        "## Early Stopping\n",
        "early_stopping = EarlyStopping(tolerance = 5, min_delta = 10)"
      ],
      "metadata": {
        "id": "2ax24RQrtXqm"
      },
      "execution_count": null,
      "outputs": []
    },
    {
      "cell_type": "code",
      "source": [
        "## Train the model without BN and without early stop\n",
        "norm_layer = None\n",
        "num_epochs = 50\n",
        "\n",
        "## Init model\n",
        "model = ConvNet(input_size, hidden_size, num_classes, norm_layer = norm_layer).to(device)\n",
        "model.apply(weights_init)\n",
        "\n",
        "## Train Model\n",
        "loss_train, loss_val, accuracy_val =  train_model(model, early_stop = False)"
      ],
      "metadata": {
        "id": "_d0o_iL4dFS6",
        "colab": {
          "base_uri": "https://localhost:8080/"
        },
        "outputId": "59122943-ea40-4a23-aaff-6c22fe8c01ec"
      },
      "execution_count": null,
      "outputs": [
        {
          "output_type": "stream",
          "name": "stderr",
          "text": [
            "\r  0%|          | 0/50 [00:00<?, ?it/s]"
          ]
        },
        {
          "output_type": "stream",
          "name": "stdout",
          "text": [
            "Epoch [1/50], Step [100/245], Loss: 1.6044\n",
            "Epoch [1/50], Step [200/245], Loss: 1.3762\n"
          ]
        },
        {
          "output_type": "stream",
          "name": "stderr",
          "text": [
            "\r  2%|▏         | 1/50 [00:26<21:38, 26.50s/it]"
          ]
        },
        {
          "output_type": "stream",
          "name": "stdout",
          "text": [
            "Validation accuracy is: 54.3 %\n",
            "Epoch [2/50], Step [100/245], Loss: 1.0812\n",
            "Epoch [2/50], Step [200/245], Loss: 0.9659\n"
          ]
        },
        {
          "output_type": "stream",
          "name": "stderr",
          "text": [
            "\r  4%|▍         | 2/50 [00:52<21:05, 26.36s/it]"
          ]
        },
        {
          "output_type": "stream",
          "name": "stdout",
          "text": [
            "Validation accuracy is: 65.5 %\n",
            "Epoch [3/50], Step [100/245], Loss: 0.7422\n",
            "Epoch [3/50], Step [200/245], Loss: 0.9114\n"
          ]
        },
        {
          "output_type": "stream",
          "name": "stderr",
          "text": [
            "\r  6%|▌         | 3/50 [01:18<20:26, 26.09s/it]"
          ]
        },
        {
          "output_type": "stream",
          "name": "stdout",
          "text": [
            "Validation accuracy is: 71.1 %\n",
            "Epoch [4/50], Step [100/245], Loss: 0.7972\n",
            "Epoch [4/50], Step [200/245], Loss: 0.7882\n"
          ]
        },
        {
          "output_type": "stream",
          "name": "stderr",
          "text": [
            "\r  8%|▊         | 4/50 [01:43<19:47, 25.82s/it]"
          ]
        },
        {
          "output_type": "stream",
          "name": "stdout",
          "text": [
            "Validation accuracy is: 73.2 %\n",
            "Epoch [5/50], Step [100/245], Loss: 0.5916\n",
            "Epoch [5/50], Step [200/245], Loss: 0.5787\n"
          ]
        },
        {
          "output_type": "stream",
          "name": "stderr",
          "text": [
            "\r 10%|█         | 5/50 [02:09<19:23, 25.85s/it]"
          ]
        },
        {
          "output_type": "stream",
          "name": "stdout",
          "text": [
            "Validation accuracy is: 76.0 %\n",
            "Epoch [6/50], Step [100/245], Loss: 0.6001\n",
            "Epoch [6/50], Step [200/245], Loss: 0.5492\n"
          ]
        },
        {
          "output_type": "stream",
          "name": "stderr",
          "text": [
            "\r 12%|█▏        | 6/50 [02:35<18:54, 25.78s/it]"
          ]
        },
        {
          "output_type": "stream",
          "name": "stdout",
          "text": [
            "Validation accuracy is: 76.3 %\n",
            "Epoch [7/50], Step [100/245], Loss: 0.4335\n",
            "Epoch [7/50], Step [200/245], Loss: 0.5013\n"
          ]
        },
        {
          "output_type": "stream",
          "name": "stderr",
          "text": [
            "\r 14%|█▍        | 7/50 [03:01<18:31, 25.85s/it]"
          ]
        },
        {
          "output_type": "stream",
          "name": "stdout",
          "text": [
            "Validation accuracy is: 79.9 %\n",
            "Epoch [8/50], Step [100/245], Loss: 0.5099\n",
            "Epoch [8/50], Step [200/245], Loss: 0.4479\n"
          ]
        },
        {
          "output_type": "stream",
          "name": "stderr",
          "text": [
            "\r 16%|█▌        | 8/50 [03:26<17:59, 25.70s/it]"
          ]
        },
        {
          "output_type": "stream",
          "name": "stdout",
          "text": [
            "Validation accuracy is: 79.8 %\n",
            "Epoch [9/50], Step [100/245], Loss: 0.4986\n",
            "Epoch [9/50], Step [200/245], Loss: 0.3488\n"
          ]
        },
        {
          "output_type": "stream",
          "name": "stderr",
          "text": [
            "\r 18%|█▊        | 9/50 [03:52<17:34, 25.72s/it]"
          ]
        },
        {
          "output_type": "stream",
          "name": "stdout",
          "text": [
            "Validation accuracy is: 78.6 %\n",
            "Epoch [10/50], Step [100/245], Loss: 0.3620\n",
            "Epoch [10/50], Step [200/245], Loss: 0.2552\n"
          ]
        },
        {
          "output_type": "stream",
          "name": "stderr",
          "text": [
            "\r 20%|██        | 10/50 [04:18<17:04, 25.62s/it]"
          ]
        },
        {
          "output_type": "stream",
          "name": "stdout",
          "text": [
            "Validation accuracy is: 80.4 %\n",
            "Epoch [11/50], Step [100/245], Loss: 0.2525\n",
            "Epoch [11/50], Step [200/245], Loss: 0.4189\n"
          ]
        },
        {
          "output_type": "stream",
          "name": "stderr",
          "text": [
            "\r 22%|██▏       | 11/50 [04:43<16:37, 25.57s/it]"
          ]
        },
        {
          "output_type": "stream",
          "name": "stdout",
          "text": [
            "Validation accuracy is: 81.3 %\n",
            "Epoch [12/50], Step [100/245], Loss: 0.2387\n",
            "Epoch [12/50], Step [200/245], Loss: 0.3991\n"
          ]
        },
        {
          "output_type": "stream",
          "name": "stderr",
          "text": [
            "\r 24%|██▍       | 12/50 [05:08<16:10, 25.53s/it]"
          ]
        },
        {
          "output_type": "stream",
          "name": "stdout",
          "text": [
            "Validation accuracy is: 81.5 %\n",
            "Epoch [13/50], Step [100/245], Loss: 0.1824\n",
            "Epoch [13/50], Step [200/245], Loss: 0.2712\n"
          ]
        },
        {
          "output_type": "stream",
          "name": "stderr",
          "text": [
            "\r 26%|██▌       | 13/50 [05:34<15:42, 25.48s/it]"
          ]
        },
        {
          "output_type": "stream",
          "name": "stdout",
          "text": [
            "Validation accuracy is: 80.8 %\n",
            "Epoch [14/50], Step [100/245], Loss: 0.2298\n",
            "Epoch [14/50], Step [200/245], Loss: 0.2055\n"
          ]
        },
        {
          "output_type": "stream",
          "name": "stderr",
          "text": [
            "\r 28%|██▊       | 14/50 [05:59<15:16, 25.45s/it]"
          ]
        },
        {
          "output_type": "stream",
          "name": "stdout",
          "text": [
            "Validation accuracy is: 79.6 %\n",
            "Epoch [15/50], Step [100/245], Loss: 0.1929\n",
            "Epoch [15/50], Step [200/245], Loss: 0.2718\n"
          ]
        },
        {
          "output_type": "stream",
          "name": "stderr",
          "text": [
            "\r 30%|███       | 15/50 [06:24<14:49, 25.41s/it]"
          ]
        },
        {
          "output_type": "stream",
          "name": "stdout",
          "text": [
            "Validation accuracy is: 79.3 %\n",
            "Epoch [16/50], Step [100/245], Loss: 0.1845\n",
            "Epoch [16/50], Step [200/245], Loss: 0.1847\n"
          ]
        },
        {
          "output_type": "stream",
          "name": "stderr",
          "text": [
            "\r 32%|███▏      | 16/50 [06:50<14:24, 25.42s/it]"
          ]
        },
        {
          "output_type": "stream",
          "name": "stdout",
          "text": [
            "Validation accuracy is: 80.8 %\n",
            "Epoch [17/50], Step [100/245], Loss: 0.1418\n",
            "Epoch [17/50], Step [200/245], Loss: 0.1347\n"
          ]
        },
        {
          "output_type": "stream",
          "name": "stderr",
          "text": [
            "\r 34%|███▍      | 17/50 [07:16<14:01, 25.51s/it]"
          ]
        },
        {
          "output_type": "stream",
          "name": "stdout",
          "text": [
            "Validation accuracy is: 82.3 %\n",
            "Epoch [18/50], Step [100/245], Loss: 0.0769\n",
            "Epoch [18/50], Step [200/245], Loss: 0.1549\n"
          ]
        },
        {
          "output_type": "stream",
          "name": "stderr",
          "text": [
            "\r 36%|███▌      | 18/50 [07:41<13:35, 25.49s/it]"
          ]
        },
        {
          "output_type": "stream",
          "name": "stdout",
          "text": [
            "Validation accuracy is: 80.6 %\n",
            "Epoch [19/50], Step [100/245], Loss: 0.0722\n",
            "Epoch [19/50], Step [200/245], Loss: 0.1280\n"
          ]
        },
        {
          "output_type": "stream",
          "name": "stderr",
          "text": [
            "\r 38%|███▊      | 19/50 [08:07<13:09, 25.48s/it]"
          ]
        },
        {
          "output_type": "stream",
          "name": "stdout",
          "text": [
            "Validation accuracy is: 80.6 %\n",
            "Epoch [20/50], Step [100/245], Loss: 0.0981\n",
            "Epoch [20/50], Step [200/245], Loss: 0.0798\n"
          ]
        },
        {
          "output_type": "stream",
          "name": "stderr",
          "text": [
            "\r 40%|████      | 20/50 [08:32<12:44, 25.49s/it]"
          ]
        },
        {
          "output_type": "stream",
          "name": "stdout",
          "text": [
            "Validation accuracy is: 80.3 %\n",
            "Epoch [21/50], Step [100/245], Loss: 0.0800\n",
            "Epoch [21/50], Step [200/245], Loss: 0.0911\n"
          ]
        },
        {
          "output_type": "stream",
          "name": "stderr",
          "text": [
            "\r 42%|████▏     | 21/50 [08:58<12:19, 25.48s/it]"
          ]
        },
        {
          "output_type": "stream",
          "name": "stdout",
          "text": [
            "Validation accuracy is: 81.4 %\n",
            "Epoch [22/50], Step [100/245], Loss: 0.0510\n",
            "Epoch [22/50], Step [200/245], Loss: 0.0830\n"
          ]
        },
        {
          "output_type": "stream",
          "name": "stderr",
          "text": [
            "\r 44%|████▍     | 22/50 [09:23<11:51, 25.43s/it]"
          ]
        },
        {
          "output_type": "stream",
          "name": "stdout",
          "text": [
            "Validation accuracy is: 81.3 %\n",
            "Epoch [23/50], Step [100/245], Loss: 0.0505\n",
            "Epoch [23/50], Step [200/245], Loss: 0.0597\n"
          ]
        },
        {
          "output_type": "stream",
          "name": "stderr",
          "text": [
            "\r 46%|████▌     | 23/50 [09:48<11:26, 25.42s/it]"
          ]
        },
        {
          "output_type": "stream",
          "name": "stdout",
          "text": [
            "Validation accuracy is: 82.0 %\n",
            "Epoch [24/50], Step [100/245], Loss: 0.0385\n",
            "Epoch [24/50], Step [200/245], Loss: 0.0377\n"
          ]
        },
        {
          "output_type": "stream",
          "name": "stderr",
          "text": [
            "\r 48%|████▊     | 24/50 [10:13<10:59, 25.37s/it]"
          ]
        },
        {
          "output_type": "stream",
          "name": "stdout",
          "text": [
            "Validation accuracy is: 81.6 %\n",
            "Epoch [25/50], Step [100/245], Loss: 0.0380\n",
            "Epoch [25/50], Step [200/245], Loss: 0.0630\n"
          ]
        },
        {
          "output_type": "stream",
          "name": "stderr",
          "text": [
            "\r 50%|█████     | 25/50 [10:39<10:37, 25.51s/it]"
          ]
        },
        {
          "output_type": "stream",
          "name": "stdout",
          "text": [
            "Validation accuracy is: 81.5 %\n",
            "Epoch [26/50], Step [100/245], Loss: 0.0600\n",
            "Epoch [26/50], Step [200/245], Loss: 0.0645\n"
          ]
        },
        {
          "output_type": "stream",
          "name": "stderr",
          "text": [
            "\r 52%|█████▏    | 26/50 [11:05<10:11, 25.47s/it]"
          ]
        },
        {
          "output_type": "stream",
          "name": "stdout",
          "text": [
            "Validation accuracy is: 80.3 %\n",
            "Epoch [27/50], Step [100/245], Loss: 0.0421\n",
            "Epoch [27/50], Step [200/245], Loss: 0.0852\n"
          ]
        },
        {
          "output_type": "stream",
          "name": "stderr",
          "text": [
            "\r 54%|█████▍    | 27/50 [11:30<09:45, 25.44s/it]"
          ]
        },
        {
          "output_type": "stream",
          "name": "stdout",
          "text": [
            "Validation accuracy is: 81.0 %\n",
            "Epoch [28/50], Step [100/245], Loss: 0.0252\n",
            "Epoch [28/50], Step [200/245], Loss: 0.0415\n"
          ]
        },
        {
          "output_type": "stream",
          "name": "stderr",
          "text": [
            "\r 56%|█████▌    | 28/50 [11:55<09:19, 25.43s/it]"
          ]
        },
        {
          "output_type": "stream",
          "name": "stdout",
          "text": [
            "Validation accuracy is: 80.6 %\n",
            "Epoch [29/50], Step [100/245], Loss: 0.0223\n",
            "Epoch [29/50], Step [200/245], Loss: 0.0352\n"
          ]
        },
        {
          "output_type": "stream",
          "name": "stderr",
          "text": [
            "\r 58%|█████▊    | 29/50 [12:21<08:54, 25.43s/it]"
          ]
        },
        {
          "output_type": "stream",
          "name": "stdout",
          "text": [
            "Validation accuracy is: 80.9 %\n",
            "Epoch [30/50], Step [100/245], Loss: 0.0223\n",
            "Epoch [30/50], Step [200/245], Loss: 0.0416\n"
          ]
        },
        {
          "output_type": "stream",
          "name": "stderr",
          "text": [
            "\r 60%|██████    | 30/50 [12:46<08:28, 25.42s/it]"
          ]
        },
        {
          "output_type": "stream",
          "name": "stdout",
          "text": [
            "Validation accuracy is: 81.4 %\n",
            "Epoch [31/50], Step [100/245], Loss: 0.0268\n",
            "Epoch [31/50], Step [200/245], Loss: 0.0358\n"
          ]
        },
        {
          "output_type": "stream",
          "name": "stderr",
          "text": [
            "\r 62%|██████▏   | 31/50 [13:12<08:02, 25.41s/it]"
          ]
        },
        {
          "output_type": "stream",
          "name": "stdout",
          "text": [
            "Validation accuracy is: 80.9 %\n",
            "Epoch [32/50], Step [100/245], Loss: 0.0310\n",
            "Epoch [32/50], Step [200/245], Loss: 0.0161\n"
          ]
        },
        {
          "output_type": "stream",
          "name": "stderr",
          "text": [
            "\r 64%|██████▍   | 32/50 [13:37<07:36, 25.39s/it]"
          ]
        },
        {
          "output_type": "stream",
          "name": "stdout",
          "text": [
            "Validation accuracy is: 80.7 %\n",
            "Epoch [33/50], Step [100/245], Loss: 0.0229\n",
            "Epoch [33/50], Step [200/245], Loss: 0.0401\n"
          ]
        },
        {
          "output_type": "stream",
          "name": "stderr",
          "text": [
            "\r 66%|██████▌   | 33/50 [14:03<07:13, 25.50s/it]"
          ]
        },
        {
          "output_type": "stream",
          "name": "stdout",
          "text": [
            "Validation accuracy is: 81.5 %\n",
            "Epoch [34/50], Step [100/245], Loss: 0.0137\n",
            "Epoch [34/50], Step [200/245], Loss: 0.0478\n"
          ]
        },
        {
          "output_type": "stream",
          "name": "stderr",
          "text": [
            "\r 68%|██████▊   | 34/50 [14:28<06:47, 25.47s/it]"
          ]
        },
        {
          "output_type": "stream",
          "name": "stdout",
          "text": [
            "Validation accuracy is: 82.1 %\n",
            "Epoch [35/50], Step [100/245], Loss: 0.0194\n",
            "Epoch [35/50], Step [200/245], Loss: 0.0283\n"
          ]
        },
        {
          "output_type": "stream",
          "name": "stderr",
          "text": [
            "\r 70%|███████   | 35/50 [14:54<06:21, 25.45s/it]"
          ]
        },
        {
          "output_type": "stream",
          "name": "stdout",
          "text": [
            "Validation accuracy is: 83.1 %\n",
            "Epoch [36/50], Step [100/245], Loss: 0.0131\n",
            "Epoch [36/50], Step [200/245], Loss: 0.0171\n"
          ]
        },
        {
          "output_type": "stream",
          "name": "stderr",
          "text": [
            "\r 72%|███████▏  | 36/50 [15:19<05:56, 25.44s/it]"
          ]
        },
        {
          "output_type": "stream",
          "name": "stdout",
          "text": [
            "Validation accuracy is: 80.7 %\n",
            "Epoch [37/50], Step [100/245], Loss: 0.0129\n",
            "Epoch [37/50], Step [200/245], Loss: 0.0338\n"
          ]
        },
        {
          "output_type": "stream",
          "name": "stderr",
          "text": [
            "\r 74%|███████▍  | 37/50 [15:45<05:31, 25.46s/it]"
          ]
        },
        {
          "output_type": "stream",
          "name": "stdout",
          "text": [
            "Validation accuracy is: 81.7 %\n",
            "Epoch [38/50], Step [100/245], Loss: 0.0208\n",
            "Epoch [38/50], Step [200/245], Loss: 0.0269\n"
          ]
        },
        {
          "output_type": "stream",
          "name": "stderr",
          "text": [
            "\r 76%|███████▌  | 38/50 [16:10<05:05, 25.47s/it]"
          ]
        },
        {
          "output_type": "stream",
          "name": "stdout",
          "text": [
            "Validation accuracy is: 81.1 %\n",
            "Epoch [39/50], Step [100/245], Loss: 0.0090\n",
            "Epoch [39/50], Step [200/245], Loss: 0.0138\n"
          ]
        },
        {
          "output_type": "stream",
          "name": "stderr",
          "text": [
            "\r 78%|███████▊  | 39/50 [16:35<04:40, 25.46s/it]"
          ]
        },
        {
          "output_type": "stream",
          "name": "stdout",
          "text": [
            "Validation accuracy is: 82.2 %\n",
            "Epoch [40/50], Step [100/245], Loss: 0.0129\n",
            "Epoch [40/50], Step [200/245], Loss: 0.0139\n"
          ]
        },
        {
          "output_type": "stream",
          "name": "stderr",
          "text": [
            "\r 80%|████████  | 40/50 [17:01<04:13, 25.39s/it]"
          ]
        },
        {
          "output_type": "stream",
          "name": "stdout",
          "text": [
            "Validation accuracy is: 81.7 %\n",
            "Epoch [41/50], Step [100/245], Loss: 0.0195\n",
            "Epoch [41/50], Step [200/245], Loss: 0.0232\n"
          ]
        },
        {
          "output_type": "stream",
          "name": "stderr",
          "text": [
            "\r 82%|████████▏ | 41/50 [17:26<03:49, 25.47s/it]"
          ]
        },
        {
          "output_type": "stream",
          "name": "stdout",
          "text": [
            "Validation accuracy is: 80.7 %\n",
            "Epoch [42/50], Step [100/245], Loss: 0.0147\n",
            "Epoch [42/50], Step [200/245], Loss: 0.0158\n"
          ]
        },
        {
          "output_type": "stream",
          "name": "stderr",
          "text": [
            "\r 84%|████████▍ | 42/50 [17:52<03:23, 25.44s/it]"
          ]
        },
        {
          "output_type": "stream",
          "name": "stdout",
          "text": [
            "Validation accuracy is: 81.6 %\n",
            "Epoch [43/50], Step [100/245], Loss: 0.0084\n",
            "Epoch [43/50], Step [200/245], Loss: 0.0150\n"
          ]
        },
        {
          "output_type": "stream",
          "name": "stderr",
          "text": [
            "\r 86%|████████▌ | 43/50 [18:17<02:57, 25.42s/it]"
          ]
        },
        {
          "output_type": "stream",
          "name": "stdout",
          "text": [
            "Validation accuracy is: 80.8 %\n",
            "Epoch [44/50], Step [100/245], Loss: 0.0132\n",
            "Epoch [44/50], Step [200/245], Loss: 0.0152\n"
          ]
        },
        {
          "output_type": "stream",
          "name": "stderr",
          "text": [
            "\r 88%|████████▊ | 44/50 [18:42<02:32, 25.42s/it]"
          ]
        },
        {
          "output_type": "stream",
          "name": "stdout",
          "text": [
            "Validation accuracy is: 82.1 %\n",
            "Epoch [45/50], Step [100/245], Loss: 0.0090\n",
            "Epoch [45/50], Step [200/245], Loss: 0.0177\n"
          ]
        },
        {
          "output_type": "stream",
          "name": "stderr",
          "text": [
            "\r 90%|█████████ | 45/50 [19:08<02:07, 25.40s/it]"
          ]
        },
        {
          "output_type": "stream",
          "name": "stdout",
          "text": [
            "Validation accuracy is: 82.0 %\n",
            "Epoch [46/50], Step [100/245], Loss: 0.0109\n",
            "Epoch [46/50], Step [200/245], Loss: 0.0167\n"
          ]
        },
        {
          "output_type": "stream",
          "name": "stderr",
          "text": [
            "\r 92%|█████████▏| 46/50 [19:33<01:41, 25.42s/it]"
          ]
        },
        {
          "output_type": "stream",
          "name": "stdout",
          "text": [
            "Validation accuracy is: 80.8 %\n",
            "Epoch [47/50], Step [100/245], Loss: 0.0126\n",
            "Epoch [47/50], Step [200/245], Loss: 0.0119\n"
          ]
        },
        {
          "output_type": "stream",
          "name": "stderr",
          "text": [
            "\r 94%|█████████▍| 47/50 [19:59<01:16, 25.43s/it]"
          ]
        },
        {
          "output_type": "stream",
          "name": "stdout",
          "text": [
            "Validation accuracy is: 82.1 %\n",
            "Epoch [48/50], Step [100/245], Loss: 0.0164\n",
            "Epoch [48/50], Step [200/245], Loss: 0.0178\n"
          ]
        },
        {
          "output_type": "stream",
          "name": "stderr",
          "text": [
            "\r 96%|█████████▌| 48/50 [20:24<00:50, 25.46s/it]"
          ]
        },
        {
          "output_type": "stream",
          "name": "stdout",
          "text": [
            "Validation accuracy is: 82.0 %\n",
            "Epoch [49/50], Step [100/245], Loss: 0.0107\n",
            "Epoch [49/50], Step [200/245], Loss: 0.0168\n"
          ]
        },
        {
          "output_type": "stream",
          "name": "stderr",
          "text": [
            "\r 98%|█████████▊| 49/50 [20:50<00:25, 25.52s/it]"
          ]
        },
        {
          "output_type": "stream",
          "name": "stdout",
          "text": [
            "Validation accuracy is: 81.4 %\n",
            "Epoch [50/50], Step [100/245], Loss: 0.0113\n",
            "Epoch [50/50], Step [200/245], Loss: 0.0176\n"
          ]
        },
        {
          "output_type": "stream",
          "name": "stderr",
          "text": [
            "100%|██████████| 50/50 [21:16<00:00, 25.52s/it]"
          ]
        },
        {
          "output_type": "stream",
          "name": "stdout",
          "text": [
            "Validation accuracy is: 79.9 %\n"
          ]
        },
        {
          "output_type": "stream",
          "name": "stderr",
          "text": [
            "\n"
          ]
        }
      ]
    },
    {
      "cell_type": "code",
      "source": [
        "## Plot validation and training losses\n",
        "model.eval()\n",
        "\n",
        "plt.rcParams[\"figure.figsize\"] = (8,4)\n",
        "plt.figure(2)\n",
        "plt.plot(loss_train, 'r', label = 'Train loss')\n",
        "plt.plot(loss_val, 'g', label = 'Val loss')\n",
        "plt.xlabel('Epochs')\n",
        "plt.legend()\n",
        "plt.grid(True)\n",
        "plt.tight_layout()\n",
        "plt.show()\n",
        "                                                            \n",
        "print(\"--------------------------------------------------------------------------\")\n",
        "\n",
        "## Plot validation accuracy\n",
        "plt.rcParams[\"figure.figsize\"] = (8,4)\n",
        "plt.figure(3)\n",
        "plt.plot(accuracy_val, \"r\", label = 'Val accuracy')\n",
        "plt.ylabel('Acccuracy [%]')\n",
        "plt.xlabel('Epochs')\n",
        "plt.legend()\n",
        "plt.grid(True)\n",
        "plt.tight_layout()\n",
        "plt.show()"
      ],
      "metadata": {
        "id": "orANtzVxzEld",
        "colab": {
          "base_uri": "https://localhost:8080/",
          "height": 595
        },
        "outputId": "9fccc98c-3374-4833-d19b-493e584cb9d2"
      },
      "execution_count": null,
      "outputs": [
        {
          "output_type": "display_data",
          "data": {
            "text/plain": [
              "<Figure size 576x288 with 1 Axes>"
            ],
            "image/png": "[encoded data removed]"
          },
          "metadata": {
            "needs_background": "light"
          }
        },
        {
          "output_type": "stream",
          "name": "stdout",
          "text": [
            "--------------------------------------------------------------------------\n"
          ]
        },
        {
          "output_type": "display_data",
          "data": {
            "text/plain": [
              "<Figure size 576x288 with 1 Axes>"
            ],
            "image/png": "[encoded data removed]"
          },
          "metadata": {
            "needs_background": "light"
          }
        }
      ]
    },
    {
      "cell_type": "code",
      "source": [
        "## Train the model without BN and with early stop\n",
        "norm_layer = None\n",
        "num_epochs = 50\n",
        "\n",
        "## Init model\n",
        "model = ConvNet(input_size, hidden_size, num_classes, norm_layer = norm_layer).to(device)\n",
        "model.apply(weights_init)\n",
        "\n",
        "## Train Model\n",
        "loss_train, loss_val, accuracy_val =  train_model(model, early_stop = True)"
      ],
      "metadata": {
        "id": "RD2XVrb_6UJA",
        "colab": {
          "base_uri": "https://localhost:8080/"
        },
        "outputId": "f43735af-3494-418a-ab86-6ae07a4010c7"
      },
      "execution_count": null,
      "outputs": [
        {
          "output_type": "stream",
          "name": "stderr",
          "text": [
            "\r  0%|          | 0/50 [00:00<?, ?it/s]"
          ]
        },
        {
          "output_type": "stream",
          "name": "stdout",
          "text": [
            "Epoch [1/50], Step [100/245], Loss: 1.7331\n",
            "Epoch [1/50], Step [200/245], Loss: 1.3752\n"
          ]
        },
        {
          "output_type": "stream",
          "name": "stderr",
          "text": [
            "\r  2%|▏         | 1/50 [00:25<20:47, 25.47s/it]"
          ]
        },
        {
          "output_type": "stream",
          "name": "stdout",
          "text": [
            "Validation accuracy is: 50.7 %\n",
            "Epoch [2/50], Step [100/245], Loss: 1.1694\n",
            "Epoch [2/50], Step [200/245], Loss: 1.0872\n"
          ]
        },
        {
          "output_type": "stream",
          "name": "stderr",
          "text": [
            "\r  4%|▍         | 2/50 [00:50<20:22, 25.46s/it]"
          ]
        },
        {
          "output_type": "stream",
          "name": "stdout",
          "text": [
            "Validation accuracy is: 64.0 %\n",
            "Epoch [3/50], Step [100/245], Loss: 0.8365\n",
            "Epoch [3/50], Step [200/245], Loss: 0.7932\n"
          ]
        },
        {
          "output_type": "stream",
          "name": "stderr",
          "text": [
            "\r  6%|▌         | 3/50 [01:16<19:55, 25.44s/it]"
          ]
        },
        {
          "output_type": "stream",
          "name": "stdout",
          "text": [
            "Validation accuracy is: 69.0 %\n",
            "Epoch [4/50], Step [100/245], Loss: 0.7419\n",
            "Epoch [4/50], Step [200/245], Loss: 0.7590\n"
          ]
        },
        {
          "output_type": "stream",
          "name": "stderr",
          "text": [
            "\r  8%|▊         | 4/50 [01:41<19:30, 25.44s/it]"
          ]
        },
        {
          "output_type": "stream",
          "name": "stdout",
          "text": [
            "Validation accuracy is: 72.1 %\n",
            "Epoch [5/50], Step [100/245], Loss: 0.7385\n",
            "Epoch [5/50], Step [200/245], Loss: 0.6779\n"
          ]
        },
        {
          "output_type": "stream",
          "name": "stderr",
          "text": [
            "\r 10%|█         | 5/50 [02:07<19:03, 25.42s/it]"
          ]
        },
        {
          "output_type": "stream",
          "name": "stdout",
          "text": [
            "Validation accuracy is: 74.4 %\n",
            "Epoch [6/50], Step [100/245], Loss: 0.7460\n",
            "Epoch [6/50], Step [200/245], Loss: 0.7357\n"
          ]
        },
        {
          "output_type": "stream",
          "name": "stderr",
          "text": [
            "\r 12%|█▏        | 6/50 [02:32<18:38, 25.41s/it]"
          ]
        },
        {
          "output_type": "stream",
          "name": "stdout",
          "text": [
            "Validation accuracy is: 77.2 %\n",
            "Epoch [7/50], Step [100/245], Loss: 0.6185\n",
            "Epoch [7/50], Step [200/245], Loss: 0.7428\n"
          ]
        },
        {
          "output_type": "stream",
          "name": "stderr",
          "text": [
            "\r 14%|█▍        | 7/50 [02:58<18:13, 25.43s/it]"
          ]
        },
        {
          "output_type": "stream",
          "name": "stdout",
          "text": [
            "Validation accuracy is: 77.2 %\n",
            "Epoch [8/50], Step [100/245], Loss: 0.5089\n",
            "Epoch [8/50], Step [200/245], Loss: 0.6370\n"
          ]
        },
        {
          "output_type": "stream",
          "name": "stderr",
          "text": [
            "\r 16%|█▌        | 8/50 [03:23<17:53, 25.57s/it]"
          ]
        },
        {
          "output_type": "stream",
          "name": "stdout",
          "text": [
            "Validation accuracy is: 78.9 %\n",
            "Epoch [9/50], Step [100/245], Loss: 0.4272\n",
            "Epoch [9/50], Step [200/245], Loss: 0.4614\n"
          ]
        },
        {
          "output_type": "stream",
          "name": "stderr",
          "text": [
            "\r 18%|█▊        | 9/50 [03:49<17:25, 25.51s/it]"
          ]
        },
        {
          "output_type": "stream",
          "name": "stdout",
          "text": [
            "Validation accuracy is: 79.6 %\n",
            "Epoch [10/50], Step [100/245], Loss: 0.4632\n",
            "Epoch [10/50], Step [200/245], Loss: 0.5063\n"
          ]
        },
        {
          "output_type": "stream",
          "name": "stderr",
          "text": [
            "\r 20%|██        | 10/50 [04:14<16:57, 25.45s/it]"
          ]
        },
        {
          "output_type": "stream",
          "name": "stdout",
          "text": [
            "Validation accuracy is: 79.1 %\n",
            "Epoch [11/50], Step [100/245], Loss: 0.2981\n",
            "Epoch [11/50], Step [200/245], Loss: 0.4678\n"
          ]
        },
        {
          "output_type": "stream",
          "name": "stderr",
          "text": [
            "\r 22%|██▏       | 11/50 [04:39<16:31, 25.43s/it]"
          ]
        },
        {
          "output_type": "stream",
          "name": "stdout",
          "text": [
            "Validation accuracy is: 78.2 %\n",
            "Epoch [12/50], Step [100/245], Loss: 0.3113\n",
            "Epoch [12/50], Step [200/245], Loss: 0.4948\n"
          ]
        },
        {
          "output_type": "stream",
          "name": "stderr",
          "text": [
            "\r 24%|██▍       | 12/50 [05:05<16:05, 25.41s/it]"
          ]
        },
        {
          "output_type": "stream",
          "name": "stdout",
          "text": [
            "Validation accuracy is: 78.2 %\n",
            "Epoch [13/50], Step [100/245], Loss: 0.3317\n",
            "Epoch [13/50], Step [200/245], Loss: 0.3357\n"
          ]
        },
        {
          "output_type": "stream",
          "name": "stderr",
          "text": [
            "\r 26%|██▌       | 13/50 [05:30<15:39, 25.40s/it]"
          ]
        },
        {
          "output_type": "stream",
          "name": "stdout",
          "text": [
            "Validation accuracy is: 77.5 %\n",
            "Epoch [14/50], Step [100/245], Loss: 0.3457\n",
            "Epoch [14/50], Step [200/245], Loss: 0.3232\n"
          ]
        },
        {
          "output_type": "stream",
          "name": "stderr",
          "text": [
            "\r 28%|██▊       | 14/50 [05:56<15:13, 25.39s/it]"
          ]
        },
        {
          "output_type": "stream",
          "name": "stdout",
          "text": [
            "Validation accuracy is: 79.9 %\n",
            "Epoch [15/50], Step [100/245], Loss: 0.3427\n",
            "Epoch [15/50], Step [200/245], Loss: 0.3734\n"
          ]
        },
        {
          "output_type": "stream",
          "name": "stderr",
          "text": [
            "\r 30%|███       | 15/50 [06:21<14:47, 25.35s/it]"
          ]
        },
        {
          "output_type": "stream",
          "name": "stdout",
          "text": [
            "Validation accuracy is: 79.3 %\n",
            "Epoch [16/50], Step [100/245], Loss: 0.1601\n",
            "Epoch [16/50], Step [200/245], Loss: 0.2860\n"
          ]
        },
        {
          "output_type": "stream",
          "name": "stderr",
          "text": [
            "\r 32%|███▏      | 16/50 [06:46<14:24, 25.43s/it]"
          ]
        },
        {
          "output_type": "stream",
          "name": "stdout",
          "text": [
            "Validation accuracy is: 78.1 %\n",
            "Epoch [17/50], Step [100/245], Loss: 0.2261\n",
            "Epoch [17/50], Step [200/245], Loss: 0.3278\n"
          ]
        },
        {
          "output_type": "stream",
          "name": "stderr",
          "text": [
            "\r 34%|███▍      | 17/50 [07:12<13:58, 25.41s/it]"
          ]
        },
        {
          "output_type": "stream",
          "name": "stdout",
          "text": [
            "Validation accuracy is: 80.4 %\n",
            "Epoch [18/50], Step [100/245], Loss: 0.1773\n",
            "Epoch [18/50], Step [200/245], Loss: 0.2573\n"
          ]
        },
        {
          "output_type": "stream",
          "name": "stderr",
          "text": [
            "\r 36%|███▌      | 18/50 [07:37<13:31, 25.37s/it]"
          ]
        },
        {
          "output_type": "stream",
          "name": "stdout",
          "text": [
            "Validation accuracy is: 77.9 %\n",
            "Epoch [19/50], Step [100/245], Loss: 0.1547\n",
            "Epoch [19/50], Step [200/245], Loss: 0.2143\n"
          ]
        },
        {
          "output_type": "stream",
          "name": "stderr",
          "text": [
            "\r 38%|███▊      | 19/50 [08:02<13:06, 25.36s/it]"
          ]
        },
        {
          "output_type": "stream",
          "name": "stdout",
          "text": [
            "Validation accuracy is: 80.4 %\n",
            "Epoch [20/50], Step [100/245], Loss: 0.1256\n",
            "Epoch [20/50], Step [200/245], Loss: 0.2063\n"
          ]
        },
        {
          "output_type": "stream",
          "name": "stderr",
          "text": [
            "\r 40%|████      | 20/50 [08:28<12:40, 25.35s/it]"
          ]
        },
        {
          "output_type": "stream",
          "name": "stdout",
          "text": [
            "Validation accuracy is: 80.6 %\n",
            "Epoch [21/50], Step [100/245], Loss: 0.1767\n",
            "Epoch [21/50], Step [200/245], Loss: 0.1797\n"
          ]
        },
        {
          "output_type": "stream",
          "name": "stderr",
          "text": [
            "\r 42%|████▏     | 21/50 [08:53<12:14, 25.32s/it]"
          ]
        },
        {
          "output_type": "stream",
          "name": "stdout",
          "text": [
            "Validation accuracy is: 80.1 %\n",
            "Epoch [22/50], Step [100/245], Loss: 0.1901\n",
            "Epoch [22/50], Step [200/245], Loss: 0.1038\n"
          ]
        },
        {
          "output_type": "stream",
          "name": "stderr",
          "text": [
            "\r 44%|████▍     | 22/50 [09:18<11:48, 25.32s/it]"
          ]
        },
        {
          "output_type": "stream",
          "name": "stdout",
          "text": [
            "Validation accuracy is: 79.5 %\n",
            "Epoch [23/50], Step [100/245], Loss: 0.0799\n",
            "Epoch [23/50], Step [200/245], Loss: 0.0944\n"
          ]
        },
        {
          "output_type": "stream",
          "name": "stderr",
          "text": [
            "\r 46%|████▌     | 23/50 [09:44<11:24, 25.35s/it]"
          ]
        },
        {
          "output_type": "stream",
          "name": "stdout",
          "text": [
            "Validation accuracy is: 81.0 %\n",
            "Epoch [24/50], Step [100/245], Loss: 0.1615\n",
            "Epoch [24/50], Step [200/245], Loss: 0.0804\n"
          ]
        },
        {
          "output_type": "stream",
          "name": "stderr",
          "text": [
            "\r 48%|████▊     | 24/50 [10:09<11:01, 25.46s/it]"
          ]
        },
        {
          "output_type": "stream",
          "name": "stdout",
          "text": [
            "Validation accuracy is: 80.2 %\n",
            "Epoch [25/50], Step [100/245], Loss: 0.0525\n",
            "Epoch [25/50], Step [200/245], Loss: 0.0858\n"
          ]
        },
        {
          "output_type": "stream",
          "name": "stderr",
          "text": [
            "\r 50%|█████     | 25/50 [10:35<10:35, 25.41s/it]"
          ]
        },
        {
          "output_type": "stream",
          "name": "stdout",
          "text": [
            "Validation accuracy is: 80.2 %\n",
            "Epoch [26/50], Step [100/245], Loss: 0.0544\n",
            "Epoch [26/50], Step [200/245], Loss: 0.0623\n"
          ]
        },
        {
          "output_type": "stream",
          "name": "stderr",
          "text": [
            "\r 52%|█████▏    | 26/50 [11:00<10:09, 25.38s/it]"
          ]
        },
        {
          "output_type": "stream",
          "name": "stdout",
          "text": [
            "Validation accuracy is: 81.0 %\n",
            "Epoch [27/50], Step [100/245], Loss: 0.0666\n",
            "Epoch [27/50], Step [200/245], Loss: 0.0861\n"
          ]
        },
        {
          "output_type": "stream",
          "name": "stderr",
          "text": [
            "\r 54%|█████▍    | 27/50 [11:25<09:43, 25.38s/it]"
          ]
        },
        {
          "output_type": "stream",
          "name": "stdout",
          "text": [
            "Validation accuracy is: 79.8 %\n",
            "Epoch [28/50], Step [100/245], Loss: 0.0754\n",
            "Epoch [28/50], Step [200/245], Loss: 0.0895\n"
          ]
        },
        {
          "output_type": "stream",
          "name": "stderr",
          "text": [
            "\r 56%|█████▌    | 28/50 [11:51<09:18, 25.38s/it]"
          ]
        },
        {
          "output_type": "stream",
          "name": "stdout",
          "text": [
            "Validation accuracy is: 81.0 %\n",
            "Epoch [29/50], Step [100/245], Loss: 0.0363\n",
            "Epoch [29/50], Step [200/245], Loss: 0.0509\n"
          ]
        },
        {
          "output_type": "stream",
          "name": "stderr",
          "text": [
            "\r 58%|█████▊    | 29/50 [12:16<08:52, 25.35s/it]"
          ]
        },
        {
          "output_type": "stream",
          "name": "stdout",
          "text": [
            "Validation accuracy is: 80.5 %\n",
            "Epoch [30/50], Step [100/245], Loss: 0.0315\n",
            "Epoch [30/50], Step [200/245], Loss: 0.0734\n"
          ]
        },
        {
          "output_type": "stream",
          "name": "stderr",
          "text": [
            "\r 60%|██████    | 30/50 [12:41<08:27, 25.36s/it]"
          ]
        },
        {
          "output_type": "stream",
          "name": "stdout",
          "text": [
            "Validation accuracy is: 80.6 %\n",
            "Epoch [31/50], Step [100/245], Loss: 0.0731\n",
            "Epoch [31/50], Step [200/245], Loss: 0.0607\n"
          ]
        },
        {
          "output_type": "stream",
          "name": "stderr",
          "text": [
            "\r 62%|██████▏   | 31/50 [13:07<08:01, 25.33s/it]"
          ]
        },
        {
          "output_type": "stream",
          "name": "stdout",
          "text": [
            "Validation accuracy is: 80.5 %\n",
            "Epoch [32/50], Step [100/245], Loss: 0.0286\n",
            "Epoch [32/50], Step [200/245], Loss: 0.0555\n"
          ]
        },
        {
          "output_type": "stream",
          "name": "stderr",
          "text": [
            "\r 64%|██████▍   | 32/50 [13:32<07:37, 25.44s/it]"
          ]
        },
        {
          "output_type": "stream",
          "name": "stdout",
          "text": [
            "Validation accuracy is: 80.5 %\n",
            "Epoch [33/50], Step [100/245], Loss: 0.0419\n",
            "Epoch [33/50], Step [200/245], Loss: 0.0362\n"
          ]
        },
        {
          "output_type": "stream",
          "name": "stderr",
          "text": [
            "\r 66%|██████▌   | 33/50 [13:58<07:11, 25.40s/it]"
          ]
        },
        {
          "output_type": "stream",
          "name": "stdout",
          "text": [
            "Validation accuracy is: 81.0 %\n",
            "Epoch [34/50], Step [100/245], Loss: 0.0232\n",
            "Epoch [34/50], Step [200/245], Loss: 0.0435\n"
          ]
        },
        {
          "output_type": "stream",
          "name": "stderr",
          "text": [
            "\r 68%|██████▊   | 34/50 [14:23<06:45, 25.37s/it]"
          ]
        },
        {
          "output_type": "stream",
          "name": "stdout",
          "text": [
            "Validation accuracy is: 80.8 %\n",
            "Epoch [35/50], Step [100/245], Loss: 0.0304\n",
            "Epoch [35/50], Step [200/245], Loss: 0.0416\n"
          ]
        },
        {
          "output_type": "stream",
          "name": "stderr",
          "text": [
            "\r 70%|███████   | 35/50 [14:48<06:20, 25.39s/it]"
          ]
        },
        {
          "output_type": "stream",
          "name": "stdout",
          "text": [
            "Validation accuracy is: 79.8 %\n",
            "Epoch [36/50], Step [100/245], Loss: 0.0176\n",
            "Epoch [36/50], Step [200/245], Loss: 0.0342\n"
          ]
        },
        {
          "output_type": "stream",
          "name": "stderr",
          "text": [
            "\r 72%|███████▏  | 36/50 [15:14<05:55, 25.38s/it]"
          ]
        },
        {
          "output_type": "stream",
          "name": "stdout",
          "text": [
            "Validation accuracy is: 80.2 %\n",
            "Epoch [37/50], Step [100/245], Loss: 0.0232\n",
            "Epoch [37/50], Step [200/245], Loss: 0.0201\n"
          ]
        },
        {
          "output_type": "stream",
          "name": "stderr",
          "text": [
            "\r 74%|███████▍  | 37/50 [15:39<05:29, 25.35s/it]"
          ]
        },
        {
          "output_type": "stream",
          "name": "stdout",
          "text": [
            "Validation accuracy is: 80.8 %\n",
            "Epoch [38/50], Step [100/245], Loss: 0.0198\n",
            "Epoch [38/50], Step [200/245], Loss: 0.0526\n"
          ]
        },
        {
          "output_type": "stream",
          "name": "stderr",
          "text": [
            "\r 76%|███████▌  | 38/50 [16:04<05:04, 25.35s/it]"
          ]
        },
        {
          "output_type": "stream",
          "name": "stdout",
          "text": [
            "Validation accuracy is: 80.9 %\n",
            "Epoch [39/50], Step [100/245], Loss: 0.0176\n",
            "Epoch [39/50], Step [200/245], Loss: 0.0189\n"
          ]
        },
        {
          "output_type": "stream",
          "name": "stderr",
          "text": [
            "\r 78%|███████▊  | 39/50 [16:30<04:38, 25.33s/it]"
          ]
        },
        {
          "output_type": "stream",
          "name": "stdout",
          "text": [
            "Validation accuracy is: 81.1 %\n",
            "Epoch [40/50], Step [100/245], Loss: 0.0146\n",
            "Epoch [40/50], Step [200/245], Loss: 0.0259\n"
          ]
        },
        {
          "output_type": "stream",
          "name": "stderr",
          "text": [
            "\r 80%|████████  | 40/50 [16:55<04:14, 25.41s/it]"
          ]
        },
        {
          "output_type": "stream",
          "name": "stdout",
          "text": [
            "Validation accuracy is: 80.1 %\n",
            "Epoch [41/50], Step [100/245], Loss: 0.0139\n",
            "Epoch [41/50], Step [200/245], Loss: 0.0312\n"
          ]
        },
        {
          "output_type": "stream",
          "name": "stderr",
          "text": [
            "\r 82%|████████▏ | 41/50 [17:21<03:48, 25.40s/it]"
          ]
        },
        {
          "output_type": "stream",
          "name": "stdout",
          "text": [
            "Validation accuracy is: 79.9 %\n",
            "Epoch [42/50], Step [100/245], Loss: 0.0188\n",
            "Epoch [42/50], Step [200/245], Loss: 0.0214\n"
          ]
        },
        {
          "output_type": "stream",
          "name": "stderr",
          "text": [
            "\r 84%|████████▍ | 42/50 [17:46<03:22, 25.37s/it]"
          ]
        },
        {
          "output_type": "stream",
          "name": "stdout",
          "text": [
            "Validation accuracy is: 80.7 %\n",
            "Epoch [43/50], Step [100/245], Loss: 0.0221\n",
            "Epoch [43/50], Step [200/245], Loss: 0.0248\n"
          ]
        },
        {
          "output_type": "stream",
          "name": "stderr",
          "text": [
            "\r 86%|████████▌ | 43/50 [18:11<02:57, 25.35s/it]"
          ]
        },
        {
          "output_type": "stream",
          "name": "stdout",
          "text": [
            "Validation accuracy is: 80.1 %\n",
            "Epoch [44/50], Step [100/245], Loss: 0.0204\n",
            "Epoch [44/50], Step [200/245], Loss: 0.0232\n"
          ]
        },
        {
          "output_type": "stream",
          "name": "stderr",
          "text": [
            "\r 88%|████████▊ | 44/50 [18:37<02:31, 25.32s/it]"
          ]
        },
        {
          "output_type": "stream",
          "name": "stdout",
          "text": [
            "Validation accuracy is: 78.7 %\n",
            "Epoch [45/50], Step [100/245], Loss: 0.0117\n",
            "Epoch [45/50], Step [200/245], Loss: 0.0249\n"
          ]
        },
        {
          "output_type": "stream",
          "name": "stderr",
          "text": [
            "\r 90%|█████████ | 45/50 [19:02<02:06, 25.34s/it]"
          ]
        },
        {
          "output_type": "stream",
          "name": "stdout",
          "text": [
            "Validation accuracy is: 80.7 %\n",
            "Epoch [46/50], Step [100/245], Loss: 0.0167\n",
            "Epoch [46/50], Step [200/245], Loss: 0.0183\n"
          ]
        },
        {
          "output_type": "stream",
          "name": "stderr",
          "text": [
            "\r 92%|█████████▏| 46/50 [19:27<01:41, 25.35s/it]"
          ]
        },
        {
          "output_type": "stream",
          "name": "stdout",
          "text": [
            "Validation accuracy is: 80.4 %\n",
            "Epoch [47/50], Step [100/245], Loss: 0.0163\n",
            "Epoch [47/50], Step [200/245], Loss: 0.0209\n"
          ]
        },
        {
          "output_type": "stream",
          "name": "stderr",
          "text": [
            "\r 94%|█████████▍| 47/50 [19:53<01:16, 25.43s/it]"
          ]
        },
        {
          "output_type": "stream",
          "name": "stdout",
          "text": [
            "Validation accuracy is: 79.6 %\n",
            "Epoch [48/50], Step [100/245], Loss: 0.0192\n",
            "Epoch [48/50], Step [200/245], Loss: 0.0210\n"
          ]
        },
        {
          "output_type": "stream",
          "name": "stderr",
          "text": [
            "\r 96%|█████████▌| 48/50 [20:18<00:50, 25.41s/it]"
          ]
        },
        {
          "output_type": "stream",
          "name": "stdout",
          "text": [
            "Validation accuracy is: 79.9 %\n",
            "Epoch [49/50], Step [100/245], Loss: 0.0139\n",
            "Epoch [49/50], Step [200/245], Loss: 0.0216\n"
          ]
        },
        {
          "output_type": "stream",
          "name": "stderr",
          "text": [
            "\r 98%|█████████▊| 49/50 [20:44<00:25, 25.37s/it]"
          ]
        },
        {
          "output_type": "stream",
          "name": "stdout",
          "text": [
            "Validation accuracy is: 80.4 %\n",
            "Epoch [50/50], Step [100/245], Loss: 0.0165\n",
            "Epoch [50/50], Step [200/245], Loss: 0.0182\n"
          ]
        },
        {
          "output_type": "stream",
          "name": "stderr",
          "text": [
            "100%|██████████| 50/50 [21:09<00:00, 25.40s/it]"
          ]
        },
        {
          "output_type": "stream",
          "name": "stdout",
          "text": [
            "Validation accuracy is: 80.6 %\n"
          ]
        },
        {
          "output_type": "stream",
          "name": "stderr",
          "text": [
            "\n"
          ]
        }
      ]
    },
    {
      "cell_type": "code",
      "source": [
        "## Plot validation and training losses\n",
        "\n",
        "# visualize the loss as the network trained\n",
        "fig = plt.figure(figsize = (8,4))\n",
        "plt.plot(range(1,len(loss_train)+1),loss_train, label = 'Training Loss')\n",
        "plt.plot(range(1,len(loss_val)+1),loss_val,label = 'Validation Loss')\n",
        "\n",
        "# find position of lowest validation loss\n",
        "minposs = loss_val.index(min(loss_val))+1 \n",
        "plt.axvline(minposs, linestyle='--', color='r',label = 'Early Stopping Checkpoint')\n",
        "\n",
        "plt.xlabel('Epochs')\n",
        "plt.ylabel('Loss')\n",
        "plt.ylim(0, 0.01) # consistent scale\n",
        "plt.xlim(0, len(loss_train)+1) # consistent scale\n",
        "plt.grid(True)\n",
        "plt.legend()\n",
        "plt.tight_layout()\n",
        "plt.show()\n",
        "\n",
        "print(\"--------------------------------------------------------------------------\")\n",
        "\n",
        "## Plot validation accuracy\n",
        "\n",
        "## Visualize accuracy plot\n",
        "fig = plt.figure(figsize = (8,4))\n",
        "plt.plot(range(1,len(accuracy_val)+1),accuracy_val,label = 'Validation Accuracy')\n",
        "# find position of lowest validation loss\n",
        "minposs = loss_val.index(min(loss_val))+1 \n",
        "plt.axvline(minposs, linestyle='--', color='r',label = 'Early Stopping Checkpoint')\n",
        "plt.xlabel('Epochs')\n",
        "plt.ylabel('Accuracy [%]')\n",
        "plt.ylim(50, 100) # consistent scale\n",
        "plt.xlim(0, len(loss_train)+1) # consistent scale\n",
        "plt.grid(True)\n",
        "plt.legend()\n",
        "plt.tight_layout()\n",
        "plt.show()"
      ],
      "metadata": {
        "id": "mq5qC5Yr6WkZ",
        "colab": {
          "base_uri": "https://localhost:8080/",
          "height": 595
        },
        "outputId": "51d5005e-7410-440b-a8b9-e251dbbc9138"
      },
      "execution_count": null,
      "outputs": [
        {
          "output_type": "display_data",
          "data": {
            "text/plain": [
              "<Figure size 576x288 with 1 Axes>"
            ],
            "image/png": "[encoded data removed]"
          },
          "metadata": {
            "needs_background": "light"
          }
        },
        {
          "output_type": "stream",
          "name": "stdout",
          "text": [
            "--------------------------------------------------------------------------\n"
          ]
        },
        {
          "output_type": "display_data",
          "data": {
            "text/plain": [
              "<Figure size 576x288 with 1 Axes>"
            ],
            "image/png": "[encoded data removed]"
          },
          "metadata": {
            "needs_background": "light"
          }
        }
      ]
    },
    {
      "cell_type": "code",
      "source": [
        "## Train the model witn BN and without early stop\n",
        "norm_layer = \"BN\"\n",
        "num_epochs = 50\n",
        "\n",
        "## Init model\n",
        "model = ConvNet(input_size, hidden_size, num_classes, norm_layer = norm_layer).to(device)\n",
        "model.apply(weights_init)\n",
        "\n",
        "## Train Model\n",
        "loss_train, loss_val, accuracy_val =  train_model(model, early_stop = False)"
      ],
      "metadata": {
        "id": "dcPxnPAtdFZh",
        "colab": {
          "base_uri": "https://localhost:8080/"
        },
        "outputId": "a1a0d718-cf6a-40ce-81c9-4bf242517344"
      },
      "execution_count": null,
      "outputs": [
        {
          "output_type": "stream",
          "name": "stderr",
          "text": [
            "\r  0%|          | 0/50 [00:00<?, ?it/s]"
          ]
        },
        {
          "output_type": "stream",
          "name": "stdout",
          "text": [
            "Epoch [1/50], Step [100/245], Loss: 1.3185\n",
            "Epoch [1/50], Step [200/245], Loss: 1.0350\n"
          ]
        },
        {
          "output_type": "stream",
          "name": "stderr",
          "text": [
            "\r  2%|▏         | 1/50 [00:29<24:22, 29.85s/it]"
          ]
        },
        {
          "output_type": "stream",
          "name": "stdout",
          "text": [
            "Validation accuracy is: 43.5 %\n",
            "Epoch [2/50], Step [100/245], Loss: 0.9966\n",
            "Epoch [2/50], Step [200/245], Loss: 0.7845\n"
          ]
        },
        {
          "output_type": "stream",
          "name": "stderr",
          "text": [
            "\r  4%|▍         | 2/50 [01:00<24:09, 30.19s/it]"
          ]
        },
        {
          "output_type": "stream",
          "name": "stdout",
          "text": [
            "Validation accuracy is: 57.2 %\n",
            "Epoch [3/50], Step [100/245], Loss: 0.7656\n",
            "Epoch [3/50], Step [200/245], Loss: 0.8438\n"
          ]
        },
        {
          "output_type": "stream",
          "name": "stderr",
          "text": [
            "\r  6%|▌         | 3/50 [01:29<23:28, 29.97s/it]"
          ]
        },
        {
          "output_type": "stream",
          "name": "stdout",
          "text": [
            "Validation accuracy is: 72.7 %\n",
            "Epoch [4/50], Step [100/245], Loss: 0.6708\n",
            "Epoch [4/50], Step [200/245], Loss: 0.6264\n"
          ]
        },
        {
          "output_type": "stream",
          "name": "stderr",
          "text": [
            "\r  8%|▊         | 4/50 [01:59<22:48, 29.74s/it]"
          ]
        },
        {
          "output_type": "stream",
          "name": "stdout",
          "text": [
            "Validation accuracy is: 73.9 %\n",
            "Epoch [5/50], Step [100/245], Loss: 0.5429\n",
            "Epoch [5/50], Step [200/245], Loss: 0.5755\n"
          ]
        },
        {
          "output_type": "stream",
          "name": "stderr",
          "text": [
            "\r 10%|█         | 5/50 [02:28<22:12, 29.62s/it]"
          ]
        },
        {
          "output_type": "stream",
          "name": "stdout",
          "text": [
            "Validation accuracy is: 78.0 %\n",
            "Epoch [6/50], Step [100/245], Loss: 0.3998\n",
            "Epoch [6/50], Step [200/245], Loss: 0.5449\n"
          ]
        },
        {
          "output_type": "stream",
          "name": "stderr",
          "text": [
            "\r 12%|█▏        | 6/50 [02:58<21:38, 29.51s/it]"
          ]
        },
        {
          "output_type": "stream",
          "name": "stdout",
          "text": [
            "Validation accuracy is: 78.0 %\n",
            "Epoch [7/50], Step [100/245], Loss: 0.3747\n",
            "Epoch [7/50], Step [200/245], Loss: 0.5326\n"
          ]
        },
        {
          "output_type": "stream",
          "name": "stderr",
          "text": [
            "\r 14%|█▍        | 7/50 [03:27<21:02, 29.35s/it]"
          ]
        },
        {
          "output_type": "stream",
          "name": "stdout",
          "text": [
            "Validation accuracy is: 76.0 %\n",
            "Epoch [8/50], Step [100/245], Loss: 0.4123\n",
            "Epoch [8/50], Step [200/245], Loss: 0.4944\n"
          ]
        },
        {
          "output_type": "stream",
          "name": "stderr",
          "text": [
            "\r 16%|█▌        | 8/50 [03:55<20:25, 29.19s/it]"
          ]
        },
        {
          "output_type": "stream",
          "name": "stdout",
          "text": [
            "Validation accuracy is: 79.2 %\n",
            "Epoch [9/50], Step [100/245], Loss: 0.2371\n",
            "Epoch [9/50], Step [200/245], Loss: 0.3733\n"
          ]
        },
        {
          "output_type": "stream",
          "name": "stderr",
          "text": [
            "\r 18%|█▊        | 9/50 [04:24<19:53, 29.11s/it]"
          ]
        },
        {
          "output_type": "stream",
          "name": "stdout",
          "text": [
            "Validation accuracy is: 75.0 %\n",
            "Epoch [10/50], Step [100/245], Loss: 0.3038\n",
            "Epoch [10/50], Step [200/245], Loss: 0.2227\n"
          ]
        },
        {
          "output_type": "stream",
          "name": "stderr",
          "text": [
            "\r 20%|██        | 10/50 [04:53<19:18, 28.96s/it]"
          ]
        },
        {
          "output_type": "stream",
          "name": "stdout",
          "text": [
            "Validation accuracy is: 80.2 %\n",
            "Epoch [11/50], Step [100/245], Loss: 0.2016\n",
            "Epoch [11/50], Step [200/245], Loss: 0.3181\n"
          ]
        },
        {
          "output_type": "stream",
          "name": "stderr",
          "text": [
            "\r 22%|██▏       | 11/50 [05:22<18:44, 28.83s/it]"
          ]
        },
        {
          "output_type": "stream",
          "name": "stdout",
          "text": [
            "Validation accuracy is: 80.5 %\n",
            "Epoch [12/50], Step [100/245], Loss: 0.2520\n",
            "Epoch [12/50], Step [200/245], Loss: 0.2642\n"
          ]
        },
        {
          "output_type": "stream",
          "name": "stderr",
          "text": [
            "\r 24%|██▍       | 12/50 [05:50<18:11, 28.71s/it]"
          ]
        },
        {
          "output_type": "stream",
          "name": "stdout",
          "text": [
            "Validation accuracy is: 80.8 %\n",
            "Epoch [13/50], Step [100/245], Loss: 0.1617\n",
            "Epoch [13/50], Step [200/245], Loss: 0.2015\n"
          ]
        },
        {
          "output_type": "stream",
          "name": "stderr",
          "text": [
            "\r 26%|██▌       | 13/50 [06:18<17:38, 28.60s/it]"
          ]
        },
        {
          "output_type": "stream",
          "name": "stdout",
          "text": [
            "Validation accuracy is: 80.0 %\n",
            "Epoch [14/50], Step [100/245], Loss: 0.1339\n",
            "Epoch [14/50], Step [200/245], Loss: 0.1526\n"
          ]
        },
        {
          "output_type": "stream",
          "name": "stderr",
          "text": [
            "\r 28%|██▊       | 14/50 [06:47<17:08, 28.56s/it]"
          ]
        },
        {
          "output_type": "stream",
          "name": "stdout",
          "text": [
            "Validation accuracy is: 82.0 %\n",
            "Epoch [15/50], Step [100/245], Loss: 0.0978\n",
            "Epoch [15/50], Step [200/245], Loss: 0.1480\n"
          ]
        },
        {
          "output_type": "stream",
          "name": "stderr",
          "text": [
            "\r 30%|███       | 15/50 [07:16<16:42, 28.64s/it]"
          ]
        },
        {
          "output_type": "stream",
          "name": "stdout",
          "text": [
            "Validation accuracy is: 81.9 %\n",
            "Epoch [16/50], Step [100/245], Loss: 0.1064\n",
            "Epoch [16/50], Step [200/245], Loss: 0.1402\n"
          ]
        },
        {
          "output_type": "stream",
          "name": "stderr",
          "text": [
            "\r 32%|███▏      | 16/50 [07:44<16:11, 28.57s/it]"
          ]
        },
        {
          "output_type": "stream",
          "name": "stdout",
          "text": [
            "Validation accuracy is: 81.3 %\n",
            "Epoch [17/50], Step [100/245], Loss: 0.0968\n",
            "Epoch [17/50], Step [200/245], Loss: 0.1166\n"
          ]
        },
        {
          "output_type": "stream",
          "name": "stderr",
          "text": [
            "\r 34%|███▍      | 17/50 [08:12<15:40, 28.49s/it]"
          ]
        },
        {
          "output_type": "stream",
          "name": "stdout",
          "text": [
            "Validation accuracy is: 80.9 %\n",
            "Epoch [18/50], Step [100/245], Loss: 0.0992\n",
            "Epoch [18/50], Step [200/245], Loss: 0.1349\n"
          ]
        },
        {
          "output_type": "stream",
          "name": "stderr",
          "text": [
            "\r 36%|███▌      | 18/50 [08:40<15:07, 28.37s/it]"
          ]
        },
        {
          "output_type": "stream",
          "name": "stdout",
          "text": [
            "Validation accuracy is: 81.3 %\n",
            "Epoch [19/50], Step [100/245], Loss: 0.0681\n",
            "Epoch [19/50], Step [200/245], Loss: 0.1040\n"
          ]
        },
        {
          "output_type": "stream",
          "name": "stderr",
          "text": [
            "\r 38%|███▊      | 19/50 [09:08<14:36, 28.28s/it]"
          ]
        },
        {
          "output_type": "stream",
          "name": "stdout",
          "text": [
            "Validation accuracy is: 82.5 %\n",
            "Epoch [20/50], Step [100/245], Loss: 0.0301\n",
            "Epoch [20/50], Step [200/245], Loss: 0.1056\n"
          ]
        },
        {
          "output_type": "stream",
          "name": "stderr",
          "text": [
            "\r 40%|████      | 20/50 [09:37<14:06, 28.21s/it]"
          ]
        },
        {
          "output_type": "stream",
          "name": "stdout",
          "text": [
            "Validation accuracy is: 80.9 %\n",
            "Epoch [21/50], Step [100/245], Loss: 0.0439\n",
            "Epoch [21/50], Step [200/245], Loss: 0.1082\n"
          ]
        },
        {
          "output_type": "stream",
          "name": "stderr",
          "text": [
            "\r 42%|████▏     | 21/50 [10:05<13:36, 28.15s/it]"
          ]
        },
        {
          "output_type": "stream",
          "name": "stdout",
          "text": [
            "Validation accuracy is: 80.3 %\n",
            "Epoch [22/50], Step [100/245], Loss: 0.0288\n",
            "Epoch [22/50], Step [200/245], Loss: 0.0577\n"
          ]
        },
        {
          "output_type": "stream",
          "name": "stderr",
          "text": [
            "\r 44%|████▍     | 22/50 [10:33<13:09, 28.21s/it]"
          ]
        },
        {
          "output_type": "stream",
          "name": "stdout",
          "text": [
            "Validation accuracy is: 80.9 %\n",
            "Epoch [23/50], Step [100/245], Loss: 0.0530\n",
            "Epoch [23/50], Step [200/245], Loss: 0.0891\n"
          ]
        },
        {
          "output_type": "stream",
          "name": "stderr",
          "text": [
            "\r 46%|████▌     | 23/50 [11:01<12:40, 28.17s/it]"
          ]
        },
        {
          "output_type": "stream",
          "name": "stdout",
          "text": [
            "Validation accuracy is: 80.4 %\n",
            "Epoch [24/50], Step [100/245], Loss: 0.0296\n",
            "Epoch [24/50], Step [200/245], Loss: 0.0514\n"
          ]
        },
        {
          "output_type": "stream",
          "name": "stderr",
          "text": [
            "\r 48%|████▊     | 24/50 [11:29<12:11, 28.12s/it]"
          ]
        },
        {
          "output_type": "stream",
          "name": "stdout",
          "text": [
            "Validation accuracy is: 82.0 %\n",
            "Epoch [25/50], Step [100/245], Loss: 0.0121\n",
            "Epoch [25/50], Step [200/245], Loss: 0.0346\n"
          ]
        },
        {
          "output_type": "stream",
          "name": "stderr",
          "text": [
            "\r 50%|█████     | 25/50 [11:57<11:42, 28.10s/it]"
          ]
        },
        {
          "output_type": "stream",
          "name": "stdout",
          "text": [
            "Validation accuracy is: 80.9 %\n",
            "Epoch [26/50], Step [100/245], Loss: 0.0413\n",
            "Epoch [26/50], Step [200/245], Loss: 0.0285\n"
          ]
        },
        {
          "output_type": "stream",
          "name": "stderr",
          "text": [
            "\r 52%|█████▏    | 26/50 [12:25<11:13, 28.08s/it]"
          ]
        },
        {
          "output_type": "stream",
          "name": "stdout",
          "text": [
            "Validation accuracy is: 81.6 %\n",
            "Epoch [27/50], Step [100/245], Loss: 0.0436\n",
            "Epoch [27/50], Step [200/245], Loss: 0.0543\n"
          ]
        },
        {
          "output_type": "stream",
          "name": "stderr",
          "text": [
            "\r 54%|█████▍    | 27/50 [12:53<10:45, 28.08s/it]"
          ]
        },
        {
          "output_type": "stream",
          "name": "stdout",
          "text": [
            "Validation accuracy is: 81.8 %\n",
            "Epoch [28/50], Step [100/245], Loss: 0.0360\n",
            "Epoch [28/50], Step [200/245], Loss: 0.0258\n"
          ]
        },
        {
          "output_type": "stream",
          "name": "stderr",
          "text": [
            "\r 56%|█████▌    | 28/50 [13:21<10:17, 28.07s/it]"
          ]
        },
        {
          "output_type": "stream",
          "name": "stdout",
          "text": [
            "Validation accuracy is: 81.4 %\n",
            "Epoch [29/50], Step [100/245], Loss: 0.0075\n",
            "Epoch [29/50], Step [200/245], Loss: 0.0390\n"
          ]
        },
        {
          "output_type": "stream",
          "name": "stderr",
          "text": [
            "\r 58%|█████▊    | 29/50 [13:49<09:50, 28.14s/it]"
          ]
        },
        {
          "output_type": "stream",
          "name": "stdout",
          "text": [
            "Validation accuracy is: 82.4 %\n",
            "Epoch [30/50], Step [100/245], Loss: 0.0111\n",
            "Epoch [30/50], Step [200/245], Loss: 0.0140\n"
          ]
        },
        {
          "output_type": "stream",
          "name": "stderr",
          "text": [
            "\r 60%|██████    | 30/50 [14:18<09:22, 28.14s/it]"
          ]
        },
        {
          "output_type": "stream",
          "name": "stdout",
          "text": [
            "Validation accuracy is: 82.4 %\n",
            "Epoch [31/50], Step [100/245], Loss: 0.0131\n",
            "Epoch [31/50], Step [200/245], Loss: 0.0040\n"
          ]
        },
        {
          "output_type": "stream",
          "name": "stderr",
          "text": [
            "\r 62%|██████▏   | 31/50 [14:46<08:55, 28.17s/it]"
          ]
        },
        {
          "output_type": "stream",
          "name": "stdout",
          "text": [
            "Validation accuracy is: 82.8 %\n",
            "Epoch [32/50], Step [100/245], Loss: 0.0014\n",
            "Epoch [32/50], Step [200/245], Loss: 0.0039\n"
          ]
        },
        {
          "output_type": "stream",
          "name": "stderr",
          "text": [
            "\r 64%|██████▍   | 32/50 [15:14<08:26, 28.13s/it]"
          ]
        },
        {
          "output_type": "stream",
          "name": "stdout",
          "text": [
            "Validation accuracy is: 82.8 %\n",
            "Epoch [33/50], Step [100/245], Loss: 0.0029\n",
            "Epoch [33/50], Step [200/245], Loss: 0.0026\n"
          ]
        },
        {
          "output_type": "stream",
          "name": "stderr",
          "text": [
            "\r 66%|██████▌   | 33/50 [15:42<07:57, 28.08s/it]"
          ]
        },
        {
          "output_type": "stream",
          "name": "stdout",
          "text": [
            "Validation accuracy is: 82.9 %\n",
            "Epoch [34/50], Step [100/245], Loss: 0.0019\n",
            "Epoch [34/50], Step [200/245], Loss: 0.0027\n"
          ]
        },
        {
          "output_type": "stream",
          "name": "stderr",
          "text": [
            "\r 68%|██████▊   | 34/50 [16:10<07:29, 28.10s/it]"
          ]
        },
        {
          "output_type": "stream",
          "name": "stdout",
          "text": [
            "Validation accuracy is: 83.5 %\n",
            "Epoch [35/50], Step [100/245], Loss: 0.0025\n",
            "Epoch [35/50], Step [200/245], Loss: 0.0033\n"
          ]
        },
        {
          "output_type": "stream",
          "name": "stderr",
          "text": [
            "\r 70%|███████   | 35/50 [16:38<07:02, 28.15s/it]"
          ]
        },
        {
          "output_type": "stream",
          "name": "stdout",
          "text": [
            "Validation accuracy is: 82.4 %\n",
            "Epoch [36/50], Step [100/245], Loss: 0.0024\n",
            "Epoch [36/50], Step [200/245], Loss: 0.0030\n"
          ]
        },
        {
          "output_type": "stream",
          "name": "stderr",
          "text": [
            "\r 72%|███████▏  | 36/50 [17:07<06:34, 28.17s/it]"
          ]
        },
        {
          "output_type": "stream",
          "name": "stdout",
          "text": [
            "Validation accuracy is: 83.1 %\n",
            "Epoch [37/50], Step [100/245], Loss: 0.0310\n",
            "Epoch [37/50], Step [200/245], Loss: 0.2426\n"
          ]
        },
        {
          "output_type": "stream",
          "name": "stderr",
          "text": [
            "\r 74%|███████▍  | 37/50 [17:35<06:05, 28.14s/it]"
          ]
        },
        {
          "output_type": "stream",
          "name": "stdout",
          "text": [
            "Validation accuracy is: 78.2 %\n",
            "Epoch [38/50], Step [100/245], Loss: 0.0811\n",
            "Epoch [38/50], Step [200/245], Loss: 0.0620\n"
          ]
        },
        {
          "output_type": "stream",
          "name": "stderr",
          "text": [
            "\r 76%|███████▌  | 38/50 [18:03<05:37, 28.13s/it]"
          ]
        },
        {
          "output_type": "stream",
          "name": "stdout",
          "text": [
            "Validation accuracy is: 81.9 %\n",
            "Epoch [39/50], Step [100/245], Loss: 0.0110\n",
            "Epoch [39/50], Step [200/245], Loss: 0.0122\n"
          ]
        },
        {
          "output_type": "stream",
          "name": "stderr",
          "text": [
            "\r 78%|███████▊  | 39/50 [18:31<05:09, 28.12s/it]"
          ]
        },
        {
          "output_type": "stream",
          "name": "stdout",
          "text": [
            "Validation accuracy is: 82.8 %\n",
            "Epoch [40/50], Step [100/245], Loss: 0.0070\n",
            "Epoch [40/50], Step [200/245], Loss: 0.0059\n"
          ]
        },
        {
          "output_type": "stream",
          "name": "stderr",
          "text": [
            "\r 80%|████████  | 40/50 [18:59<04:41, 28.13s/it]"
          ]
        },
        {
          "output_type": "stream",
          "name": "stdout",
          "text": [
            "Validation accuracy is: 83.2 %\n",
            "Epoch [41/50], Step [100/245], Loss: 0.0037\n",
            "Epoch [41/50], Step [200/245], Loss: 0.0035\n"
          ]
        },
        {
          "output_type": "stream",
          "name": "stderr",
          "text": [
            "\r 82%|████████▏ | 41/50 [19:27<04:12, 28.09s/it]"
          ]
        },
        {
          "output_type": "stream",
          "name": "stdout",
          "text": [
            "Validation accuracy is: 83.0 %\n",
            "Epoch [42/50], Step [100/245], Loss: 0.0034\n",
            "Epoch [42/50], Step [200/245], Loss: 0.0045\n"
          ]
        },
        {
          "output_type": "stream",
          "name": "stderr",
          "text": [
            "\r 84%|████████▍ | 42/50 [19:55<03:45, 28.18s/it]"
          ]
        },
        {
          "output_type": "stream",
          "name": "stdout",
          "text": [
            "Validation accuracy is: 83.4 %\n",
            "Epoch [43/50], Step [100/245], Loss: 0.0028\n",
            "Epoch [43/50], Step [200/245], Loss: 0.0018\n"
          ]
        },
        {
          "output_type": "stream",
          "name": "stderr",
          "text": [
            "\r 86%|████████▌ | 43/50 [20:24<03:17, 28.20s/it]"
          ]
        },
        {
          "output_type": "stream",
          "name": "stdout",
          "text": [
            "Validation accuracy is: 83.7 %\n",
            "Epoch [44/50], Step [100/245], Loss: 0.0031\n",
            "Epoch [44/50], Step [200/245], Loss: 0.0033\n"
          ]
        },
        {
          "output_type": "stream",
          "name": "stderr",
          "text": [
            "\r 88%|████████▊ | 44/50 [20:52<02:48, 28.14s/it]"
          ]
        },
        {
          "output_type": "stream",
          "name": "stdout",
          "text": [
            "Validation accuracy is: 83.0 %\n",
            "Epoch [45/50], Step [100/245], Loss: 0.0036\n",
            "Epoch [45/50], Step [200/245], Loss: 0.0037\n"
          ]
        },
        {
          "output_type": "stream",
          "name": "stderr",
          "text": [
            "\r 90%|█████████ | 45/50 [21:20<02:20, 28.12s/it]"
          ]
        },
        {
          "output_type": "stream",
          "name": "stdout",
          "text": [
            "Validation accuracy is: 83.0 %\n",
            "Epoch [46/50], Step [100/245], Loss: 0.0064\n",
            "Epoch [46/50], Step [200/245], Loss: 0.0027\n"
          ]
        },
        {
          "output_type": "stream",
          "name": "stderr",
          "text": [
            "\r 92%|█████████▏| 46/50 [21:48<01:52, 28.10s/it]"
          ]
        },
        {
          "output_type": "stream",
          "name": "stdout",
          "text": [
            "Validation accuracy is: 83.6 %\n",
            "Epoch [47/50], Step [100/245], Loss: 0.0025\n",
            "Epoch [47/50], Step [200/245], Loss: 0.0038\n"
          ]
        },
        {
          "output_type": "stream",
          "name": "stderr",
          "text": [
            "\r 94%|█████████▍| 47/50 [22:16<01:24, 28.09s/it]"
          ]
        },
        {
          "output_type": "stream",
          "name": "stdout",
          "text": [
            "Validation accuracy is: 83.5 %\n",
            "Epoch [48/50], Step [100/245], Loss: 0.0019\n",
            "Epoch [48/50], Step [200/245], Loss: 0.0032\n"
          ]
        },
        {
          "output_type": "stream",
          "name": "stderr",
          "text": [
            "\r 96%|█████████▌| 48/50 [22:44<00:56, 28.10s/it]"
          ]
        },
        {
          "output_type": "stream",
          "name": "stdout",
          "text": [
            "Validation accuracy is: 83.8 %\n",
            "Epoch [49/50], Step [100/245], Loss: 0.0033\n",
            "Epoch [49/50], Step [200/245], Loss: 0.0030\n"
          ]
        },
        {
          "output_type": "stream",
          "name": "stderr",
          "text": [
            "\r 98%|█████████▊| 49/50 [23:12<00:28, 28.18s/it]"
          ]
        },
        {
          "output_type": "stream",
          "name": "stdout",
          "text": [
            "Validation accuracy is: 83.7 %\n",
            "Epoch [50/50], Step [100/245], Loss: 0.0039\n",
            "Epoch [50/50], Step [200/245], Loss: 0.0047\n"
          ]
        },
        {
          "output_type": "stream",
          "name": "stderr",
          "text": [
            "100%|██████████| 50/50 [23:40<00:00, 28.42s/it]"
          ]
        },
        {
          "output_type": "stream",
          "name": "stdout",
          "text": [
            "Validation accuracy is: 83.3 %\n"
          ]
        },
        {
          "output_type": "stream",
          "name": "stderr",
          "text": [
            "\n"
          ]
        }
      ]
    },
    {
      "cell_type": "code",
      "source": [
        "## Plot validation and training losses\n",
        "model.eval()\n",
        "\n",
        "plt.rcParams[\"figure.figsize\"] = (8,4)\n",
        "plt.figure(2)\n",
        "plt.plot(loss_train, 'r', label = 'Train loss')\n",
        "plt.plot(loss_val, 'g', label = 'Val loss')\n",
        "plt.xlabel('Epochs')\n",
        "plt.legend()\n",
        "plt.grid(True)\n",
        "plt.tight_layout()\n",
        "plt.show()\n",
        "                                                            \n",
        "print(\"--------------------------------------------------------------------------\")\n",
        "\n",
        "## Plot validation accuracy\n",
        "plt.rcParams[\"figure.figsize\"] = (8,4)\n",
        "plt.figure(3)\n",
        "plt.plot(accuracy_val, \"r\", label = 'Val accuracy')\n",
        "plt.ylabel('Acccuracy [%]')\n",
        "plt.xlabel('Epochs')\n",
        "plt.legend()\n",
        "plt.grid(True)\n",
        "plt.tight_layout()\n",
        "plt.show()"
      ],
      "metadata": {
        "id": "FNLSbacG6cLo",
        "colab": {
          "base_uri": "https://localhost:8080/",
          "height": 594
        },
        "outputId": "7fc45a25-4293-4867-ce5d-b8d3111aed55"
      },
      "execution_count": null,
      "outputs": [
        {
          "output_type": "display_data",
          "data": {
            "text/plain": [
              "<Figure size 576x288 with 1 Axes>"
            ],
            "image/png": "[encoded data removed]"
          },
          "metadata": {
            "needs_background": "light"
          }
        },
        {
          "output_type": "stream",
          "name": "stdout",
          "text": [
            "--------------------------------------------------------------------------\n"
          ]
        },
        {
          "output_type": "display_data",
          "data": {
            "text/plain": [
              "<Figure size 576x288 with 1 Axes>"
            ],
            "image/png": "[encoded data removed]"
          },
          "metadata": {
            "needs_background": "light"
          }
        }
      ]
    },
    {
      "cell_type": "code",
      "source": [
        "## Train the model with BN and with early stop\n",
        "norm_layer = \"BN\"\n",
        "num_epochs = 50\n",
        "\n",
        "## Init model\n",
        "model = ConvNet(input_size, hidden_size, num_classes, norm_layer = norm_layer).to(device)\n",
        "model.apply(weights_init)\n",
        "\n",
        "## Train Model\n",
        "loss_train, loss_val, accuracy_val =  train_model(model, early_stop = True)"
      ],
      "metadata": {
        "id": "Wjrf_iYW6fVR",
        "colab": {
          "base_uri": "https://localhost:8080/"
        },
        "outputId": "e918d8ab-3c54-4d98-86d2-de45df46c411"
      },
      "execution_count": null,
      "outputs": [
        {
          "output_type": "stream",
          "name": "stderr",
          "text": [
            "\r  0%|          | 0/50 [00:00<?, ?it/s]"
          ]
        },
        {
          "output_type": "stream",
          "name": "stdout",
          "text": [
            "Epoch [1/50], Step [100/245], Loss: 1.1789\n",
            "Epoch [1/50], Step [200/245], Loss: 1.1214\n"
          ]
        },
        {
          "output_type": "stream",
          "name": "stderr",
          "text": [
            "\r  2%|▏         | 1/50 [00:29<23:46, 29.11s/it]"
          ]
        },
        {
          "output_type": "stream",
          "name": "stdout",
          "text": [
            "Validation accuracy is: 55.1 %\n",
            "Epoch [2/50], Step [100/245], Loss: 0.9340\n",
            "Epoch [2/50], Step [200/245], Loss: 0.8864\n"
          ]
        },
        {
          "output_type": "stream",
          "name": "stderr",
          "text": [
            "\r  4%|▍         | 2/50 [00:58<23:16, 29.10s/it]"
          ]
        },
        {
          "output_type": "stream",
          "name": "stdout",
          "text": [
            "Validation accuracy is: 62.4 %\n",
            "Epoch [3/50], Step [100/245], Loss: 0.6486\n",
            "Epoch [3/50], Step [200/245], Loss: 0.6127\n"
          ]
        },
        {
          "output_type": "stream",
          "name": "stderr",
          "text": [
            "\r  6%|▌         | 3/50 [01:26<22:38, 28.90s/it]"
          ]
        },
        {
          "output_type": "stream",
          "name": "stdout",
          "text": [
            "Validation accuracy is: 59.5 %\n",
            "Epoch [4/50], Step [100/245], Loss: 0.7365\n",
            "Epoch [4/50], Step [200/245], Loss: 0.6389\n"
          ]
        },
        {
          "output_type": "stream",
          "name": "stderr",
          "text": [
            "\r  8%|▊         | 4/50 [01:56<22:14, 29.00s/it]"
          ]
        },
        {
          "output_type": "stream",
          "name": "stdout",
          "text": [
            "Validation accuracy is: 72.0 %\n",
            "Epoch [5/50], Step [100/245], Loss: 0.6362\n",
            "Epoch [5/50], Step [200/245], Loss: 0.5727\n"
          ]
        },
        {
          "output_type": "stream",
          "name": "stderr",
          "text": [
            "\r 10%|█         | 5/50 [02:24<21:43, 28.97s/it]"
          ]
        },
        {
          "output_type": "stream",
          "name": "stdout",
          "text": [
            "Validation accuracy is: 73.5 %\n",
            "Epoch [6/50], Step [100/245], Loss: 0.4692\n",
            "Epoch [6/50], Step [200/245], Loss: 0.5796\n"
          ]
        },
        {
          "output_type": "stream",
          "name": "stderr",
          "text": [
            "\r 12%|█▏        | 6/50 [02:53<21:11, 28.89s/it]"
          ]
        },
        {
          "output_type": "stream",
          "name": "stdout",
          "text": [
            "Validation accuracy is: 81.7 %\n",
            "Epoch [7/50], Step [100/245], Loss: 0.4771\n",
            "Epoch [7/50], Step [200/245], Loss: 0.5411\n"
          ]
        },
        {
          "output_type": "stream",
          "name": "stderr",
          "text": [
            "\r 14%|█▍        | 7/50 [03:22<20:36, 28.77s/it]"
          ]
        },
        {
          "output_type": "stream",
          "name": "stdout",
          "text": [
            "Validation accuracy is: 79.6 %\n",
            "Epoch [8/50], Step [100/245], Loss: 0.4090\n",
            "Epoch [8/50], Step [200/245], Loss: 0.3260\n"
          ]
        },
        {
          "output_type": "stream",
          "name": "stderr",
          "text": [
            "\r 16%|█▌        | 8/50 [03:50<20:00, 28.58s/it]"
          ]
        },
        {
          "output_type": "stream",
          "name": "stdout",
          "text": [
            "Validation accuracy is: 77.2 %\n",
            "Epoch [9/50], Step [100/245], Loss: 0.2511\n",
            "Epoch [9/50], Step [200/245], Loss: 0.3592\n"
          ]
        },
        {
          "output_type": "stream",
          "name": "stderr",
          "text": [
            "\r 18%|█▊        | 9/50 [04:18<19:28, 28.50s/it]"
          ]
        },
        {
          "output_type": "stream",
          "name": "stdout",
          "text": [
            "Validation accuracy is: 77.6 %\n",
            "Epoch [10/50], Step [100/245], Loss: 0.2726\n",
            "Epoch [10/50], Step [200/245], Loss: 0.3566\n"
          ]
        },
        {
          "output_type": "stream",
          "name": "stderr",
          "text": [
            "\r 20%|██        | 10/50 [04:47<18:58, 28.46s/it]"
          ]
        },
        {
          "output_type": "stream",
          "name": "stdout",
          "text": [
            "Validation accuracy is: 79.7 %\n",
            "Epoch [11/50], Step [100/245], Loss: 0.2071\n",
            "Epoch [11/50], Step [200/245], Loss: 0.3073\n"
          ]
        },
        {
          "output_type": "stream",
          "name": "stderr",
          "text": [
            "\r 22%|██▏       | 11/50 [05:15<18:32, 28.53s/it]"
          ]
        },
        {
          "output_type": "stream",
          "name": "stdout",
          "text": [
            "Validation accuracy is: 77.2 %\n",
            "Epoch [12/50], Step [100/245], Loss: 0.1413\n",
            "Epoch [12/50], Step [200/245], Loss: 0.2070\n"
          ]
        },
        {
          "output_type": "stream",
          "name": "stderr",
          "text": [
            "\r 24%|██▍       | 12/50 [05:44<18:01, 28.45s/it]"
          ]
        },
        {
          "output_type": "stream",
          "name": "stdout",
          "text": [
            "Validation accuracy is: 78.3 %\n",
            "Epoch [13/50], Step [100/245], Loss: 0.1053\n",
            "Epoch [13/50], Step [200/245], Loss: 0.1808\n"
          ]
        },
        {
          "output_type": "stream",
          "name": "stderr",
          "text": [
            "\r 26%|██▌       | 13/50 [06:12<17:29, 28.36s/it]"
          ]
        },
        {
          "output_type": "stream",
          "name": "stdout",
          "text": [
            "Validation accuracy is: 79.3 %\n",
            "Epoch [14/50], Step [100/245], Loss: 0.0850\n",
            "Epoch [14/50], Step [200/245], Loss: 0.1437\n"
          ]
        },
        {
          "output_type": "stream",
          "name": "stderr",
          "text": [
            "\r 28%|██▊       | 14/50 [06:40<17:04, 28.45s/it]"
          ]
        },
        {
          "output_type": "stream",
          "name": "stdout",
          "text": [
            "Validation accuracy is: 79.1 %\n",
            "Epoch [15/50], Step [100/245], Loss: 0.0854\n",
            "Epoch [15/50], Step [200/245], Loss: 0.1091\n"
          ]
        },
        {
          "output_type": "stream",
          "name": "stderr",
          "text": [
            "\r 30%|███       | 15/50 [07:09<16:35, 28.46s/it]"
          ]
        },
        {
          "output_type": "stream",
          "name": "stdout",
          "text": [
            "Validation accuracy is: 80.0 %\n",
            "Epoch [16/50], Step [100/245], Loss: 0.1013\n",
            "Epoch [16/50], Step [200/245], Loss: 0.1178\n"
          ]
        },
        {
          "output_type": "stream",
          "name": "stderr",
          "text": [
            "\r 32%|███▏      | 16/50 [07:37<16:06, 28.42s/it]"
          ]
        },
        {
          "output_type": "stream",
          "name": "stdout",
          "text": [
            "Validation accuracy is: 79.3 %\n",
            "Epoch [17/50], Step [100/245], Loss: 0.0826\n",
            "Epoch [17/50], Step [200/245], Loss: 0.0865\n"
          ]
        },
        {
          "output_type": "stream",
          "name": "stderr",
          "text": [
            "\r 34%|███▍      | 17/50 [08:06<15:38, 28.44s/it]"
          ]
        },
        {
          "output_type": "stream",
          "name": "stdout",
          "text": [
            "Validation accuracy is: 81.8 %\n",
            "Epoch [18/50], Step [100/245], Loss: 0.1173\n",
            "Epoch [18/50], Step [200/245], Loss: 0.1135\n"
          ]
        },
        {
          "output_type": "stream",
          "name": "stderr",
          "text": [
            "\r 36%|███▌      | 18/50 [08:34<15:08, 28.41s/it]"
          ]
        },
        {
          "output_type": "stream",
          "name": "stdout",
          "text": [
            "Validation accuracy is: 81.3 %\n",
            "Epoch [19/50], Step [100/245], Loss: 0.0525\n",
            "Epoch [19/50], Step [200/245], Loss: 0.0597\n"
          ]
        },
        {
          "output_type": "stream",
          "name": "stderr",
          "text": [
            "\r 38%|███▊      | 19/50 [09:02<14:39, 28.38s/it]"
          ]
        },
        {
          "output_type": "stream",
          "name": "stdout",
          "text": [
            "Validation accuracy is: 81.8 %\n",
            "Epoch [20/50], Step [100/245], Loss: 0.0427\n",
            "Epoch [20/50], Step [200/245], Loss: 0.0580\n"
          ]
        },
        {
          "output_type": "stream",
          "name": "stderr",
          "text": [
            "\r 40%|████      | 20/50 [09:31<14:10, 28.34s/it]"
          ]
        },
        {
          "output_type": "stream",
          "name": "stdout",
          "text": [
            "Validation accuracy is: 82.3 %\n",
            "Epoch [21/50], Step [100/245], Loss: 0.0540\n",
            "Epoch [21/50], Step [200/245], Loss: 0.0698\n"
          ]
        },
        {
          "output_type": "stream",
          "name": "stderr",
          "text": [
            "\r 42%|████▏     | 21/50 [09:59<13:40, 28.28s/it]"
          ]
        },
        {
          "output_type": "stream",
          "name": "stdout",
          "text": [
            "Validation accuracy is: 83.8 %\n",
            "Epoch [22/50], Step [100/245], Loss: 0.0503\n",
            "Epoch [22/50], Step [200/245], Loss: 0.0571\n"
          ]
        },
        {
          "output_type": "stream",
          "name": "stderr",
          "text": [
            "\r 44%|████▍     | 22/50 [10:27<13:10, 28.23s/it]"
          ]
        },
        {
          "output_type": "stream",
          "name": "stdout",
          "text": [
            "Validation accuracy is: 83.2 %\n",
            "Epoch [23/50], Step [100/245], Loss: 0.0118\n",
            "Epoch [23/50], Step [200/245], Loss: 0.0517\n"
          ]
        },
        {
          "output_type": "stream",
          "name": "stderr",
          "text": [
            "\r 46%|████▌     | 23/50 [10:55<12:42, 28.23s/it]"
          ]
        },
        {
          "output_type": "stream",
          "name": "stdout",
          "text": [
            "Validation accuracy is: 83.0 %\n",
            "Epoch [24/50], Step [100/245], Loss: 0.0420\n",
            "Epoch [24/50], Step [200/245], Loss: 0.0519\n"
          ]
        },
        {
          "output_type": "stream",
          "name": "stderr",
          "text": [
            "\r 48%|████▊     | 24/50 [11:23<12:15, 28.30s/it]"
          ]
        },
        {
          "output_type": "stream",
          "name": "stdout",
          "text": [
            "Validation accuracy is: 82.9 %\n",
            "Epoch [25/50], Step [100/245], Loss: 0.0193\n",
            "Epoch [25/50], Step [200/245], Loss: 0.0316\n"
          ]
        },
        {
          "output_type": "stream",
          "name": "stderr",
          "text": [
            "\r 50%|█████     | 25/50 [11:52<11:46, 28.25s/it]"
          ]
        },
        {
          "output_type": "stream",
          "name": "stdout",
          "text": [
            "Validation accuracy is: 81.6 %\n",
            "Epoch [26/50], Step [100/245], Loss: 0.0552\n",
            "Epoch [26/50], Step [200/245], Loss: 0.0595\n"
          ]
        },
        {
          "output_type": "stream",
          "name": "stderr",
          "text": [
            "\r 52%|█████▏    | 26/50 [12:20<11:16, 28.19s/it]"
          ]
        },
        {
          "output_type": "stream",
          "name": "stdout",
          "text": [
            "Validation accuracy is: 82.4 %\n",
            "Epoch [27/50], Step [100/245], Loss: 0.0192\n",
            "Epoch [27/50], Step [200/245], Loss: 0.0630\n"
          ]
        },
        {
          "output_type": "stream",
          "name": "stderr",
          "text": [
            "\r 54%|█████▍    | 27/50 [12:48<10:47, 28.14s/it]"
          ]
        },
        {
          "output_type": "stream",
          "name": "stdout",
          "text": [
            "Validation accuracy is: 81.4 %\n",
            "Epoch [28/50], Step [100/245], Loss: 0.0342\n",
            "Epoch [28/50], Step [200/245], Loss: 0.0328\n"
          ]
        },
        {
          "output_type": "stream",
          "name": "stderr",
          "text": [
            "\r 56%|█████▌    | 28/50 [13:16<10:19, 28.17s/it]"
          ]
        },
        {
          "output_type": "stream",
          "name": "stdout",
          "text": [
            "Validation accuracy is: 83.4 %\n",
            "Epoch [29/50], Step [100/245], Loss: 0.0061\n",
            "Epoch [29/50], Step [200/245], Loss: 0.0159\n"
          ]
        },
        {
          "output_type": "stream",
          "name": "stderr",
          "text": [
            "\r 58%|█████▊    | 29/50 [13:44<09:51, 28.15s/it]"
          ]
        },
        {
          "output_type": "stream",
          "name": "stdout",
          "text": [
            "Validation accuracy is: 84.4 %\n",
            "Epoch [30/50], Step [100/245], Loss: 0.0147\n",
            "Epoch [30/50], Step [200/245], Loss: 0.0058\n"
          ]
        },
        {
          "output_type": "stream",
          "name": "stderr",
          "text": [
            "\r 60%|██████    | 30/50 [14:12<09:23, 28.17s/it]"
          ]
        },
        {
          "output_type": "stream",
          "name": "stdout",
          "text": [
            "Validation accuracy is: 85.0 %\n",
            "Epoch [31/50], Step [100/245], Loss: 0.0045\n",
            "Epoch [31/50], Step [200/245], Loss: 0.0041\n"
          ]
        },
        {
          "output_type": "stream",
          "name": "stderr",
          "text": [
            "\r 62%|██████▏   | 31/50 [14:40<08:55, 28.17s/it]"
          ]
        },
        {
          "output_type": "stream",
          "name": "stdout",
          "text": [
            "Validation accuracy is: 85.2 %\n",
            "Epoch [32/50], Step [100/245], Loss: 0.0034\n",
            "Epoch [32/50], Step [200/245], Loss: 0.0041\n"
          ]
        },
        {
          "output_type": "stream",
          "name": "stderr",
          "text": [
            "\r 64%|██████▍   | 32/50 [15:09<08:27, 28.19s/it]"
          ]
        },
        {
          "output_type": "stream",
          "name": "stdout",
          "text": [
            "Validation accuracy is: 84.6 %\n",
            "Epoch [33/50], Step [100/245], Loss: 0.0028\n",
            "Epoch [33/50], Step [200/245], Loss: 0.0023\n"
          ]
        },
        {
          "output_type": "stream",
          "name": "stderr",
          "text": [
            "\r 66%|██████▌   | 33/50 [15:37<07:59, 28.18s/it]"
          ]
        },
        {
          "output_type": "stream",
          "name": "stdout",
          "text": [
            "Validation accuracy is: 85.1 %\n",
            "Epoch [34/50], Step [100/245], Loss: 0.0019\n",
            "Epoch [34/50], Step [200/245], Loss: 0.0055\n"
          ]
        },
        {
          "output_type": "stream",
          "name": "stderr",
          "text": [
            "\r 68%|██████▊   | 34/50 [16:05<07:30, 28.16s/it]"
          ]
        },
        {
          "output_type": "stream",
          "name": "stdout",
          "text": [
            "Validation accuracy is: 85.0 %\n",
            "Epoch [35/50], Step [100/245], Loss: 0.0040\n",
            "Epoch [35/50], Step [200/245], Loss: 0.0031\n"
          ]
        },
        {
          "output_type": "stream",
          "name": "stderr",
          "text": [
            "\r 70%|███████   | 35/50 [16:33<07:01, 28.11s/it]"
          ]
        },
        {
          "output_type": "stream",
          "name": "stdout",
          "text": [
            "Validation accuracy is: 84.9 %\n",
            "Epoch [36/50], Step [100/245], Loss: 0.0021\n",
            "Epoch [36/50], Step [200/245], Loss: 0.0059\n"
          ]
        },
        {
          "output_type": "stream",
          "name": "stderr",
          "text": [
            "\r 72%|███████▏  | 36/50 [17:01<06:32, 28.07s/it]"
          ]
        },
        {
          "output_type": "stream",
          "name": "stdout",
          "text": [
            "Validation accuracy is: 84.4 %\n",
            "Epoch [37/50], Step [100/245], Loss: 0.0045\n",
            "Epoch [37/50], Step [200/245], Loss: 0.0046\n"
          ]
        },
        {
          "output_type": "stream",
          "name": "stderr",
          "text": [
            "\r 74%|███████▍  | 37/50 [17:29<06:06, 28.22s/it]"
          ]
        },
        {
          "output_type": "stream",
          "name": "stdout",
          "text": [
            "Validation accuracy is: 83.4 %\n",
            "Epoch [38/50], Step [100/245], Loss: 0.0083\n",
            "Epoch [38/50], Step [200/245], Loss: 0.2296\n"
          ]
        },
        {
          "output_type": "stream",
          "name": "stderr",
          "text": [
            "\r 76%|███████▌  | 38/50 [17:58<05:38, 28.19s/it]"
          ]
        },
        {
          "output_type": "stream",
          "name": "stdout",
          "text": [
            "Validation accuracy is: 75.6 %\n",
            "Epoch [39/50], Step [100/245], Loss: 0.1102\n",
            "Epoch [39/50], Step [200/245], Loss: 0.0885\n"
          ]
        },
        {
          "output_type": "stream",
          "name": "stderr",
          "text": [
            "\r 78%|███████▊  | 39/50 [18:26<05:09, 28.15s/it]"
          ]
        },
        {
          "output_type": "stream",
          "name": "stdout",
          "text": [
            "Validation accuracy is: 82.3 %\n",
            "Epoch [40/50], Step [100/245], Loss: 0.0410\n",
            "Epoch [40/50], Step [200/245], Loss: 0.0219\n"
          ]
        },
        {
          "output_type": "stream",
          "name": "stderr",
          "text": [
            "\r 80%|████████  | 40/50 [18:54<04:41, 28.10s/it]"
          ]
        },
        {
          "output_type": "stream",
          "name": "stdout",
          "text": [
            "Validation accuracy is: 83.8 %\n",
            "Epoch [41/50], Step [100/245], Loss: 0.0084\n",
            "Epoch [41/50], Step [200/245], Loss: 0.0069\n"
          ]
        },
        {
          "output_type": "stream",
          "name": "stderr",
          "text": [
            "\r 82%|████████▏ | 41/50 [19:22<04:12, 28.07s/it]"
          ]
        },
        {
          "output_type": "stream",
          "name": "stdout",
          "text": [
            "Validation accuracy is: 83.1 %\n",
            "Epoch [42/50], Step [100/245], Loss: 0.0036\n",
            "Epoch [42/50], Step [200/245], Loss: 0.0044\n"
          ]
        },
        {
          "output_type": "stream",
          "name": "stderr",
          "text": [
            "\r 84%|████████▍ | 42/50 [19:50<03:44, 28.05s/it]"
          ]
        },
        {
          "output_type": "stream",
          "name": "stdout",
          "text": [
            "Validation accuracy is: 83.3 %\n",
            "Epoch [43/50], Step [100/245], Loss: 0.0038\n",
            "Epoch [43/50], Step [200/245], Loss: 0.0045\n"
          ]
        },
        {
          "output_type": "stream",
          "name": "stderr",
          "text": [
            "\r 86%|████████▌ | 43/50 [20:18<03:16, 28.05s/it]"
          ]
        },
        {
          "output_type": "stream",
          "name": "stdout",
          "text": [
            "Validation accuracy is: 84.0 %\n",
            "Epoch [44/50], Step [100/245], Loss: 0.0033\n",
            "Epoch [44/50], Step [200/245], Loss: 0.0053\n"
          ]
        },
        {
          "output_type": "stream",
          "name": "stderr",
          "text": [
            "\r 88%|████████▊ | 44/50 [20:46<02:48, 28.10s/it]"
          ]
        },
        {
          "output_type": "stream",
          "name": "stdout",
          "text": [
            "Validation accuracy is: 84.3 %\n",
            "Epoch [45/50], Step [100/245], Loss: 0.0018\n",
            "Epoch [45/50], Step [200/245], Loss: 0.0046\n"
          ]
        },
        {
          "output_type": "stream",
          "name": "stderr",
          "text": [
            "\r 90%|█████████ | 45/50 [21:14<02:20, 28.06s/it]"
          ]
        },
        {
          "output_type": "stream",
          "name": "stdout",
          "text": [
            "Validation accuracy is: 84.6 %\n",
            "Epoch [46/50], Step [100/245], Loss: 0.0021\n",
            "Epoch [46/50], Step [200/245], Loss: 0.0028\n"
          ]
        },
        {
          "output_type": "stream",
          "name": "stderr",
          "text": [
            "\r 92%|█████████▏| 46/50 [21:42<01:52, 28.13s/it]"
          ]
        },
        {
          "output_type": "stream",
          "name": "stdout",
          "text": [
            "Validation accuracy is: 84.4 %\n",
            "Epoch [47/50], Step [100/245], Loss: 0.0033\n",
            "Epoch [47/50], Step [200/245], Loss: 0.0023\n"
          ]
        },
        {
          "output_type": "stream",
          "name": "stderr",
          "text": [
            "\r 94%|█████████▍| 47/50 [22:10<01:24, 28.11s/it]"
          ]
        },
        {
          "output_type": "stream",
          "name": "stdout",
          "text": [
            "Validation accuracy is: 83.3 %\n",
            "Epoch [48/50], Step [100/245], Loss: 0.0027\n",
            "Epoch [48/50], Step [200/245], Loss: 0.0028\n"
          ]
        },
        {
          "output_type": "stream",
          "name": "stderr",
          "text": [
            "\r 96%|█████████▌| 48/50 [22:38<00:56, 28.04s/it]"
          ]
        },
        {
          "output_type": "stream",
          "name": "stdout",
          "text": [
            "Validation accuracy is: 82.9 %\n",
            "Epoch [49/50], Step [100/245], Loss: 0.0027\n",
            "Epoch [49/50], Step [200/245], Loss: 0.0032\n"
          ]
        },
        {
          "output_type": "stream",
          "name": "stderr",
          "text": [
            "\r 98%|█████████▊| 49/50 [23:06<00:28, 28.03s/it]"
          ]
        },
        {
          "output_type": "stream",
          "name": "stdout",
          "text": [
            "Validation accuracy is: 82.9 %\n",
            "Epoch [50/50], Step [100/245], Loss: 0.0030\n",
            "Epoch [50/50], Step [200/245], Loss: 0.0036\n"
          ]
        },
        {
          "output_type": "stream",
          "name": "stderr",
          "text": [
            "100%|██████████| 50/50 [23:35<00:00, 28.30s/it]"
          ]
        },
        {
          "output_type": "stream",
          "name": "stdout",
          "text": [
            "Validation accuracy is: 83.2 %\n"
          ]
        },
        {
          "output_type": "stream",
          "name": "stderr",
          "text": [
            "\n"
          ]
        }
      ]
    },
    {
      "cell_type": "code",
      "execution_count": null,
      "metadata": {
        "id": "UBMMtABHV6kp",
        "colab": {
          "base_uri": "https://localhost:8080/",
          "height": 594
        },
        "outputId": "a91b0d99-03d0-497e-93bd-4594a8f2e816"
      },
      "outputs": [
        {
          "output_type": "display_data",
          "data": {
            "text/plain": [
              "<Figure size 576x288 with 1 Axes>"
            ],
            "image/png": "[encoded data removed]"
          },
          "metadata": {
            "needs_background": "light"
          }
        },
        {
          "output_type": "stream",
          "name": "stdout",
          "text": [
            "--------------------------------------------------------------------------\n"
          ]
        },
        {
          "output_type": "display_data",
          "data": {
            "text/plain": [
              "<Figure size 576x288 with 1 Axes>"
            ],
            "image/png": "[encoded data removed]"
          },
          "metadata": {
            "needs_background": "light"
          }
        }
      ],
      "source": [
        "## Plot validation and training losses\n",
        "\n",
        "# visualize the loss as the network trained\n",
        "fig = plt.figure(figsize = (8,4))\n",
        "plt.plot(range(1,len(loss_train)+1),loss_train, label = 'Training Loss')\n",
        "plt.plot(range(1,len(loss_val)+1),loss_val,label = 'Validation Loss')\n",
        "\n",
        "# find position of lowest validation loss\n",
        "minposs = loss_val.index(min(loss_val))+1 \n",
        "plt.axvline(minposs, linestyle='--', color='r',label = 'Early Stopping Checkpoint')\n",
        "\n",
        "plt.xlabel('epochs')\n",
        "plt.ylabel('loss')\n",
        "plt.ylim(0, 0.01) # consistent scale\n",
        "plt.xlim(0, len(loss_train)+1) # consistent scale\n",
        "plt.grid(True)\n",
        "plt.legend()\n",
        "plt.tight_layout()\n",
        "plt.show()\n",
        "\n",
        "print(\"--------------------------------------------------------------------------\")\n",
        "\n",
        "## Plot validation accuracy\n",
        "\n",
        "## Visualize accuracy plot\n",
        "fig = plt.figure(figsize = (8,4))\n",
        "plt.plot(range(1,len(accuracy_val)+1),accuracy_val,label = 'Validation Accuracy')\n",
        "# find position of lowest validation loss\n",
        "minposs = loss_val.index(min(loss_val))+1 \n",
        "plt.axvline(minposs, linestyle='--', color='r',label = 'Early Stopping Checkpoint')\n",
        "plt.xlabel('Epochs')\n",
        "plt.ylabel('Accuracy [%]')\n",
        "plt.ylim(50, 100) # consistent scale\n",
        "plt.xlim(0, len(loss_train)+1) # consistent scale\n",
        "plt.grid(True)\n",
        "plt.legend()\n",
        "plt.tight_layout()\n",
        "plt.show()"
      ]
    },
    {
      "cell_type": "markdown",
      "source": [
        "## Question 3: Implementing the feedforward model\n"
      ],
      "metadata": {
        "id": "__gfcCrGO9lM"
      }
    },
    {
      "cell_type": "markdown",
      "source": [
        "### a)\n",
        "At this step, we use the *data augmentation* technique in order to create more training data by applying certain transformations to the training set images.\n",
        "\n",
        "We increase also the number of epochs to 30."
      ],
      "metadata": {
        "id": "dB-V-6Y2fZm8"
      }
    },
    {
      "cell_type": "markdown",
      "source": [
        "*run the code on top for data augmentation*"
      ],
      "metadata": {
        "id": "iGkbTvtOSpoO"
      }
    },
    {
      "cell_type": "code",
      "execution_count": null,
      "metadata": {
        "id": "F0eQA0IbV6m2",
        "colab": {
          "base_uri": "https://localhost:8080/"
        },
        "outputId": "428020d8-e6ab-450e-f075-55c7a5362cbc"
      },
      "outputs": [
        {
          "output_type": "stream",
          "name": "stderr",
          "text": [
            "\r  0%|          | 0/30 [00:00<?, ?it/s]"
          ]
        },
        {
          "output_type": "stream",
          "name": "stdout",
          "text": [
            "Epoch [1/30], Step [100/245], Loss: 1.4630\n",
            "Epoch [1/30], Step [200/245], Loss: 1.4294\n"
          ]
        },
        {
          "output_type": "stream",
          "name": "stderr",
          "text": [
            "\r  3%|▎         | 1/30 [01:01<29:48, 61.68s/it]"
          ]
        },
        {
          "output_type": "stream",
          "name": "stdout",
          "text": [
            "Validation accuracy is: 40.7 %\n",
            "Epoch [2/30], Step [100/245], Loss: 1.1304\n",
            "Epoch [2/30], Step [200/245], Loss: 0.9921\n"
          ]
        },
        {
          "output_type": "stream",
          "name": "stderr",
          "text": [
            "\r  7%|▋         | 2/30 [02:03<28:46, 61.67s/it]"
          ]
        },
        {
          "output_type": "stream",
          "name": "stdout",
          "text": [
            "Validation accuracy is: 50.9 %\n",
            "Epoch [3/30], Step [100/245], Loss: 1.0731\n",
            "Epoch [3/30], Step [200/245], Loss: 0.9850\n"
          ]
        },
        {
          "output_type": "stream",
          "name": "stderr",
          "text": [
            "\r 10%|█         | 3/30 [03:04<27:35, 61.31s/it]"
          ]
        },
        {
          "output_type": "stream",
          "name": "stdout",
          "text": [
            "Validation accuracy is: 68.7 %\n",
            "Epoch [4/30], Step [100/245], Loss: 0.8171\n",
            "Epoch [4/30], Step [200/245], Loss: 0.7740\n"
          ]
        },
        {
          "output_type": "stream",
          "name": "stderr",
          "text": [
            "\r 13%|█▎        | 4/30 [04:04<26:27, 61.04s/it]"
          ]
        },
        {
          "output_type": "stream",
          "name": "stdout",
          "text": [
            "Validation accuracy is: 69.2 %\n",
            "Epoch [5/30], Step [100/245], Loss: 0.6654\n",
            "Epoch [5/30], Step [200/245], Loss: 0.6667\n"
          ]
        },
        {
          "output_type": "stream",
          "name": "stderr",
          "text": [
            "\r 17%|█▋        | 5/30 [05:05<25:26, 61.05s/it]"
          ]
        },
        {
          "output_type": "stream",
          "name": "stdout",
          "text": [
            "Validation accuracy is: 72.9 %\n",
            "Epoch [6/30], Step [100/245], Loss: 0.7998\n",
            "Epoch [6/30], Step [200/245], Loss: 0.7516\n"
          ]
        },
        {
          "output_type": "stream",
          "name": "stderr",
          "text": [
            "\r 20%|██        | 6/30 [06:06<24:20, 60.87s/it]"
          ]
        },
        {
          "output_type": "stream",
          "name": "stdout",
          "text": [
            "Validation accuracy is: 73.9 %\n",
            "Epoch [7/30], Step [100/245], Loss: 0.7480\n",
            "Epoch [7/30], Step [200/245], Loss: 0.6933\n"
          ]
        },
        {
          "output_type": "stream",
          "name": "stderr",
          "text": [
            "\r 23%|██▎       | 7/30 [07:06<23:12, 60.55s/it]"
          ]
        },
        {
          "output_type": "stream",
          "name": "stdout",
          "text": [
            "Validation accuracy is: 75.6 %\n",
            "Epoch [8/30], Step [100/245], Loss: 0.6135\n",
            "Epoch [8/30], Step [200/245], Loss: 0.6139\n"
          ]
        },
        {
          "output_type": "stream",
          "name": "stderr",
          "text": [
            "\r 27%|██▋       | 8/30 [08:07<22:13, 60.61s/it]"
          ]
        },
        {
          "output_type": "stream",
          "name": "stdout",
          "text": [
            "Validation accuracy is: 74.6 %\n",
            "Epoch [9/30], Step [100/245], Loss: 0.5609\n",
            "Epoch [9/30], Step [200/245], Loss: 0.5711\n"
          ]
        },
        {
          "output_type": "stream",
          "name": "stderr",
          "text": [
            "\r 30%|███       | 9/30 [09:09<21:22, 61.05s/it]"
          ]
        },
        {
          "output_type": "stream",
          "name": "stdout",
          "text": [
            "Validation accuracy is: 77.0 %\n",
            "Epoch [10/30], Step [100/245], Loss: 0.5801\n",
            "Epoch [10/30], Step [200/245], Loss: 0.5820\n"
          ]
        },
        {
          "output_type": "stream",
          "name": "stderr",
          "text": [
            "\r 33%|███▎      | 10/30 [10:09<20:16, 60.81s/it]"
          ]
        },
        {
          "output_type": "stream",
          "name": "stdout",
          "text": [
            "Validation accuracy is: 79.1 %\n",
            "Epoch [11/30], Step [100/245], Loss: 0.5444\n",
            "Epoch [11/30], Step [200/245], Loss: 0.4221\n"
          ]
        },
        {
          "output_type": "stream",
          "name": "stderr",
          "text": [
            "\r 37%|███▋      | 11/30 [11:09<19:14, 60.74s/it]"
          ]
        },
        {
          "output_type": "stream",
          "name": "stdout",
          "text": [
            "Validation accuracy is: 76.4 %\n",
            "Epoch [12/30], Step [100/245], Loss: 0.4904\n",
            "Epoch [12/30], Step [200/245], Loss: 0.4183\n"
          ]
        },
        {
          "output_type": "stream",
          "name": "stderr",
          "text": [
            "\r 40%|████      | 12/30 [12:10<18:10, 60.61s/it]"
          ]
        },
        {
          "output_type": "stream",
          "name": "stdout",
          "text": [
            "Validation accuracy is: 79.5 %\n",
            "Epoch [13/30], Step [100/245], Loss: 0.5002\n",
            "Epoch [13/30], Step [200/245], Loss: 0.5909\n"
          ]
        },
        {
          "output_type": "stream",
          "name": "stderr",
          "text": [
            "\r 43%|████▎     | 13/30 [13:10<17:06, 60.38s/it]"
          ]
        },
        {
          "output_type": "stream",
          "name": "stdout",
          "text": [
            "Validation accuracy is: 79.6 %\n",
            "Epoch [14/30], Step [100/245], Loss: 0.4645\n",
            "Epoch [14/30], Step [200/245], Loss: 0.4059\n"
          ]
        },
        {
          "output_type": "stream",
          "name": "stderr",
          "text": [
            "\r 47%|████▋     | 14/30 [14:10<16:06, 60.41s/it]"
          ]
        },
        {
          "output_type": "stream",
          "name": "stdout",
          "text": [
            "Validation accuracy is: 80.6 %\n",
            "Epoch [15/30], Step [100/245], Loss: 0.5057\n",
            "Epoch [15/30], Step [200/245], Loss: 0.3711\n"
          ]
        },
        {
          "output_type": "stream",
          "name": "stderr",
          "text": [
            "\r 50%|█████     | 15/30 [15:10<15:02, 60.19s/it]"
          ]
        },
        {
          "output_type": "stream",
          "name": "stdout",
          "text": [
            "Validation accuracy is: 81.4 %\n",
            "Epoch [16/30], Step [100/245], Loss: 0.5063\n",
            "Epoch [16/30], Step [200/245], Loss: 0.5257\n"
          ]
        },
        {
          "output_type": "stream",
          "name": "stderr",
          "text": [
            "\r 53%|█████▎    | 16/30 [16:10<14:04, 60.29s/it]"
          ]
        },
        {
          "output_type": "stream",
          "name": "stdout",
          "text": [
            "Validation accuracy is: 81.3 %\n",
            "Epoch [17/30], Step [100/245], Loss: 0.4749\n",
            "Epoch [17/30], Step [200/245], Loss: 0.4370\n"
          ]
        },
        {
          "output_type": "stream",
          "name": "stderr",
          "text": [
            "\r 57%|█████▋    | 17/30 [17:10<13:01, 60.10s/it]"
          ]
        },
        {
          "output_type": "stream",
          "name": "stdout",
          "text": [
            "Validation accuracy is: 81.0 %\n",
            "Epoch [18/30], Step [100/245], Loss: 0.4580\n",
            "Epoch [18/30], Step [200/245], Loss: 0.5072\n"
          ]
        },
        {
          "output_type": "stream",
          "name": "stderr",
          "text": [
            "\r 60%|██████    | 18/30 [18:10<12:01, 60.09s/it]"
          ]
        },
        {
          "output_type": "stream",
          "name": "stdout",
          "text": [
            "Validation accuracy is: 81.9 %\n",
            "Epoch [19/30], Step [100/245], Loss: 0.3601\n",
            "Epoch [19/30], Step [200/245], Loss: 0.3644\n"
          ]
        },
        {
          "output_type": "stream",
          "name": "stderr",
          "text": [
            "\r 63%|██████▎   | 19/30 [19:10<11:00, 60.03s/it]"
          ]
        },
        {
          "output_type": "stream",
          "name": "stdout",
          "text": [
            "Validation accuracy is: 83.6 %\n",
            "Epoch [20/30], Step [100/245], Loss: 0.4286\n",
            "Epoch [20/30], Step [200/245], Loss: 0.3999\n"
          ]
        },
        {
          "output_type": "stream",
          "name": "stderr",
          "text": [
            "\r 67%|██████▋   | 20/30 [20:09<09:57, 59.76s/it]"
          ]
        },
        {
          "output_type": "stream",
          "name": "stdout",
          "text": [
            "Validation accuracy is: 81.3 %\n",
            "Epoch [21/30], Step [100/245], Loss: 0.3962\n",
            "Epoch [21/30], Step [200/245], Loss: 0.3953\n"
          ]
        },
        {
          "output_type": "stream",
          "name": "stderr",
          "text": [
            "\r 70%|███████   | 21/30 [21:08<08:56, 59.66s/it]"
          ]
        },
        {
          "output_type": "stream",
          "name": "stdout",
          "text": [
            "Validation accuracy is: 83.3 %\n",
            "Epoch [22/30], Step [100/245], Loss: 0.4321\n",
            "Epoch [22/30], Step [200/245], Loss: 0.5182\n"
          ]
        },
        {
          "output_type": "stream",
          "name": "stderr",
          "text": [
            "\r 73%|███████▎  | 22/30 [22:09<07:59, 60.00s/it]"
          ]
        },
        {
          "output_type": "stream",
          "name": "stdout",
          "text": [
            "Validation accuracy is: 83.1 %\n",
            "Epoch [23/30], Step [100/245], Loss: 0.4505\n",
            "Epoch [23/30], Step [200/245], Loss: 0.3513\n"
          ]
        },
        {
          "output_type": "stream",
          "name": "stderr",
          "text": [
            "\r 77%|███████▋  | 23/30 [23:12<07:05, 60.74s/it]"
          ]
        },
        {
          "output_type": "stream",
          "name": "stdout",
          "text": [
            "Validation accuracy is: 82.6 %\n",
            "Epoch [24/30], Step [100/245], Loss: 0.2912\n",
            "Epoch [24/30], Step [200/245], Loss: 0.4631\n"
          ]
        },
        {
          "output_type": "stream",
          "name": "stderr",
          "text": [
            "\r 80%|████████  | 24/30 [24:14<06:06, 61.14s/it]"
          ]
        },
        {
          "output_type": "stream",
          "name": "stdout",
          "text": [
            "Validation accuracy is: 83.2 %\n",
            "Epoch [25/30], Step [100/245], Loss: 0.3222\n",
            "Epoch [25/30], Step [200/245], Loss: 0.2873\n"
          ]
        },
        {
          "output_type": "stream",
          "name": "stderr",
          "text": [
            "\r 83%|████████▎ | 25/30 [25:15<05:06, 61.26s/it]"
          ]
        },
        {
          "output_type": "stream",
          "name": "stdout",
          "text": [
            "Validation accuracy is: 82.2 %\n",
            "Epoch [26/30], Step [100/245], Loss: 0.2198\n",
            "Epoch [26/30], Step [200/245], Loss: 0.4624\n"
          ]
        },
        {
          "output_type": "stream",
          "name": "stderr",
          "text": [
            "\r 87%|████████▋ | 26/30 [26:16<04:04, 61.20s/it]"
          ]
        },
        {
          "output_type": "stream",
          "name": "stdout",
          "text": [
            "Validation accuracy is: 82.5 %\n",
            "Epoch [27/30], Step [100/245], Loss: 0.3419\n",
            "Epoch [27/30], Step [200/245], Loss: 0.2845\n"
          ]
        },
        {
          "output_type": "stream",
          "name": "stderr",
          "text": [
            "\r 90%|█████████ | 27/30 [27:18<03:04, 61.38s/it]"
          ]
        },
        {
          "output_type": "stream",
          "name": "stdout",
          "text": [
            "Validation accuracy is: 85.3 %\n",
            "Epoch [28/30], Step [100/245], Loss: 0.2869\n",
            "Epoch [28/30], Step [200/245], Loss: 0.3255\n"
          ]
        },
        {
          "output_type": "stream",
          "name": "stderr",
          "text": [
            "\r 93%|█████████▎| 28/30 [28:20<02:03, 61.62s/it]"
          ]
        },
        {
          "output_type": "stream",
          "name": "stdout",
          "text": [
            "Validation accuracy is: 82.6 %\n",
            "Epoch [29/30], Step [100/245], Loss: 0.2446\n",
            "Epoch [29/30], Step [200/245], Loss: 0.2090\n"
          ]
        },
        {
          "output_type": "stream",
          "name": "stderr",
          "text": [
            "\r 97%|█████████▋| 29/30 [29:22<01:01, 61.60s/it]"
          ]
        },
        {
          "output_type": "stream",
          "name": "stdout",
          "text": [
            "Validation accuracy is: 83.3 %\n",
            "Epoch [30/30], Step [100/245], Loss: 0.3992\n",
            "Epoch [30/30], Step [200/245], Loss: 0.3425\n"
          ]
        },
        {
          "output_type": "stream",
          "name": "stderr",
          "text": [
            "100%|██████████| 30/30 [30:24<00:00, 60.80s/it]"
          ]
        },
        {
          "output_type": "stream",
          "name": "stdout",
          "text": [
            "Validation accuracy is: 83.1 %\n"
          ]
        },
        {
          "output_type": "stream",
          "name": "stderr",
          "text": [
            "\n"
          ]
        }
      ],
      "source": [
        "## Training the model with BN and early stop\n",
        "norm_layer = \"BN\"\n",
        "num_epochs = 30\n",
        "\n",
        "## Init model\n",
        "model = ConvNet(input_size, hidden_size, num_classes, norm_layer = norm_layer).to(device)\n",
        "model.apply(weights_init)\n",
        "\n",
        "## Train Model\n",
        "loss_train, loss_val, accuracy_val =  train_model(model, early_stop = True)"
      ]
    },
    {
      "cell_type": "code",
      "source": [
        "## Plot validation and training losses\n",
        "\n",
        "# visualize the loss as the network trained\n",
        "fig = plt.figure(figsize = (8,4))\n",
        "plt.plot(range(1,len(loss_train)+1), loss_train, label = 'Training Loss')\n",
        "plt.plot(range(1,len(loss_val)+1), loss_val, label = 'Validation Loss')\n",
        "\n",
        "# find position of lowest validation loss\n",
        "minposs = loss_val.index(min(loss_val)) + 1 \n",
        "plt.axvline(minposs, linestyle = '--', color = 'r', label = 'Early Stopping Checkpoint')\n",
        "\n",
        "plt.xlabel('Epochs')\n",
        "plt.ylabel('Loss')\n",
        "plt.ylim(0, 0.008) # consistent scale\n",
        "plt.xlim(0, len(loss_train)+1) # consistent scale\n",
        "plt.grid(True)\n",
        "plt.legend()\n",
        "plt.tight_layout()\n",
        "plt.show()\n",
        "\n",
        "print(\"--------------------------------------------------------------------------\")\n",
        "\n",
        "## Plot validation accuracy \n",
        "fig = plt.figure(figsize = (8,4))\n",
        "plt.plot(range(1,len(accuracy_val)+1), accuracy_val,label = 'Validation Accuracy')\n",
        "# find position of lowest validation loss\n",
        "minposs = loss_val.index(min(loss_val)) + 1 \n",
        "plt.axvline(minposs, linestyle = '--', color = 'r', label = 'Early Stopping Checkpoint')\n",
        "plt.xlabel('Epochs')\n",
        "plt.ylabel('Accuracy [%]')\n",
        "plt.ylim(50, 100) # consistent scale\n",
        "plt.xlim(0, len(loss_train)+1) # consistent scale\n",
        "plt.grid(True)\n",
        "plt.legend()\n",
        "plt.tight_layout()\n",
        "plt.show()"
      ],
      "metadata": {
        "id": "dWpVIyHWojQg",
        "colab": {
          "base_uri": "https://localhost:8080/",
          "height": 594
        },
        "outputId": "4fb908b7-cf4b-44e3-c645-b7c0134c51d8"
      },
      "execution_count": null,
      "outputs": [
        {
          "output_type": "display_data",
          "data": {
            "text/plain": [
              "<Figure size 576x288 with 1 Axes>"
            ],
            "image/png": "[encoded data removed]"
          },
          "metadata": {
            "needs_background": "light"
          }
        },
        {
          "output_type": "stream",
          "name": "stdout",
          "text": [
            "--------------------------------------------------------------------------\n"
          ]
        },
        {
          "output_type": "display_data",
          "data": {
            "text/plain": [
              "<Figure size 576x288 with 1 Axes>"
            ],
            "image/png": "[encoded data removed]"
          },
          "metadata": {
            "needs_background": "light"
          }
        }
      ]
    },
    {
      "cell_type": "markdown",
      "source": [
        "In this case, also using the data augmentation we don't see an improvement of the performance, maybe because the combination of different transformations is not so useful."
      ],
      "metadata": {
        "id": "b8MCnHDT6sNv"
      }
    },
    {
      "cell_type": "markdown",
      "source": [
        "### b)\n",
        "In order to reguralize the model to improve generalization, we implement the Droput method, adding the *torch.nn.Dropout* layer between the convolution blocks in the model. \n",
        "\n",
        "We need to set one parameter $p$, which is the probability of dropping the input activations. We find the right value in the range [0.1; 0.9]."
      ],
      "metadata": {
        "id": "vuckAFP-Z-K-"
      }
    },
    {
      "cell_type": "markdown",
      "source": [
        "*remove data augmentation*"
      ],
      "metadata": {
        "id": "PSmJZ6i6Sy_b"
      }
    },
    {
      "cell_type": "markdown",
      "source": [
        "### P = 0.1"
      ],
      "metadata": {
        "id": "SwyXK_TwaDmS"
      }
    },
    {
      "cell_type": "code",
      "source": [
        "## Training the model with BN and early stop\n",
        "norm_layer = \"BN\"\n",
        "num_epochs = 20\n",
        "\n",
        "## Init model (p = 0.1)\n",
        "model_01 = ConvNet(input_size, hidden_size, num_classes, norm_layer = norm_layer, drop = 0.1).to(device)\n",
        "model_01.apply(weights_init)\n",
        "\n",
        "## Train Model\n",
        "loss_train_01, loss_val_01, accuracy_val_01 =  train_model(model_01, early_stop = True)"
      ],
      "metadata": {
        "id": "NJ9ZMIuRr7Md",
        "colab": {
          "base_uri": "https://localhost:8080/"
        },
        "outputId": "9374294a-6877-4f80-f132-5721afe0c3be"
      },
      "execution_count": null,
      "outputs": [
        {
          "output_type": "stream",
          "name": "stderr",
          "text": [
            "\r  0%|          | 0/20 [00:00<?, ?it/s]"
          ]
        },
        {
          "output_type": "stream",
          "name": "stdout",
          "text": [
            "Epoch [1/20], Step [100/245], Loss: 1.4158\n",
            "Epoch [1/20], Step [200/245], Loss: 1.1438\n"
          ]
        },
        {
          "output_type": "stream",
          "name": "stderr",
          "text": [
            "\r  5%|▌         | 1/20 [00:30<09:35, 30.30s/it]"
          ]
        },
        {
          "output_type": "stream",
          "name": "stdout",
          "text": [
            "Validation accuracy is: 51.6 %\n",
            "Epoch [2/20], Step [100/245], Loss: 1.0643\n",
            "Epoch [2/20], Step [200/245], Loss: 0.8151\n"
          ]
        },
        {
          "output_type": "stream",
          "name": "stderr",
          "text": [
            "\r 10%|█         | 2/20 [01:00<09:01, 30.07s/it]"
          ]
        },
        {
          "output_type": "stream",
          "name": "stdout",
          "text": [
            "Validation accuracy is: 60.9 %\n",
            "Epoch [3/20], Step [100/245], Loss: 0.7386\n",
            "Epoch [3/20], Step [200/245], Loss: 0.8749\n"
          ]
        },
        {
          "output_type": "stream",
          "name": "stderr",
          "text": [
            "\r 15%|█▌        | 3/20 [01:29<08:25, 29.75s/it]"
          ]
        },
        {
          "output_type": "stream",
          "name": "stdout",
          "text": [
            "Validation accuracy is: 65.9 %\n",
            "Epoch [4/20], Step [100/245], Loss: 0.7312\n",
            "Epoch [4/20], Step [200/245], Loss: 0.7491\n"
          ]
        },
        {
          "output_type": "stream",
          "name": "stderr",
          "text": [
            "\r 20%|██        | 4/20 [02:01<08:10, 30.65s/it]"
          ]
        },
        {
          "output_type": "stream",
          "name": "stdout",
          "text": [
            "Validation accuracy is: 74.0 %\n",
            "Epoch [5/20], Step [100/245], Loss: 0.6194\n",
            "Epoch [5/20], Step [200/245], Loss: 0.7065\n"
          ]
        },
        {
          "output_type": "stream",
          "name": "stderr",
          "text": [
            "\r 25%|██▌       | 5/20 [02:31<07:33, 30.23s/it]"
          ]
        },
        {
          "output_type": "stream",
          "name": "stdout",
          "text": [
            "Validation accuracy is: 69.5 %\n",
            "Epoch [6/20], Step [100/245], Loss: 0.6015\n",
            "Epoch [6/20], Step [200/245], Loss: 0.5905\n"
          ]
        },
        {
          "output_type": "stream",
          "name": "stderr",
          "text": [
            "\r 30%|███       | 6/20 [03:00<06:58, 29.88s/it]"
          ]
        },
        {
          "output_type": "stream",
          "name": "stdout",
          "text": [
            "Validation accuracy is: 76.1 %\n",
            "Epoch [7/20], Step [100/245], Loss: 0.4411\n",
            "Epoch [7/20], Step [200/245], Loss: 0.6530\n"
          ]
        },
        {
          "output_type": "stream",
          "name": "stderr",
          "text": [
            "\r 35%|███▌      | 7/20 [03:30<06:30, 30.00s/it]"
          ]
        },
        {
          "output_type": "stream",
          "name": "stdout",
          "text": [
            "Validation accuracy is: 79.1 %\n",
            "Epoch [8/20], Step [100/245], Loss: 0.5491\n",
            "Epoch [8/20], Step [200/245], Loss: 0.5416\n"
          ]
        },
        {
          "output_type": "stream",
          "name": "stderr",
          "text": [
            "\r 40%|████      | 8/20 [03:59<05:55, 29.64s/it]"
          ]
        },
        {
          "output_type": "stream",
          "name": "stdout",
          "text": [
            "Validation accuracy is: 78.7 %\n",
            "Epoch [9/20], Step [100/245], Loss: 0.4189\n",
            "Epoch [9/20], Step [200/245], Loss: 0.5508\n"
          ]
        },
        {
          "output_type": "stream",
          "name": "stderr",
          "text": [
            "\r 45%|████▌     | 9/20 [04:28<05:22, 29.34s/it]"
          ]
        },
        {
          "output_type": "stream",
          "name": "stdout",
          "text": [
            "Validation accuracy is: 80.8 %\n",
            "Epoch [10/20], Step [100/245], Loss: 0.3493\n",
            "Epoch [10/20], Step [200/245], Loss: 0.4471\n"
          ]
        },
        {
          "output_type": "stream",
          "name": "stderr",
          "text": [
            "\r 50%|█████     | 10/20 [04:56<04:51, 29.19s/it]"
          ]
        },
        {
          "output_type": "stream",
          "name": "stdout",
          "text": [
            "Validation accuracy is: 81.1 %\n",
            "Epoch [11/20], Step [100/245], Loss: 0.4243\n",
            "Epoch [11/20], Step [200/245], Loss: 0.4416\n"
          ]
        },
        {
          "output_type": "stream",
          "name": "stderr",
          "text": [
            "\r 55%|█████▌    | 11/20 [05:25<04:21, 29.09s/it]"
          ]
        },
        {
          "output_type": "stream",
          "name": "stdout",
          "text": [
            "Validation accuracy is: 83.8 %\n",
            "Epoch [12/20], Step [100/245], Loss: 0.3911\n",
            "Epoch [12/20], Step [200/245], Loss: 0.3508\n"
          ]
        },
        {
          "output_type": "stream",
          "name": "stderr",
          "text": [
            "\r 60%|██████    | 12/20 [05:54<03:52, 29.06s/it]"
          ]
        },
        {
          "output_type": "stream",
          "name": "stdout",
          "text": [
            "Validation accuracy is: 80.5 %\n",
            "Epoch [13/20], Step [100/245], Loss: 0.3493\n",
            "Epoch [13/20], Step [200/245], Loss: 0.4315\n"
          ]
        },
        {
          "output_type": "stream",
          "name": "stderr",
          "text": [
            "\r 65%|██████▌   | 13/20 [06:23<03:23, 29.06s/it]"
          ]
        },
        {
          "output_type": "stream",
          "name": "stdout",
          "text": [
            "Validation accuracy is: 82.9 %\n",
            "Epoch [14/20], Step [100/245], Loss: 0.2948\n",
            "Epoch [14/20], Step [200/245], Loss: 0.2873\n"
          ]
        },
        {
          "output_type": "stream",
          "name": "stderr",
          "text": [
            "\r 70%|███████   | 14/20 [06:52<02:53, 28.98s/it]"
          ]
        },
        {
          "output_type": "stream",
          "name": "stdout",
          "text": [
            "Validation accuracy is: 82.6 %\n",
            "Epoch [15/20], Step [100/245], Loss: 0.3735\n",
            "Epoch [15/20], Step [200/245], Loss: 0.4091\n"
          ]
        },
        {
          "output_type": "stream",
          "name": "stderr",
          "text": [
            "\r 75%|███████▌  | 15/20 [07:21<02:24, 28.88s/it]"
          ]
        },
        {
          "output_type": "stream",
          "name": "stdout",
          "text": [
            "Validation accuracy is: 83.4 %\n",
            "Epoch [16/20], Step [100/245], Loss: 0.2572\n",
            "Epoch [16/20], Step [200/245], Loss: 0.3597\n"
          ]
        },
        {
          "output_type": "stream",
          "name": "stderr",
          "text": [
            "\r 80%|████████  | 16/20 [07:50<01:56, 29.07s/it]"
          ]
        },
        {
          "output_type": "stream",
          "name": "stdout",
          "text": [
            "Validation accuracy is: 81.9 %\n",
            "Epoch [17/20], Step [100/245], Loss: 0.1855\n",
            "Epoch [17/20], Step [200/245], Loss: 0.4085\n"
          ]
        },
        {
          "output_type": "stream",
          "name": "stderr",
          "text": [
            "\r 85%|████████▌ | 17/20 [08:19<01:26, 28.91s/it]"
          ]
        },
        {
          "output_type": "stream",
          "name": "stdout",
          "text": [
            "Validation accuracy is: 83.4 %\n",
            "Epoch [18/20], Step [100/245], Loss: 0.1938\n",
            "Epoch [18/20], Step [200/245], Loss: 0.2323\n"
          ]
        },
        {
          "output_type": "stream",
          "name": "stderr",
          "text": [
            "\r 90%|█████████ | 18/20 [08:48<00:57, 28.99s/it]"
          ]
        },
        {
          "output_type": "stream",
          "name": "stdout",
          "text": [
            "Validation accuracy is: 81.5 %\n",
            "Epoch [19/20], Step [100/245], Loss: 0.1570\n",
            "Epoch [19/20], Step [200/245], Loss: 0.2184\n"
          ]
        },
        {
          "output_type": "stream",
          "name": "stderr",
          "text": [
            "\r 95%|█████████▌| 19/20 [09:17<00:28, 28.99s/it]"
          ]
        },
        {
          "output_type": "stream",
          "name": "stdout",
          "text": [
            "Validation accuracy is: 84.6 %\n",
            "Epoch [20/20], Step [100/245], Loss: 0.2213\n",
            "Epoch [20/20], Step [200/245], Loss: 0.2689\n"
          ]
        },
        {
          "output_type": "stream",
          "name": "stderr",
          "text": [
            "100%|██████████| 20/20 [09:46<00:00, 29.31s/it]"
          ]
        },
        {
          "output_type": "stream",
          "name": "stdout",
          "text": [
            "Validation accuracy is: 85.4 %\n"
          ]
        },
        {
          "output_type": "stream",
          "name": "stderr",
          "text": [
            "\n"
          ]
        }
      ]
    },
    {
      "cell_type": "code",
      "source": [
        "## Plot validation and training losses\n",
        "\n",
        "# visualize the loss as the network trained\n",
        "fig = plt.figure(figsize = (8,4))\n",
        "plt.plot(range(1,len(loss_train_01)+1), loss_train_01, label = 'Training Loss')\n",
        "plt.plot(range(1,len(loss_val_01)+1), loss_val_01, label = 'Validation Loss')\n",
        "\n",
        "# find position of lowest validation loss\n",
        "minposs = loss_val_01.index(min(loss_val_01)) + 1 \n",
        "plt.axvline(minposs, linestyle = '--', color = 'r', label = 'Early Stopping Checkpoint')\n",
        "\n",
        "plt.xlabel('Epochs')\n",
        "plt.ylabel('Loss')\n",
        "plt.ylim(0.001, 0.008) # consistent scale\n",
        "plt.xticks(range(0, num_epochs+1))\n",
        "plt.xlim(0, len(loss_train_01)+1) # consistent scale\n",
        "plt.grid(True)\n",
        "plt.legend()\n",
        "plt.tight_layout()\n",
        "plt.show()\n",
        "## Min Loss: epoch 20"
      ],
      "metadata": {
        "id": "WkCLat7RvY7d",
        "colab": {
          "base_uri": "https://localhost:8080/",
          "height": 297
        },
        "outputId": "01e06951-037e-4acd-a7e9-2458c58b2553"
      },
      "execution_count": null,
      "outputs": [
        {
          "output_type": "display_data",
          "data": {
            "text/plain": [
              "<Figure size 576x288 with 1 Axes>"
            ],
            "image/png": "[encoded data removed]"
          },
          "metadata": {
            "needs_background": "light"
          }
        }
      ]
    },
    {
      "cell_type": "code",
      "source": [
        "## Check\n",
        "print(\"Accuracy at epoch 20:\", accuracy_val_01[loss_val_01.index(min(loss_val_01))])"
      ],
      "metadata": {
        "id": "HuRvZ1YSzRBD",
        "colab": {
          "base_uri": "https://localhost:8080/"
        },
        "outputId": "b194a3f6-3340-4938-9e53-b7362135a2c2"
      },
      "execution_count": null,
      "outputs": [
        {
          "output_type": "stream",
          "name": "stdout",
          "text": [
            "Accuracy at epoch 20: 85.4\n"
          ]
        }
      ]
    },
    {
      "cell_type": "markdown",
      "source": [
        "### P = 0.2"
      ],
      "metadata": {
        "id": "C68aiK75aHxq"
      }
    },
    {
      "cell_type": "code",
      "source": [
        "norm_layer = \"BN\"\n",
        "num_epochs = 20\n",
        "\n",
        "## Init model (p = 0.2)\n",
        "model_02 = ConvNet(input_size, hidden_size, num_classes, norm_layer = norm_layer, drop = 0.2).to(device)\n",
        "model_02.apply(weights_init)\n",
        "\n",
        "## Train Model\n",
        "loss_train_02, loss_val_02, accuracy_val_02 =  train_model(model_02, early_stop = True)"
      ],
      "metadata": {
        "id": "3XIZmX7bZ5m-",
        "colab": {
          "base_uri": "https://localhost:8080/"
        },
        "outputId": "fe0973e1-9fa6-4bae-d5ec-17707bfde6b9"
      },
      "execution_count": null,
      "outputs": [
        {
          "output_type": "stream",
          "name": "stderr",
          "text": [
            "\r  0%|          | 0/20 [00:00<?, ?it/s]"
          ]
        },
        {
          "output_type": "stream",
          "name": "stdout",
          "text": [
            "Epoch [1/20], Step [100/245], Loss: 1.4019\n",
            "Epoch [1/20], Step [200/245], Loss: 1.2088\n"
          ]
        },
        {
          "output_type": "stream",
          "name": "stderr",
          "text": [
            "\r  5%|▌         | 1/20 [00:29<09:20, 29.52s/it]"
          ]
        },
        {
          "output_type": "stream",
          "name": "stdout",
          "text": [
            "Validation accuracy is: 59.3 %\n",
            "Epoch [2/20], Step [100/245], Loss: 1.0889\n",
            "Epoch [2/20], Step [200/245], Loss: 0.9286\n"
          ]
        },
        {
          "output_type": "stream",
          "name": "stderr",
          "text": [
            "\r 10%|█         | 2/20 [00:59<08:53, 29.62s/it]"
          ]
        },
        {
          "output_type": "stream",
          "name": "stdout",
          "text": [
            "Validation accuracy is: 58.7 %\n",
            "Epoch [3/20], Step [100/245], Loss: 0.8163\n",
            "Epoch [3/20], Step [200/245], Loss: 0.7662\n"
          ]
        },
        {
          "output_type": "stream",
          "name": "stderr",
          "text": [
            "\r 15%|█▌        | 3/20 [01:28<08:22, 29.58s/it]"
          ]
        },
        {
          "output_type": "stream",
          "name": "stdout",
          "text": [
            "Validation accuracy is: 66.5 %\n",
            "Epoch [4/20], Step [100/245], Loss: 0.8907\n",
            "Epoch [4/20], Step [200/245], Loss: 0.9199\n"
          ]
        },
        {
          "output_type": "stream",
          "name": "stderr",
          "text": [
            "\r 20%|██        | 4/20 [01:57<07:50, 29.41s/it]"
          ]
        },
        {
          "output_type": "stream",
          "name": "stdout",
          "text": [
            "Validation accuracy is: 70.9 %\n",
            "Epoch [5/20], Step [100/245], Loss: 0.8755\n",
            "Epoch [5/20], Step [200/245], Loss: 0.7131\n"
          ]
        },
        {
          "output_type": "stream",
          "name": "stderr",
          "text": [
            "\r 25%|██▌       | 5/20 [02:27<07:19, 29.31s/it]"
          ]
        },
        {
          "output_type": "stream",
          "name": "stdout",
          "text": [
            "Validation accuracy is: 74.1 %\n",
            "Epoch [6/20], Step [100/245], Loss: 0.6933\n",
            "Epoch [6/20], Step [200/245], Loss: 0.7152\n"
          ]
        },
        {
          "output_type": "stream",
          "name": "stderr",
          "text": [
            "\r 30%|███       | 6/20 [02:55<06:48, 29.19s/it]"
          ]
        },
        {
          "output_type": "stream",
          "name": "stdout",
          "text": [
            "Validation accuracy is: 77.1 %\n",
            "Epoch [7/20], Step [100/245], Loss: 0.7142\n",
            "Epoch [7/20], Step [200/245], Loss: 0.5164\n"
          ]
        },
        {
          "output_type": "stream",
          "name": "stderr",
          "text": [
            "\r 35%|███▌      | 7/20 [03:24<06:18, 29.08s/it]"
          ]
        },
        {
          "output_type": "stream",
          "name": "stdout",
          "text": [
            "Validation accuracy is: 76.4 %\n",
            "Epoch [8/20], Step [100/245], Loss: 0.5232\n",
            "Epoch [8/20], Step [200/245], Loss: 0.4739\n"
          ]
        },
        {
          "output_type": "stream",
          "name": "stderr",
          "text": [
            "\r 40%|████      | 8/20 [03:54<05:49, 29.14s/it]"
          ]
        },
        {
          "output_type": "stream",
          "name": "stdout",
          "text": [
            "Validation accuracy is: 82.4 %\n",
            "Epoch [9/20], Step [100/245], Loss: 0.5774\n",
            "Epoch [9/20], Step [200/245], Loss: 0.6525\n"
          ]
        },
        {
          "output_type": "stream",
          "name": "stderr",
          "text": [
            "\r 45%|████▌     | 9/20 [04:22<05:18, 29.00s/it]"
          ]
        },
        {
          "output_type": "stream",
          "name": "stdout",
          "text": [
            "Validation accuracy is: 82.0 %\n",
            "Epoch [10/20], Step [100/245], Loss: 0.4127\n",
            "Epoch [10/20], Step [200/245], Loss: 0.4892\n"
          ]
        },
        {
          "output_type": "stream",
          "name": "stderr",
          "text": [
            "\r 50%|█████     | 10/20 [04:51<04:49, 28.91s/it]"
          ]
        },
        {
          "output_type": "stream",
          "name": "stdout",
          "text": [
            "Validation accuracy is: 81.1 %\n",
            "Epoch [11/20], Step [100/245], Loss: 0.4973\n",
            "Epoch [11/20], Step [200/245], Loss: 0.6345\n"
          ]
        },
        {
          "output_type": "stream",
          "name": "stderr",
          "text": [
            "\r 55%|█████▌    | 11/20 [05:20<04:19, 28.86s/it]"
          ]
        },
        {
          "output_type": "stream",
          "name": "stdout",
          "text": [
            "Validation accuracy is: 82.1 %\n",
            "Epoch [12/20], Step [100/245], Loss: 0.5228\n",
            "Epoch [12/20], Step [200/245], Loss: 0.4868\n"
          ]
        },
        {
          "output_type": "stream",
          "name": "stderr",
          "text": [
            "\r 60%|██████    | 12/20 [05:48<03:50, 28.80s/it]"
          ]
        },
        {
          "output_type": "stream",
          "name": "stdout",
          "text": [
            "Validation accuracy is: 81.1 %\n",
            "Epoch [13/20], Step [100/245], Loss: 0.4382\n",
            "Epoch [13/20], Step [200/245], Loss: 0.6521\n"
          ]
        },
        {
          "output_type": "stream",
          "name": "stderr",
          "text": [
            "\r 65%|██████▌   | 13/20 [06:17<03:21, 28.79s/it]"
          ]
        },
        {
          "output_type": "stream",
          "name": "stdout",
          "text": [
            "Validation accuracy is: 81.6 %\n",
            "Epoch [14/20], Step [100/245], Loss: 0.3542\n",
            "Epoch [14/20], Step [200/245], Loss: 0.4112\n"
          ]
        },
        {
          "output_type": "stream",
          "name": "stderr",
          "text": [
            "\r 70%|███████   | 14/20 [06:46<02:52, 28.81s/it]"
          ]
        },
        {
          "output_type": "stream",
          "name": "stdout",
          "text": [
            "Validation accuracy is: 83.2 %\n",
            "Epoch [15/20], Step [100/245], Loss: 0.4331\n",
            "Epoch [15/20], Step [200/245], Loss: 0.4328\n"
          ]
        },
        {
          "output_type": "stream",
          "name": "stderr",
          "text": [
            "\r 75%|███████▌  | 15/20 [07:15<02:23, 28.72s/it]"
          ]
        },
        {
          "output_type": "stream",
          "name": "stdout",
          "text": [
            "Validation accuracy is: 82.9 %\n",
            "Epoch [16/20], Step [100/245], Loss: 0.3531\n",
            "Epoch [16/20], Step [200/245], Loss: 0.3712\n"
          ]
        },
        {
          "output_type": "stream",
          "name": "stderr",
          "text": [
            "\r 80%|████████  | 16/20 [07:43<01:54, 28.69s/it]"
          ]
        },
        {
          "output_type": "stream",
          "name": "stdout",
          "text": [
            "Validation accuracy is: 84.4 %\n",
            "Epoch [17/20], Step [100/245], Loss: 0.3766\n",
            "Epoch [17/20], Step [200/245], Loss: 0.3145\n"
          ]
        },
        {
          "output_type": "stream",
          "name": "stderr",
          "text": [
            "\r 85%|████████▌ | 17/20 [08:12<01:25, 28.65s/it]"
          ]
        },
        {
          "output_type": "stream",
          "name": "stdout",
          "text": [
            "Validation accuracy is: 84.9 %\n",
            "Epoch [18/20], Step [100/245], Loss: 0.3222\n",
            "Epoch [18/20], Step [200/245], Loss: 0.2929\n"
          ]
        },
        {
          "output_type": "stream",
          "name": "stderr",
          "text": [
            "\r 90%|█████████ | 18/20 [08:40<00:57, 28.62s/it]"
          ]
        },
        {
          "output_type": "stream",
          "name": "stdout",
          "text": [
            "Validation accuracy is: 85.2 %\n",
            "Epoch [19/20], Step [100/245], Loss: 0.3692\n",
            "Epoch [19/20], Step [200/245], Loss: 0.3739\n"
          ]
        },
        {
          "output_type": "stream",
          "name": "stderr",
          "text": [
            "\r 95%|█████████▌| 19/20 [09:09<00:28, 28.55s/it]"
          ]
        },
        {
          "output_type": "stream",
          "name": "stdout",
          "text": [
            "Validation accuracy is: 85.5 %\n",
            "Epoch [20/20], Step [100/245], Loss: 0.2443\n",
            "Epoch [20/20], Step [200/245], Loss: 0.2699\n"
          ]
        },
        {
          "output_type": "stream",
          "name": "stderr",
          "text": [
            "100%|██████████| 20/20 [09:38<00:00, 28.91s/it]"
          ]
        },
        {
          "output_type": "stream",
          "name": "stdout",
          "text": [
            "Validation accuracy is: 83.7 %\n"
          ]
        },
        {
          "output_type": "stream",
          "name": "stderr",
          "text": [
            "\n"
          ]
        }
      ]
    },
    {
      "cell_type": "code",
      "source": [
        "## Plot validation and training losses\n",
        "\n",
        "# visualize the loss as the network trained\n",
        "fig = plt.figure(figsize = (8,4))\n",
        "plt.plot(range(1,len(loss_train_02)+1), loss_train_02, label = 'Training Loss')\n",
        "plt.plot(range(1,len(loss_val_02)+1), loss_val_02, label = 'Validation Loss')\n",
        "\n",
        "# find position of lowest validation loss\n",
        "minposs = loss_val_02.index(min(loss_val_02)) + 1 \n",
        "plt.axvline(minposs, linestyle = '--', color = 'r', label = 'Early Stopping Checkpoint')\n",
        "\n",
        "plt.xlabel('epochs')\n",
        "plt.ylabel('loss')\n",
        "plt.ylim(0.001, 0.007) # consistent scale\n",
        "plt.xticks(range(0, num_epochs+1))\n",
        "plt.xlim(0, len(loss_train_02)+1) # consistent scale\n",
        "plt.grid(True)\n",
        "plt.legend()\n",
        "plt.tight_layout()\n",
        "plt.show()\n",
        "## Min Loss: epoch 18 "
      ],
      "metadata": {
        "id": "ognpDtBi1qbw",
        "colab": {
          "base_uri": "https://localhost:8080/",
          "height": 297
        },
        "outputId": "0a356509-5317-4d29-9bfc-62a38ede71a5"
      },
      "execution_count": null,
      "outputs": [
        {
          "output_type": "display_data",
          "data": {
            "text/plain": [
              "<Figure size 576x288 with 1 Axes>"
            ],
            "image/png": "[encoded data removed]"
          },
          "metadata": {
            "needs_background": "light"
          }
        }
      ]
    },
    {
      "cell_type": "code",
      "source": [
        "## Check\n",
        "print(\"Accuracy at epoch 18:\", accuracy_val_02[loss_val_02.index(min(loss_val_02))])"
      ],
      "metadata": {
        "id": "CxK2j2yH1q8R",
        "colab": {
          "base_uri": "https://localhost:8080/"
        },
        "outputId": "21e971f0-0cf2-453b-80d1-30110acdcd8e"
      },
      "execution_count": null,
      "outputs": [
        {
          "output_type": "stream",
          "name": "stdout",
          "text": [
            "Accuracy at epoch 18: 85.2\n"
          ]
        }
      ]
    },
    {
      "cell_type": "markdown",
      "source": [
        "### P = 0.3"
      ],
      "metadata": {
        "id": "-Lgh8nrKaeh1"
      }
    },
    {
      "cell_type": "code",
      "source": [
        "norm_layer = \"BN\"\n",
        "num_epochs = 20\n",
        "\n",
        "## Init model (p = 0.3)\n",
        "model_03 = ConvNet(input_size, hidden_size, num_classes, norm_layer = norm_layer, drop = 0.3).to(device)\n",
        "model_03.apply(weights_init)\n",
        "\n",
        "## Train Model\n",
        "loss_train_03, loss_val_03, accuracy_val_03 =  train_model(model_03, early_stop = True)"
      ],
      "metadata": {
        "id": "M0lYaor6aXnz",
        "colab": {
          "base_uri": "https://localhost:8080/"
        },
        "outputId": "3a80bea7-8754-4f3f-9df9-d582f32d8264"
      },
      "execution_count": null,
      "outputs": [
        {
          "output_type": "stream",
          "name": "stderr",
          "text": [
            "\r  0%|          | 0/20 [00:00<?, ?it/s]"
          ]
        },
        {
          "output_type": "stream",
          "name": "stdout",
          "text": [
            "Epoch [1/20], Step [100/245], Loss: 1.5087\n",
            "Epoch [1/20], Step [200/245], Loss: 1.2226\n"
          ]
        },
        {
          "output_type": "stream",
          "name": "stderr",
          "text": [
            "\r  5%|▌         | 1/20 [00:29<09:20, 29.48s/it]"
          ]
        },
        {
          "output_type": "stream",
          "name": "stdout",
          "text": [
            "Validation accuracy is: 50.6 %\n",
            "Epoch [2/20], Step [100/245], Loss: 1.0123\n",
            "Epoch [2/20], Step [200/245], Loss: 0.9717\n"
          ]
        },
        {
          "output_type": "stream",
          "name": "stderr",
          "text": [
            "\r 10%|█         | 2/20 [00:58<08:48, 29.36s/it]"
          ]
        },
        {
          "output_type": "stream",
          "name": "stdout",
          "text": [
            "Validation accuracy is: 65.4 %\n",
            "Epoch [3/20], Step [100/245], Loss: 0.8219\n",
            "Epoch [3/20], Step [200/245], Loss: 0.8005\n"
          ]
        },
        {
          "output_type": "stream",
          "name": "stderr",
          "text": [
            "\r 15%|█▌        | 3/20 [01:28<08:22, 29.56s/it]"
          ]
        },
        {
          "output_type": "stream",
          "name": "stdout",
          "text": [
            "Validation accuracy is: 69.3 %\n",
            "Epoch [4/20], Step [100/245], Loss: 0.7411\n",
            "Epoch [4/20], Step [200/245], Loss: 0.7063\n"
          ]
        },
        {
          "output_type": "stream",
          "name": "stderr",
          "text": [
            "\r 20%|██        | 4/20 [01:58<07:52, 29.56s/it]"
          ]
        },
        {
          "output_type": "stream",
          "name": "stdout",
          "text": [
            "Validation accuracy is: 65.7 %\n",
            "Epoch [5/20], Step [100/245], Loss: 0.8275\n",
            "Epoch [5/20], Step [200/245], Loss: 0.9581\n"
          ]
        },
        {
          "output_type": "stream",
          "name": "stderr",
          "text": [
            "\r 25%|██▌       | 5/20 [02:27<07:22, 29.52s/it]"
          ]
        },
        {
          "output_type": "stream",
          "name": "stdout",
          "text": [
            "Validation accuracy is: 75.8 %\n",
            "Epoch [6/20], Step [100/245], Loss: 0.7010\n",
            "Epoch [6/20], Step [200/245], Loss: 0.9134\n"
          ]
        },
        {
          "output_type": "stream",
          "name": "stderr",
          "text": [
            "\r 30%|███       | 6/20 [02:56<06:50, 29.31s/it]"
          ]
        },
        {
          "output_type": "stream",
          "name": "stdout",
          "text": [
            "Validation accuracy is: 74.3 %\n",
            "Epoch [7/20], Step [100/245], Loss: 0.6268\n",
            "Epoch [7/20], Step [200/245], Loss: 0.5785\n"
          ]
        },
        {
          "output_type": "stream",
          "name": "stderr",
          "text": [
            "\r 35%|███▌      | 7/20 [03:25<06:19, 29.21s/it]"
          ]
        },
        {
          "output_type": "stream",
          "name": "stdout",
          "text": [
            "Validation accuracy is: 77.2 %\n",
            "Epoch [8/20], Step [100/245], Loss: 0.6421\n",
            "Epoch [8/20], Step [200/245], Loss: 0.6014\n"
          ]
        },
        {
          "output_type": "stream",
          "name": "stderr",
          "text": [
            "\r 40%|████      | 8/20 [03:54<05:49, 29.09s/it]"
          ]
        },
        {
          "output_type": "stream",
          "name": "stdout",
          "text": [
            "Validation accuracy is: 76.2 %\n",
            "Epoch [9/20], Step [100/245], Loss: 0.6506\n",
            "Epoch [9/20], Step [200/245], Loss: 0.6027\n"
          ]
        },
        {
          "output_type": "stream",
          "name": "stderr",
          "text": [
            "\r 45%|████▌     | 9/20 [04:23<05:19, 29.05s/it]"
          ]
        },
        {
          "output_type": "stream",
          "name": "stdout",
          "text": [
            "Validation accuracy is: 78.4 %\n",
            "Epoch [10/20], Step [100/245], Loss: 0.6019\n",
            "Epoch [10/20], Step [200/245], Loss: 0.6138\n"
          ]
        },
        {
          "output_type": "stream",
          "name": "stderr",
          "text": [
            "\r 50%|█████     | 10/20 [04:54<04:57, 29.80s/it]"
          ]
        },
        {
          "output_type": "stream",
          "name": "stdout",
          "text": [
            "Validation accuracy is: 81.8 %\n",
            "Epoch [11/20], Step [100/245], Loss: 0.6033\n",
            "Epoch [11/20], Step [200/245], Loss: 0.6055\n"
          ]
        },
        {
          "output_type": "stream",
          "name": "stderr",
          "text": [
            "\r 55%|█████▌    | 11/20 [05:23<04:25, 29.52s/it]"
          ]
        },
        {
          "output_type": "stream",
          "name": "stdout",
          "text": [
            "Validation accuracy is: 79.8 %\n",
            "Epoch [12/20], Step [100/245], Loss: 0.7067\n",
            "Epoch [12/20], Step [200/245], Loss: 0.6787\n"
          ]
        },
        {
          "output_type": "stream",
          "name": "stderr",
          "text": [
            "\r 60%|██████    | 12/20 [05:52<03:54, 29.27s/it]"
          ]
        },
        {
          "output_type": "stream",
          "name": "stdout",
          "text": [
            "Validation accuracy is: 80.4 %\n",
            "Epoch [13/20], Step [100/245], Loss: 0.5606\n",
            "Epoch [13/20], Step [200/245], Loss: 0.5223\n"
          ]
        },
        {
          "output_type": "stream",
          "name": "stderr",
          "text": [
            "\r 65%|██████▌   | 13/20 [06:21<03:23, 29.10s/it]"
          ]
        },
        {
          "output_type": "stream",
          "name": "stdout",
          "text": [
            "Validation accuracy is: 80.4 %\n",
            "Epoch [14/20], Step [100/245], Loss: 0.4842\n",
            "Epoch [14/20], Step [200/245], Loss: 0.4557\n"
          ]
        },
        {
          "output_type": "stream",
          "name": "stderr",
          "text": [
            "\r 70%|███████   | 14/20 [06:49<02:54, 29.04s/it]"
          ]
        },
        {
          "output_type": "stream",
          "name": "stdout",
          "text": [
            "Validation accuracy is: 81.8 %\n",
            "Epoch [15/20], Step [100/245], Loss: 0.4655\n",
            "Epoch [15/20], Step [200/245], Loss: 0.4620\n"
          ]
        },
        {
          "output_type": "stream",
          "name": "stderr",
          "text": [
            "\r 75%|███████▌  | 15/20 [07:18<02:24, 28.94s/it]"
          ]
        },
        {
          "output_type": "stream",
          "name": "stdout",
          "text": [
            "Validation accuracy is: 83.1 %\n",
            "Epoch [16/20], Step [100/245], Loss: 0.5299\n",
            "Epoch [16/20], Step [200/245], Loss: 0.5081\n"
          ]
        },
        {
          "output_type": "stream",
          "name": "stderr",
          "text": [
            "\r 80%|████████  | 16/20 [07:47<01:56, 29.01s/it]"
          ]
        },
        {
          "output_type": "stream",
          "name": "stdout",
          "text": [
            "Validation accuracy is: 83.9 %\n",
            "Epoch [17/20], Step [100/245], Loss: 0.5983\n",
            "Epoch [17/20], Step [200/245], Loss: 0.3797\n"
          ]
        },
        {
          "output_type": "stream",
          "name": "stderr",
          "text": [
            "\r 85%|████████▌ | 17/20 [08:16<01:26, 28.91s/it]"
          ]
        },
        {
          "output_type": "stream",
          "name": "stdout",
          "text": [
            "Validation accuracy is: 82.9 %\n",
            "Epoch [18/20], Step [100/245], Loss: 0.5140\n",
            "Epoch [18/20], Step [200/245], Loss: 0.5076\n"
          ]
        },
        {
          "output_type": "stream",
          "name": "stderr",
          "text": [
            "\r 90%|█████████ | 18/20 [08:45<00:57, 28.88s/it]"
          ]
        },
        {
          "output_type": "stream",
          "name": "stdout",
          "text": [
            "Validation accuracy is: 84.6 %\n",
            "Epoch [19/20], Step [100/245], Loss: 0.3090\n",
            "Epoch [19/20], Step [200/245], Loss: 0.4731\n"
          ]
        },
        {
          "output_type": "stream",
          "name": "stderr",
          "text": [
            "\r 95%|█████████▌| 19/20 [09:13<00:28, 28.82s/it]"
          ]
        },
        {
          "output_type": "stream",
          "name": "stdout",
          "text": [
            "Validation accuracy is: 85.3 %\n",
            "Epoch [20/20], Step [100/245], Loss: 0.3367\n",
            "Epoch [20/20], Step [200/245], Loss: 0.5888\n"
          ]
        },
        {
          "output_type": "stream",
          "name": "stderr",
          "text": [
            "100%|██████████| 20/20 [09:42<00:00, 29.13s/it]"
          ]
        },
        {
          "output_type": "stream",
          "name": "stdout",
          "text": [
            "Validation accuracy is: 85.1 %\n"
          ]
        },
        {
          "output_type": "stream",
          "name": "stderr",
          "text": [
            "\n"
          ]
        }
      ]
    },
    {
      "cell_type": "code",
      "source": [
        "## Plot validation and training losses\n",
        "\n",
        "# visualize the loss as the network trained\n",
        "fig = plt.figure(figsize = (8,4))\n",
        "plt.plot(range(1,len(loss_train_03)+1), loss_train_03, label = 'Training Loss')\n",
        "plt.plot(range(1,len(loss_val_03)+1), loss_val_03, label = 'Validation Loss')\n",
        "\n",
        "# find position of lowest validation loss\n",
        "minposs = loss_val_03.index(min(loss_val_03)) + 1 \n",
        "plt.axvline(minposs, linestyle = '--', color = 'r', label = 'Early Stopping Checkpoint')\n",
        "\n",
        "plt.xlabel('Epochs')\n",
        "plt.ylabel('Loss')\n",
        "plt.ylim(0.002, 0.007) # consistent scale\n",
        "plt.xticks(range(0, num_epochs+1))\n",
        "plt.xlim(0, len(loss_train_03)+1) # consistent scale\n",
        "plt.grid(True)\n",
        "plt.legend()\n",
        "plt.tight_layout()\n",
        "plt.show()\n",
        "## Min Loss: epoch 20"
      ],
      "metadata": {
        "id": "_azoPp322JMy",
        "colab": {
          "base_uri": "https://localhost:8080/",
          "height": 297
        },
        "outputId": "1170afa6-e6ef-4538-90ca-4690c2939bc4"
      },
      "execution_count": null,
      "outputs": [
        {
          "output_type": "display_data",
          "data": {
            "text/plain": [
              "<Figure size 576x288 with 1 Axes>"
            ],
            "image/png": "[encoded data removed]"
          },
          "metadata": {
            "needs_background": "light"
          }
        }
      ]
    },
    {
      "cell_type": "code",
      "source": [
        "## Check\n",
        "print(\"Accuracy at epoch 20:\", accuracy_val_03[loss_val_03.index(min(loss_val_03))])"
      ],
      "metadata": {
        "id": "zjaCbpjA2RN2",
        "colab": {
          "base_uri": "https://localhost:8080/"
        },
        "outputId": "a59606d5-a5bb-47b1-b500-dd2d61de3dde"
      },
      "execution_count": null,
      "outputs": [
        {
          "output_type": "stream",
          "name": "stdout",
          "text": [
            "Accuracy at epoch 20: 85.1\n"
          ]
        }
      ]
    },
    {
      "cell_type": "markdown",
      "source": [
        "### P = 0.4"
      ],
      "metadata": {
        "id": "fuA6tpzcbJOI"
      }
    },
    {
      "cell_type": "code",
      "source": [
        "norm_layer = \"BN\"\n",
        "num_epochs = 20\n",
        "\n",
        "## Init model (p = 0.4)\n",
        "model_04 = ConvNet(input_size, hidden_size, num_classes, norm_layer = norm_layer, drop = 0.4).to(device)\n",
        "model_04.apply(weights_init)\n",
        "\n",
        "## Train Model\n",
        "loss_train_04, loss_val_04, accuracy_val_04 =  train_model(model_04, early_stop = True)"
      ],
      "metadata": {
        "id": "y7pYDGLUbJOI",
        "colab": {
          "base_uri": "https://localhost:8080/"
        },
        "outputId": "7270967e-fdbb-4412-dce8-4d472f7e2374"
      },
      "execution_count": null,
      "outputs": [
        {
          "output_type": "stream",
          "name": "stderr",
          "text": [
            "\r  0%|          | 0/20 [00:00<?, ?it/s]"
          ]
        },
        {
          "output_type": "stream",
          "name": "stdout",
          "text": [
            "Epoch [1/20], Step [100/245], Loss: 1.4979\n",
            "Epoch [1/20], Step [200/245], Loss: 1.1234\n"
          ]
        },
        {
          "output_type": "stream",
          "name": "stderr",
          "text": [
            "\r  5%|▌         | 1/20 [00:29<09:20, 29.48s/it]"
          ]
        },
        {
          "output_type": "stream",
          "name": "stdout",
          "text": [
            "Validation accuracy is: 51.4 %\n",
            "Epoch [2/20], Step [100/245], Loss: 1.0363\n",
            "Epoch [2/20], Step [200/245], Loss: 1.0955\n"
          ]
        },
        {
          "output_type": "stream",
          "name": "stderr",
          "text": [
            "\r 10%|█         | 2/20 [00:59<08:53, 29.62s/it]"
          ]
        },
        {
          "output_type": "stream",
          "name": "stdout",
          "text": [
            "Validation accuracy is: 65.2 %\n",
            "Epoch [3/20], Step [100/245], Loss: 0.8682\n",
            "Epoch [3/20], Step [200/245], Loss: 0.9476\n"
          ]
        },
        {
          "output_type": "stream",
          "name": "stderr",
          "text": [
            "\r 15%|█▌        | 3/20 [01:28<08:18, 29.31s/it]"
          ]
        },
        {
          "output_type": "stream",
          "name": "stdout",
          "text": [
            "Validation accuracy is: 68.2 %\n",
            "Epoch [4/20], Step [100/245], Loss: 0.9090\n",
            "Epoch [4/20], Step [200/245], Loss: 0.8850\n"
          ]
        },
        {
          "output_type": "stream",
          "name": "stderr",
          "text": [
            "\r 20%|██        | 4/20 [01:57<07:48, 29.29s/it]"
          ]
        },
        {
          "output_type": "stream",
          "name": "stdout",
          "text": [
            "Validation accuracy is: 67.3 %\n",
            "Epoch [5/20], Step [100/245], Loss: 0.7993\n",
            "Epoch [5/20], Step [200/245], Loss: 0.8009\n"
          ]
        },
        {
          "output_type": "stream",
          "name": "stderr",
          "text": [
            "\r 25%|██▌       | 5/20 [02:26<07:19, 29.27s/it]"
          ]
        },
        {
          "output_type": "stream",
          "name": "stdout",
          "text": [
            "Validation accuracy is: 72.2 %\n",
            "Epoch [6/20], Step [100/245], Loss: 0.7904\n",
            "Epoch [6/20], Step [200/245], Loss: 0.8261\n"
          ]
        },
        {
          "output_type": "stream",
          "name": "stderr",
          "text": [
            "\r 30%|███       | 6/20 [02:56<06:50, 29.33s/it]"
          ]
        },
        {
          "output_type": "stream",
          "name": "stdout",
          "text": [
            "Validation accuracy is: 78.8 %\n",
            "Epoch [7/20], Step [100/245], Loss: 0.7862\n",
            "Epoch [7/20], Step [200/245], Loss: 0.7270\n"
          ]
        },
        {
          "output_type": "stream",
          "name": "stderr",
          "text": [
            "\r 35%|███▌      | 7/20 [03:25<06:19, 29.22s/it]"
          ]
        },
        {
          "output_type": "stream",
          "name": "stdout",
          "text": [
            "Validation accuracy is: 74.4 %\n",
            "Epoch [8/20], Step [100/245], Loss: 0.5690\n",
            "Epoch [8/20], Step [200/245], Loss: 0.6303\n"
          ]
        },
        {
          "output_type": "stream",
          "name": "stderr",
          "text": [
            "\r 40%|████      | 8/20 [03:54<05:50, 29.18s/it]"
          ]
        },
        {
          "output_type": "stream",
          "name": "stdout",
          "text": [
            "Validation accuracy is: 78.2 %\n",
            "Epoch [9/20], Step [100/245], Loss: 0.6008\n",
            "Epoch [9/20], Step [200/245], Loss: 0.8014\n"
          ]
        },
        {
          "output_type": "stream",
          "name": "stderr",
          "text": [
            "\r 45%|████▌     | 9/20 [04:23<05:20, 29.15s/it]"
          ]
        },
        {
          "output_type": "stream",
          "name": "stdout",
          "text": [
            "Validation accuracy is: 79.3 %\n",
            "Epoch [10/20], Step [100/245], Loss: 0.7176\n",
            "Epoch [10/20], Step [200/245], Loss: 0.6125\n"
          ]
        },
        {
          "output_type": "stream",
          "name": "stderr",
          "text": [
            "\r 50%|█████     | 10/20 [04:52<04:51, 29.10s/it]"
          ]
        },
        {
          "output_type": "stream",
          "name": "stdout",
          "text": [
            "Validation accuracy is: 78.0 %\n",
            "Epoch [11/20], Step [100/245], Loss: 0.6554\n",
            "Epoch [11/20], Step [200/245], Loss: 0.5599\n"
          ]
        },
        {
          "output_type": "stream",
          "name": "stderr",
          "text": [
            "\r 55%|█████▌    | 11/20 [05:21<04:21, 29.08s/it]"
          ]
        },
        {
          "output_type": "stream",
          "name": "stdout",
          "text": [
            "Validation accuracy is: 81.2 %\n",
            "Epoch [12/20], Step [100/245], Loss: 0.5578\n",
            "Epoch [12/20], Step [200/245], Loss: 0.5733\n"
          ]
        },
        {
          "output_type": "stream",
          "name": "stderr",
          "text": [
            "\r 60%|██████    | 12/20 [05:50<03:53, 29.13s/it]"
          ]
        },
        {
          "output_type": "stream",
          "name": "stdout",
          "text": [
            "Validation accuracy is: 80.4 %\n",
            "Epoch [13/20], Step [100/245], Loss: 0.7281\n",
            "Epoch [13/20], Step [200/245], Loss: 0.6247\n"
          ]
        },
        {
          "output_type": "stream",
          "name": "stderr",
          "text": [
            "\r 65%|██████▌   | 13/20 [06:19<03:23, 29.06s/it]"
          ]
        },
        {
          "output_type": "stream",
          "name": "stdout",
          "text": [
            "Validation accuracy is: 79.4 %\n",
            "Epoch [14/20], Step [100/245], Loss: 0.5702\n",
            "Epoch [14/20], Step [200/245], Loss: 0.6390\n"
          ]
        },
        {
          "output_type": "stream",
          "name": "stderr",
          "text": [
            "\r 70%|███████   | 14/20 [06:48<02:53, 28.98s/it]"
          ]
        },
        {
          "output_type": "stream",
          "name": "stdout",
          "text": [
            "Validation accuracy is: 78.7 %\n",
            "Epoch [15/20], Step [100/245], Loss: 0.6166\n",
            "Epoch [15/20], Step [200/245], Loss: 0.5900\n"
          ]
        },
        {
          "output_type": "stream",
          "name": "stderr",
          "text": [
            "\r 75%|███████▌  | 15/20 [07:16<02:24, 28.91s/it]"
          ]
        },
        {
          "output_type": "stream",
          "name": "stdout",
          "text": [
            "Validation accuracy is: 83.1 %\n",
            "Epoch [16/20], Step [100/245], Loss: 0.5208\n",
            "Epoch [16/20], Step [200/245], Loss: 0.6978\n"
          ]
        },
        {
          "output_type": "stream",
          "name": "stderr",
          "text": [
            "\r 80%|████████  | 16/20 [07:45<01:55, 28.91s/it]"
          ]
        },
        {
          "output_type": "stream",
          "name": "stdout",
          "text": [
            "Validation accuracy is: 83.5 %\n",
            "Epoch [17/20], Step [100/245], Loss: 0.4902\n",
            "Epoch [17/20], Step [200/245], Loss: 0.5991\n"
          ]
        },
        {
          "output_type": "stream",
          "name": "stderr",
          "text": [
            "\r 85%|████████▌ | 17/20 [08:15<01:26, 28.98s/it]"
          ]
        },
        {
          "output_type": "stream",
          "name": "stdout",
          "text": [
            "Validation accuracy is: 82.7 %\n",
            "Epoch [18/20], Step [100/245], Loss: 0.4849\n",
            "Epoch [18/20], Step [200/245], Loss: 0.5412\n"
          ]
        },
        {
          "output_type": "stream",
          "name": "stderr",
          "text": [
            "\r 90%|█████████ | 18/20 [08:43<00:57, 28.96s/it]"
          ]
        },
        {
          "output_type": "stream",
          "name": "stdout",
          "text": [
            "Validation accuracy is: 81.0 %\n",
            "Epoch [19/20], Step [100/245], Loss: 0.4654\n",
            "Epoch [19/20], Step [200/245], Loss: 0.5831\n"
          ]
        },
        {
          "output_type": "stream",
          "name": "stderr",
          "text": [
            "\r 95%|█████████▌| 19/20 [09:12<00:28, 28.91s/it]"
          ]
        },
        {
          "output_type": "stream",
          "name": "stdout",
          "text": [
            "Validation accuracy is: 84.3 %\n",
            "Epoch [20/20], Step [100/245], Loss: 0.5031\n",
            "Epoch [20/20], Step [200/245], Loss: 0.5705\n"
          ]
        },
        {
          "output_type": "stream",
          "name": "stderr",
          "text": [
            "100%|██████████| 20/20 [09:41<00:00, 29.08s/it]"
          ]
        },
        {
          "output_type": "stream",
          "name": "stdout",
          "text": [
            "Validation accuracy is: 83.9 %\n"
          ]
        },
        {
          "output_type": "stream",
          "name": "stderr",
          "text": [
            "\n"
          ]
        }
      ]
    },
    {
      "cell_type": "code",
      "source": [
        "## Plot validation and training losses\n",
        "\n",
        "# visualize the loss as the network trained\n",
        "fig = plt.figure(figsize = (8,4))\n",
        "plt.plot(range(1,len(loss_train_04)+1), loss_train_04, label = 'Training Loss')\n",
        "plt.plot(range(1,len(loss_val_04)+1), loss_val_04, label = 'Validation Loss')\n",
        "\n",
        "# find position of lowest validation loss\n",
        "minposs = loss_val_04.index(min(loss_val_04)) + 1 \n",
        "plt.axvline(minposs, linestyle = '--', color = 'r', label = 'Early Stopping Checkpoint')\n",
        "\n",
        "plt.xlabel('Epochs')\n",
        "plt.ylabel('Loss')\n",
        "plt.ylim(0.002, 0.008) # consistent scale\n",
        "plt.xticks(range(0, num_epochs+1))\n",
        "plt.xlim(0, len(loss_train_04)+1) # consistent scale\n",
        "plt.grid(True)\n",
        "plt.legend()\n",
        "plt.tight_layout()\n",
        "plt.show()\n",
        "## Min Loss: epoch 19"
      ],
      "metadata": {
        "id": "YwaX292ZbJOJ",
        "colab": {
          "base_uri": "https://localhost:8080/",
          "height": 297
        },
        "outputId": "5b30e843-e506-475c-fedf-337d8e5c51d1"
      },
      "execution_count": null,
      "outputs": [
        {
          "output_type": "display_data",
          "data": {
            "text/plain": [
              "<Figure size 576x288 with 1 Axes>"
            ],
            "image/png": "[encoded data removed]"
          },
          "metadata": {
            "needs_background": "light"
          }
        }
      ]
    },
    {
      "cell_type": "code",
      "source": [
        "## Check\n",
        "print(\"Accuracy at epoch 19:\", accuracy_val_04[loss_val_04.index(min(loss_val_04))])"
      ],
      "metadata": {
        "id": "BhLQeVYzbJOK",
        "colab": {
          "base_uri": "https://localhost:8080/"
        },
        "outputId": "f7e12dd0-3f07-4051-df83-7078e58dbe33"
      },
      "execution_count": null,
      "outputs": [
        {
          "output_type": "stream",
          "name": "stdout",
          "text": [
            "Accuracy at epoch 19: 84.3\n"
          ]
        }
      ]
    },
    {
      "cell_type": "markdown",
      "source": [
        "### P = 0.5"
      ],
      "metadata": {
        "id": "KMb8lT28bbTQ"
      }
    },
    {
      "cell_type": "code",
      "source": [
        "norm_layer = \"BN\"\n",
        "num_epochs = 20\n",
        "\n",
        "## Init model (p = 0.5)\n",
        "model_05 = ConvNet(input_size, hidden_size, num_classes, norm_layer = norm_layer, drop = 0.5).to(device)\n",
        "model_05.apply(weights_init)\n",
        "\n",
        "## Train Model\n",
        "loss_train_05, loss_val_05, accuracy_val_05 =  train_model(model_05, early_stop = True)"
      ],
      "metadata": {
        "id": "karF-zb-bbTR",
        "colab": {
          "base_uri": "https://localhost:8080/"
        },
        "outputId": "6a99d16d-d2bd-45ec-bdfb-d8a44434f646"
      },
      "execution_count": null,
      "outputs": [
        {
          "output_type": "stream",
          "name": "stderr",
          "text": [
            "\r  0%|          | 0/20 [00:00<?, ?it/s]"
          ]
        },
        {
          "output_type": "stream",
          "name": "stdout",
          "text": [
            "Epoch [1/20], Step [100/245], Loss: 1.4149\n",
            "Epoch [1/20], Step [200/245], Loss: 1.2939\n"
          ]
        },
        {
          "output_type": "stream",
          "name": "stderr",
          "text": [
            "\r  5%|▌         | 1/20 [00:29<09:19, 29.43s/it]"
          ]
        },
        {
          "output_type": "stream",
          "name": "stdout",
          "text": [
            "Validation accuracy is: 56.9 %\n",
            "Epoch [2/20], Step [100/245], Loss: 1.3594\n",
            "Epoch [2/20], Step [200/245], Loss: 1.2188\n"
          ]
        },
        {
          "output_type": "stream",
          "name": "stderr",
          "text": [
            "\r 10%|█         | 2/20 [00:58<08:49, 29.42s/it]"
          ]
        },
        {
          "output_type": "stream",
          "name": "stdout",
          "text": [
            "Validation accuracy is: 63.1 %\n",
            "Epoch [3/20], Step [100/245], Loss: 0.8987\n",
            "Epoch [3/20], Step [200/245], Loss: 1.1150\n"
          ]
        },
        {
          "output_type": "stream",
          "name": "stderr",
          "text": [
            "\r 15%|█▌        | 3/20 [01:28<08:21, 29.53s/it]"
          ]
        },
        {
          "output_type": "stream",
          "name": "stdout",
          "text": [
            "Validation accuracy is: 66.0 %\n",
            "Epoch [4/20], Step [100/245], Loss: 0.9669\n",
            "Epoch [4/20], Step [200/245], Loss: 0.8609\n"
          ]
        },
        {
          "output_type": "stream",
          "name": "stderr",
          "text": [
            "\r 20%|██        | 4/20 [01:57<07:50, 29.39s/it]"
          ]
        },
        {
          "output_type": "stream",
          "name": "stdout",
          "text": [
            "Validation accuracy is: 66.5 %\n",
            "Epoch [5/20], Step [100/245], Loss: 0.8973\n",
            "Epoch [5/20], Step [200/245], Loss: 0.8465\n"
          ]
        },
        {
          "output_type": "stream",
          "name": "stderr",
          "text": [
            "\r 25%|██▌       | 5/20 [02:26<07:19, 29.31s/it]"
          ]
        },
        {
          "output_type": "stream",
          "name": "stdout",
          "text": [
            "Validation accuracy is: 63.7 %\n",
            "Epoch [6/20], Step [100/245], Loss: 0.8678\n",
            "Epoch [6/20], Step [200/245], Loss: 0.8448\n"
          ]
        },
        {
          "output_type": "stream",
          "name": "stderr",
          "text": [
            "\r 30%|███       | 6/20 [02:55<06:48, 29.21s/it]"
          ]
        },
        {
          "output_type": "stream",
          "name": "stdout",
          "text": [
            "Validation accuracy is: 66.8 %\n",
            "Epoch [7/20], Step [100/245], Loss: 0.9549\n",
            "Epoch [7/20], Step [200/245], Loss: 0.8065\n"
          ]
        },
        {
          "output_type": "stream",
          "name": "stderr",
          "text": [
            "\r 35%|███▌      | 7/20 [03:25<06:19, 29.20s/it]"
          ]
        },
        {
          "output_type": "stream",
          "name": "stdout",
          "text": [
            "Validation accuracy is: 71.3 %\n",
            "Epoch [8/20], Step [100/245], Loss: 0.7688\n",
            "Epoch [8/20], Step [200/245], Loss: 0.7431\n"
          ]
        },
        {
          "output_type": "stream",
          "name": "stderr",
          "text": [
            "\r 40%|████      | 8/20 [03:54<05:51, 29.26s/it]"
          ]
        },
        {
          "output_type": "stream",
          "name": "stdout",
          "text": [
            "Validation accuracy is: 71.9 %\n",
            "Epoch [9/20], Step [100/245], Loss: 0.8772\n",
            "Epoch [9/20], Step [200/245], Loss: 0.7244\n"
          ]
        },
        {
          "output_type": "stream",
          "name": "stderr",
          "text": [
            "\r 45%|████▌     | 9/20 [04:23<05:21, 29.19s/it]"
          ]
        },
        {
          "output_type": "stream",
          "name": "stdout",
          "text": [
            "Validation accuracy is: 70.5 %\n",
            "Epoch [10/20], Step [100/245], Loss: 0.7435\n",
            "Epoch [10/20], Step [200/245], Loss: 0.7313\n"
          ]
        },
        {
          "output_type": "stream",
          "name": "stderr",
          "text": [
            "\r 50%|█████     | 10/20 [04:52<04:51, 29.12s/it]"
          ]
        },
        {
          "output_type": "stream",
          "name": "stdout",
          "text": [
            "Validation accuracy is: 75.0 %\n",
            "Epoch [11/20], Step [100/245], Loss: 0.6686\n",
            "Epoch [11/20], Step [200/245], Loss: 0.7418\n"
          ]
        },
        {
          "output_type": "stream",
          "name": "stderr",
          "text": [
            "\r 55%|█████▌    | 11/20 [05:21<04:21, 29.10s/it]"
          ]
        },
        {
          "output_type": "stream",
          "name": "stdout",
          "text": [
            "Validation accuracy is: 76.7 %\n",
            "Epoch [12/20], Step [100/245], Loss: 0.7587\n",
            "Epoch [12/20], Step [200/245], Loss: 0.7848\n"
          ]
        },
        {
          "output_type": "stream",
          "name": "stderr",
          "text": [
            "\r 60%|██████    | 12/20 [05:50<03:52, 29.05s/it]"
          ]
        },
        {
          "output_type": "stream",
          "name": "stdout",
          "text": [
            "Validation accuracy is: 76.1 %\n",
            "Epoch [13/20], Step [100/245], Loss: 0.5196\n",
            "Epoch [13/20], Step [200/245], Loss: 0.7174\n"
          ]
        },
        {
          "output_type": "stream",
          "name": "stderr",
          "text": [
            "\r 65%|██████▌   | 13/20 [06:19<03:23, 29.02s/it]"
          ]
        },
        {
          "output_type": "stream",
          "name": "stdout",
          "text": [
            "Validation accuracy is: 75.1 %\n",
            "Epoch [14/20], Step [100/245], Loss: 0.6763\n",
            "Epoch [14/20], Step [200/245], Loss: 0.8145\n"
          ]
        },
        {
          "output_type": "stream",
          "name": "stderr",
          "text": [
            "\r 70%|███████   | 14/20 [06:48<02:54, 29.05s/it]"
          ]
        },
        {
          "output_type": "stream",
          "name": "stdout",
          "text": [
            "Validation accuracy is: 73.7 %\n",
            "Epoch [15/20], Step [100/245], Loss: 0.6167\n",
            "Epoch [15/20], Step [200/245], Loss: 0.6922\n"
          ]
        },
        {
          "output_type": "stream",
          "name": "stderr",
          "text": [
            "\r 75%|███████▌  | 15/20 [07:17<02:25, 29.00s/it]"
          ]
        },
        {
          "output_type": "stream",
          "name": "stdout",
          "text": [
            "Validation accuracy is: 78.2 %\n",
            "Epoch [16/20], Step [100/245], Loss: 0.6641\n",
            "Epoch [16/20], Step [200/245], Loss: 0.5997\n"
          ]
        },
        {
          "output_type": "stream",
          "name": "stderr",
          "text": [
            "\r 80%|████████  | 16/20 [07:46<01:55, 28.98s/it]"
          ]
        },
        {
          "output_type": "stream",
          "name": "stdout",
          "text": [
            "Validation accuracy is: 78.3 %\n",
            "Epoch [17/20], Step [100/245], Loss: 0.6042\n",
            "Epoch [17/20], Step [200/245], Loss: 0.8198\n"
          ]
        },
        {
          "output_type": "stream",
          "name": "stderr",
          "text": [
            "\r 85%|████████▌ | 17/20 [08:15<01:26, 28.94s/it]"
          ]
        },
        {
          "output_type": "stream",
          "name": "stdout",
          "text": [
            "Validation accuracy is: 79.6 %\n",
            "Epoch [18/20], Step [100/245], Loss: 0.6881\n",
            "Epoch [18/20], Step [200/245], Loss: 0.6864\n"
          ]
        },
        {
          "output_type": "stream",
          "name": "stderr",
          "text": [
            "\r 90%|█████████ | 18/20 [08:44<00:57, 28.91s/it]"
          ]
        },
        {
          "output_type": "stream",
          "name": "stdout",
          "text": [
            "Validation accuracy is: 79.4 %\n",
            "Epoch [19/20], Step [100/245], Loss: 0.4670\n",
            "Epoch [19/20], Step [200/245], Loss: 0.6609\n"
          ]
        },
        {
          "output_type": "stream",
          "name": "stderr",
          "text": [
            "\r 95%|█████████▌| 19/20 [09:12<00:28, 28.89s/it]"
          ]
        },
        {
          "output_type": "stream",
          "name": "stdout",
          "text": [
            "Validation accuracy is: 81.6 %\n",
            "Epoch [20/20], Step [100/245], Loss: 0.6046\n",
            "Epoch [20/20], Step [200/245], Loss: 0.7036\n"
          ]
        },
        {
          "output_type": "stream",
          "name": "stderr",
          "text": [
            "100%|██████████| 20/20 [09:42<00:00, 29.11s/it]"
          ]
        },
        {
          "output_type": "stream",
          "name": "stdout",
          "text": [
            "Validation accuracy is: 80.8 %\n"
          ]
        },
        {
          "output_type": "stream",
          "name": "stderr",
          "text": [
            "\n"
          ]
        }
      ]
    },
    {
      "cell_type": "code",
      "source": [
        "## Plot validation and training losses\n",
        "\n",
        "# visualize the loss as the network trained\n",
        "fig = plt.figure(figsize = (8,4))\n",
        "plt.plot(range(1,len(loss_train_05)+1), loss_train_05, label = 'Training Loss')\n",
        "plt.plot(range(1,len(loss_val_05)+1), loss_val_05, label = 'Validation Loss')\n",
        "\n",
        "# find position of lowest validation loss\n",
        "minposs = loss_val_05.index(min(loss_val_05)) + 1 \n",
        "plt.axvline(minposs, linestyle = '--', color = 'r', label = 'Early Stopping Checkpoint')\n",
        "\n",
        "plt.xlabel('Epochs')\n",
        "plt.ylabel('Loss')\n",
        "plt.ylim(0.002, 0.008) # consistent scale\n",
        "plt.xticks(range(0, num_epochs+1))\n",
        "plt.xlim(0, len(loss_train_05)+1) # consistent scale\n",
        "plt.grid(True)\n",
        "plt.legend()\n",
        "plt.tight_layout()\n",
        "plt.show()\n",
        "## Min Loss: epoch 19"
      ],
      "metadata": {
        "id": "vJ8T_HKcbbTR",
        "colab": {
          "base_uri": "https://localhost:8080/",
          "height": 297
        },
        "outputId": "636191a5-1867-4aa2-d101-4068085545c8"
      },
      "execution_count": null,
      "outputs": [
        {
          "output_type": "display_data",
          "data": {
            "text/plain": [
              "<Figure size 576x288 with 1 Axes>"
            ],
            "image/png": "[encoded data removed]"
          },
          "metadata": {
            "needs_background": "light"
          }
        }
      ]
    },
    {
      "cell_type": "code",
      "source": [
        "## Check\n",
        "print(\"Accuracy at epoch 19:\", accuracy_val_05[loss_val_05.index(min(loss_val_05))])"
      ],
      "metadata": {
        "id": "C-weaMLgbbTS",
        "colab": {
          "base_uri": "https://localhost:8080/"
        },
        "outputId": "d645ed65-9f68-497c-c046-22dda7549281"
      },
      "execution_count": null,
      "outputs": [
        {
          "output_type": "stream",
          "name": "stdout",
          "text": [
            "Accuracy at epoch 19: 81.6\n"
          ]
        }
      ]
    },
    {
      "cell_type": "markdown",
      "source": [
        "### P = 0.6"
      ],
      "metadata": {
        "id": "nAabGn52b0wG"
      }
    },
    {
      "cell_type": "code",
      "source": [
        "norm_layer = \"BN\"\n",
        "num_epochs = 20\n",
        "\n",
        "## Init model (p = 0.6)\n",
        "model_06 = ConvNet(input_size, hidden_size, num_classes, norm_layer = norm_layer, drop = 0.6).to(device)\n",
        "model_06.apply(weights_init)\n",
        "\n",
        "## Train Model\n",
        "loss_train_06, loss_val_06, accuracy_val_06 =  train_model(model_06, early_stop = True)"
      ],
      "metadata": {
        "id": "lKHjScNSb3P7",
        "colab": {
          "base_uri": "https://localhost:8080/"
        },
        "outputId": "149b15e5-57d6-4738-ec56-559704577ef4"
      },
      "execution_count": null,
      "outputs": [
        {
          "output_type": "stream",
          "name": "stderr",
          "text": [
            "\r  0%|          | 0/20 [00:00<?, ?it/s]"
          ]
        },
        {
          "output_type": "stream",
          "name": "stdout",
          "text": [
            "Epoch [1/20], Step [100/245], Loss: 1.6384\n",
            "Epoch [1/20], Step [200/245], Loss: 1.2080\n"
          ]
        },
        {
          "output_type": "stream",
          "name": "stderr",
          "text": [
            "\r  5%|▌         | 1/20 [00:29<09:21, 29.55s/it]"
          ]
        },
        {
          "output_type": "stream",
          "name": "stdout",
          "text": [
            "Validation accuracy is: 48.8 %\n",
            "Epoch [2/20], Step [100/245], Loss: 1.1870\n",
            "Epoch [2/20], Step [200/245], Loss: 1.1165\n"
          ]
        },
        {
          "output_type": "stream",
          "name": "stderr",
          "text": [
            "\r 10%|█         | 2/20 [00:58<08:46, 29.25s/it]"
          ]
        },
        {
          "output_type": "stream",
          "name": "stdout",
          "text": [
            "Validation accuracy is: 55.1 %\n",
            "Epoch [3/20], Step [100/245], Loss: 1.1734\n",
            "Epoch [3/20], Step [200/245], Loss: 0.9729\n"
          ]
        },
        {
          "output_type": "stream",
          "name": "stderr",
          "text": [
            "\r 15%|█▌        | 3/20 [01:27<08:16, 29.19s/it]"
          ]
        },
        {
          "output_type": "stream",
          "name": "stdout",
          "text": [
            "Validation accuracy is: 64.9 %\n",
            "Epoch [4/20], Step [100/245], Loss: 1.0110\n",
            "Epoch [4/20], Step [200/245], Loss: 1.0655\n"
          ]
        },
        {
          "output_type": "stream",
          "name": "stderr",
          "text": [
            "\r 20%|██        | 4/20 [01:57<07:49, 29.32s/it]"
          ]
        },
        {
          "output_type": "stream",
          "name": "stdout",
          "text": [
            "Validation accuracy is: 63.9 %\n",
            "Epoch [5/20], Step [100/245], Loss: 1.0029\n",
            "Epoch [5/20], Step [200/245], Loss: 0.8201\n"
          ]
        },
        {
          "output_type": "stream",
          "name": "stderr",
          "text": [
            "\r 25%|██▌       | 5/20 [02:26<07:18, 29.26s/it]"
          ]
        },
        {
          "output_type": "stream",
          "name": "stdout",
          "text": [
            "Validation accuracy is: 64.2 %\n",
            "Epoch [6/20], Step [100/245], Loss: 1.0622\n",
            "Epoch [6/20], Step [200/245], Loss: 0.9444\n"
          ]
        },
        {
          "output_type": "stream",
          "name": "stderr",
          "text": [
            "\r 30%|███       | 6/20 [02:55<06:48, 29.17s/it]"
          ]
        },
        {
          "output_type": "stream",
          "name": "stdout",
          "text": [
            "Validation accuracy is: 63.3 %\n",
            "Epoch [7/20], Step [100/245], Loss: 0.9218\n",
            "Epoch [7/20], Step [200/245], Loss: 0.9299\n"
          ]
        },
        {
          "output_type": "stream",
          "name": "stderr",
          "text": [
            "\r 35%|███▌      | 7/20 [03:24<06:18, 29.13s/it]"
          ]
        },
        {
          "output_type": "stream",
          "name": "stdout",
          "text": [
            "Validation accuracy is: 65.6 %\n",
            "Epoch [8/20], Step [100/245], Loss: 0.8359\n",
            "Epoch [8/20], Step [200/245], Loss: 0.9251\n"
          ]
        },
        {
          "output_type": "stream",
          "name": "stderr",
          "text": [
            "\r 40%|████      | 8/20 [03:53<05:48, 29.08s/it]"
          ]
        },
        {
          "output_type": "stream",
          "name": "stdout",
          "text": [
            "Validation accuracy is: 67.5 %\n",
            "Epoch [9/20], Step [100/245], Loss: 1.0587\n",
            "Epoch [9/20], Step [200/245], Loss: 0.8589\n"
          ]
        },
        {
          "output_type": "stream",
          "name": "stderr",
          "text": [
            "\r 45%|████▌     | 9/20 [04:22<05:19, 29.08s/it]"
          ]
        },
        {
          "output_type": "stream",
          "name": "stdout",
          "text": [
            "Validation accuracy is: 69.2 %\n",
            "Epoch [10/20], Step [100/245], Loss: 0.9487\n",
            "Epoch [10/20], Step [200/245], Loss: 0.8280\n"
          ]
        },
        {
          "output_type": "stream",
          "name": "stderr",
          "text": [
            "\r 50%|█████     | 10/20 [04:51<04:51, 29.19s/it]"
          ]
        },
        {
          "output_type": "stream",
          "name": "stdout",
          "text": [
            "Validation accuracy is: 72.0 %\n",
            "Epoch [11/20], Step [100/245], Loss: 0.8444\n",
            "Epoch [11/20], Step [200/245], Loss: 0.7754\n"
          ]
        },
        {
          "output_type": "stream",
          "name": "stderr",
          "text": [
            "\r 55%|█████▌    | 11/20 [05:20<04:21, 29.11s/it]"
          ]
        },
        {
          "output_type": "stream",
          "name": "stdout",
          "text": [
            "Validation accuracy is: 69.9 %\n",
            "Epoch [12/20], Step [100/245], Loss: 0.8434\n",
            "Epoch [12/20], Step [200/245], Loss: 0.7861\n"
          ]
        },
        {
          "output_type": "stream",
          "name": "stderr",
          "text": [
            "\r 60%|██████    | 12/20 [05:49<03:52, 29.09s/it]"
          ]
        },
        {
          "output_type": "stream",
          "name": "stdout",
          "text": [
            "Validation accuracy is: 75.2 %\n",
            "Epoch [13/20], Step [100/245], Loss: 0.7387\n",
            "Epoch [13/20], Step [200/245], Loss: 0.8334\n"
          ]
        },
        {
          "output_type": "stream",
          "name": "stderr",
          "text": [
            "\r 65%|██████▌   | 13/20 [06:18<03:23, 29.06s/it]"
          ]
        },
        {
          "output_type": "stream",
          "name": "stdout",
          "text": [
            "Validation accuracy is: 70.6 %\n",
            "Epoch [14/20], Step [100/245], Loss: 0.9005\n",
            "Epoch [14/20], Step [200/245], Loss: 0.7059\n"
          ]
        },
        {
          "output_type": "stream",
          "name": "stderr",
          "text": [
            "\r 70%|███████   | 14/20 [06:47<02:54, 29.06s/it]"
          ]
        },
        {
          "output_type": "stream",
          "name": "stdout",
          "text": [
            "Validation accuracy is: 75.1 %\n",
            "Epoch [15/20], Step [100/245], Loss: 0.8440\n",
            "Epoch [15/20], Step [200/245], Loss: 0.7738\n"
          ]
        },
        {
          "output_type": "stream",
          "name": "stderr",
          "text": [
            "\r 75%|███████▌  | 15/20 [07:16<02:25, 29.06s/it]"
          ]
        },
        {
          "output_type": "stream",
          "name": "stdout",
          "text": [
            "Validation accuracy is: 72.5 %\n",
            "Epoch [16/20], Step [100/245], Loss: 0.8504\n",
            "Epoch [16/20], Step [200/245], Loss: 0.7917\n"
          ]
        },
        {
          "output_type": "stream",
          "name": "stderr",
          "text": [
            "\r 80%|████████  | 16/20 [07:46<01:56, 29.19s/it]"
          ]
        },
        {
          "output_type": "stream",
          "name": "stdout",
          "text": [
            "Validation accuracy is: 72.9 %\n",
            "Epoch [17/20], Step [100/245], Loss: 0.8161\n",
            "Epoch [17/20], Step [200/245], Loss: 0.8840\n"
          ]
        },
        {
          "output_type": "stream",
          "name": "stderr",
          "text": [
            "\r 85%|████████▌ | 17/20 [08:15<01:27, 29.18s/it]"
          ]
        },
        {
          "output_type": "stream",
          "name": "stdout",
          "text": [
            "Validation accuracy is: 70.2 %\n",
            "Epoch [18/20], Step [100/245], Loss: 0.8096\n",
            "Epoch [18/20], Step [200/245], Loss: 0.8412\n"
          ]
        },
        {
          "output_type": "stream",
          "name": "stderr",
          "text": [
            "\r 90%|█████████ | 18/20 [08:44<00:58, 29.14s/it]"
          ]
        },
        {
          "output_type": "stream",
          "name": "stdout",
          "text": [
            "Validation accuracy is: 75.8 %\n",
            "Epoch [19/20], Step [100/245], Loss: 0.7847\n",
            "Epoch [19/20], Step [200/245], Loss: 0.7797\n"
          ]
        },
        {
          "output_type": "stream",
          "name": "stderr",
          "text": [
            "\r 95%|█████████▌| 19/20 [09:13<00:29, 29.07s/it]"
          ]
        },
        {
          "output_type": "stream",
          "name": "stdout",
          "text": [
            "Validation accuracy is: 75.6 %\n",
            "Epoch [20/20], Step [100/245], Loss: 0.6672\n",
            "Epoch [20/20], Step [200/245], Loss: 0.8674\n"
          ]
        },
        {
          "output_type": "stream",
          "name": "stderr",
          "text": [
            "100%|██████████| 20/20 [09:42<00:00, 29.13s/it]"
          ]
        },
        {
          "output_type": "stream",
          "name": "stdout",
          "text": [
            "Validation accuracy is: 72.8 %\n"
          ]
        },
        {
          "output_type": "stream",
          "name": "stderr",
          "text": [
            "\n"
          ]
        }
      ]
    },
    {
      "cell_type": "code",
      "source": [
        "## Plot validation and training losses\n",
        "\n",
        "# visualize the loss as the network trained\n",
        "fig = plt.figure(figsize = (8,4))\n",
        "plt.plot(range(1,len(loss_train_06)+1), loss_train_06, label = 'Training Loss')\n",
        "plt.plot(range(1,len(loss_val_06)+1), loss_val_06, label = 'Validation Loss')\n",
        "\n",
        "# find position of lowest validation loss\n",
        "minposs = loss_val_06.index(min(loss_val_06)) + 1 \n",
        "plt.axvline(minposs, linestyle = '--', color = 'r', label = 'Early Stopping Checkpoint')\n",
        "\n",
        "plt.xlabel('Epochs')\n",
        "plt.ylabel('Loss')\n",
        "plt.ylim(0.003, 0.008) # consistent scale\n",
        "plt.xticks(range(0, num_epochs+1))\n",
        "plt.xlim(0, len(loss_train_06)+1) # consistent scale\n",
        "plt.grid(True)\n",
        "plt.legend()\n",
        "plt.tight_layout()\n",
        "plt.show()\n",
        "## Min Loss: epoch 19"
      ],
      "metadata": {
        "id": "kKEbqdRucGeO",
        "colab": {
          "base_uri": "https://localhost:8080/",
          "height": 297
        },
        "outputId": "38659a26-964e-4b60-ab1e-842f7da165bf"
      },
      "execution_count": null,
      "outputs": [
        {
          "output_type": "display_data",
          "data": {
            "text/plain": [
              "<Figure size 576x288 with 1 Axes>"
            ],
            "image/png": "[encoded data removed]"
          },
          "metadata": {
            "needs_background": "light"
          }
        }
      ]
    },
    {
      "cell_type": "code",
      "source": [
        "## Check\n",
        "print(\"Accuracy at epoch 19\", accuracy_val_06[loss_val_06.index(min(loss_val_06))])"
      ],
      "metadata": {
        "id": "gCFXcNUEcN1M",
        "colab": {
          "base_uri": "https://localhost:8080/"
        },
        "outputId": "d0bcb5e9-2af9-45e4-d4b3-2d1b20cf4289"
      },
      "execution_count": null,
      "outputs": [
        {
          "output_type": "stream",
          "name": "stdout",
          "text": [
            "Accuracy at epoch 19 75.6\n"
          ]
        }
      ]
    },
    {
      "cell_type": "markdown",
      "source": [
        "### P = 0.7"
      ],
      "metadata": {
        "id": "ASKZxRjScQK_"
      }
    },
    {
      "cell_type": "code",
      "source": [
        "norm_layer = \"BN\"\n",
        "num_epochs = 20\n",
        "\n",
        "## Init model (p = 0.7)\n",
        "model_07 = ConvNet(input_size, hidden_size, num_classes, norm_layer = norm_layer, drop = 0.7).to(device)\n",
        "model_07.apply(weights_init)\n",
        "\n",
        "## Train Model\n",
        "loss_train_07, loss_val_07, accuracy_val_07 =  train_model(model_07, early_stop = True)"
      ],
      "metadata": {
        "id": "OnsI-2T9cRo1",
        "colab": {
          "base_uri": "https://localhost:8080/"
        },
        "outputId": "8e688932-efc1-4ccc-bf13-64e6f63bb300"
      },
      "execution_count": null,
      "outputs": [
        {
          "output_type": "stream",
          "name": "stderr",
          "text": [
            "\r  0%|          | 0/20 [00:00<?, ?it/s]"
          ]
        },
        {
          "output_type": "stream",
          "name": "stdout",
          "text": [
            "Epoch [1/20], Step [100/245], Loss: 1.6938\n",
            "Epoch [1/20], Step [200/245], Loss: 1.4646\n"
          ]
        },
        {
          "output_type": "stream",
          "name": "stderr",
          "text": [
            "\r  5%|▌         | 1/20 [00:29<09:23, 29.64s/it]"
          ]
        },
        {
          "output_type": "stream",
          "name": "stdout",
          "text": [
            "Validation accuracy is: 36.1 %\n",
            "Epoch [2/20], Step [100/245], Loss: 1.3532\n",
            "Epoch [2/20], Step [200/245], Loss: 1.2375\n"
          ]
        },
        {
          "output_type": "stream",
          "name": "stderr",
          "text": [
            "\r 10%|█         | 2/20 [00:58<08:48, 29.38s/it]"
          ]
        },
        {
          "output_type": "stream",
          "name": "stdout",
          "text": [
            "Validation accuracy is: 50.5 %\n",
            "Epoch [3/20], Step [100/245], Loss: 1.2923\n",
            "Epoch [3/20], Step [200/245], Loss: 1.3545\n"
          ]
        },
        {
          "output_type": "stream",
          "name": "stderr",
          "text": [
            "\r 15%|█▌        | 3/20 [01:28<08:17, 29.28s/it]"
          ]
        },
        {
          "output_type": "stream",
          "name": "stdout",
          "text": [
            "Validation accuracy is: 53.0 %\n",
            "Epoch [4/20], Step [100/245], Loss: 1.1383\n",
            "Epoch [4/20], Step [200/245], Loss: 1.1452\n"
          ]
        },
        {
          "output_type": "stream",
          "name": "stderr",
          "text": [
            "\r 20%|██        | 4/20 [01:57<07:47, 29.21s/it]"
          ]
        },
        {
          "output_type": "stream",
          "name": "stdout",
          "text": [
            "Validation accuracy is: 51.1 %\n",
            "Epoch [5/20], Step [100/245], Loss: 1.1659\n",
            "Epoch [5/20], Step [200/245], Loss: 1.3143\n"
          ]
        },
        {
          "output_type": "stream",
          "name": "stderr",
          "text": [
            "\r 25%|██▌       | 5/20 [02:26<07:17, 29.16s/it]"
          ]
        },
        {
          "output_type": "stream",
          "name": "stdout",
          "text": [
            "Validation accuracy is: 59.4 %\n",
            "Epoch [6/20], Step [100/245], Loss: 1.1445\n",
            "Epoch [6/20], Step [200/245], Loss: 1.0035\n"
          ]
        },
        {
          "output_type": "stream",
          "name": "stderr",
          "text": [
            "\r 30%|███       | 6/20 [02:55<06:47, 29.13s/it]"
          ]
        },
        {
          "output_type": "stream",
          "name": "stdout",
          "text": [
            "Validation accuracy is: 57.4 %\n",
            "Epoch [7/20], Step [100/245], Loss: 1.2286\n",
            "Epoch [7/20], Step [200/245], Loss: 1.1416\n"
          ]
        },
        {
          "output_type": "stream",
          "name": "stderr",
          "text": [
            "\r 35%|███▌      | 7/20 [03:24<06:19, 29.22s/it]"
          ]
        },
        {
          "output_type": "stream",
          "name": "stdout",
          "text": [
            "Validation accuracy is: 54.9 %\n",
            "Epoch [8/20], Step [100/245], Loss: 1.0474\n",
            "Epoch [8/20], Step [200/245], Loss: 1.0611\n"
          ]
        },
        {
          "output_type": "stream",
          "name": "stderr",
          "text": [
            "\r 40%|████      | 8/20 [03:53<05:50, 29.17s/it]"
          ]
        },
        {
          "output_type": "stream",
          "name": "stdout",
          "text": [
            "Validation accuracy is: 61.0 %\n",
            "Epoch [9/20], Step [100/245], Loss: 1.2188\n",
            "Epoch [9/20], Step [200/245], Loss: 0.9467\n"
          ]
        },
        {
          "output_type": "stream",
          "name": "stderr",
          "text": [
            "\r 45%|████▌     | 9/20 [04:22<05:20, 29.16s/it]"
          ]
        },
        {
          "output_type": "stream",
          "name": "stdout",
          "text": [
            "Validation accuracy is: 62.5 %\n",
            "Epoch [10/20], Step [100/245], Loss: 1.1903\n",
            "Epoch [10/20], Step [200/245], Loss: 0.9736\n"
          ]
        },
        {
          "output_type": "stream",
          "name": "stderr",
          "text": [
            "\r 50%|█████     | 10/20 [04:51<04:51, 29.14s/it]"
          ]
        },
        {
          "output_type": "stream",
          "name": "stdout",
          "text": [
            "Validation accuracy is: 59.4 %\n",
            "Epoch [11/20], Step [100/245], Loss: 1.1327\n",
            "Epoch [11/20], Step [200/245], Loss: 0.9973\n"
          ]
        },
        {
          "output_type": "stream",
          "name": "stderr",
          "text": [
            "\r 55%|█████▌    | 11/20 [05:21<04:22, 29.13s/it]"
          ]
        },
        {
          "output_type": "stream",
          "name": "stdout",
          "text": [
            "Validation accuracy is: 63.4 %\n",
            "Epoch [12/20], Step [100/245], Loss: 1.0092\n",
            "Epoch [12/20], Step [200/245], Loss: 1.0366\n"
          ]
        },
        {
          "output_type": "stream",
          "name": "stderr",
          "text": [
            "\r 60%|██████    | 12/20 [05:50<03:53, 29.21s/it]"
          ]
        },
        {
          "output_type": "stream",
          "name": "stdout",
          "text": [
            "Validation accuracy is: 63.5 %\n",
            "Epoch [13/20], Step [100/245], Loss: 0.9494\n",
            "Epoch [13/20], Step [200/245], Loss: 1.0509\n"
          ]
        },
        {
          "output_type": "stream",
          "name": "stderr",
          "text": [
            "\r 65%|██████▌   | 13/20 [06:19<03:24, 29.16s/it]"
          ]
        },
        {
          "output_type": "stream",
          "name": "stdout",
          "text": [
            "Validation accuracy is: 60.3 %\n",
            "Epoch [14/20], Step [100/245], Loss: 0.9896\n",
            "Epoch [14/20], Step [200/245], Loss: 0.8344\n"
          ]
        },
        {
          "output_type": "stream",
          "name": "stderr",
          "text": [
            "\r 70%|███████   | 14/20 [06:48<02:54, 29.16s/it]"
          ]
        },
        {
          "output_type": "stream",
          "name": "stdout",
          "text": [
            "Validation accuracy is: 66.6 %\n",
            "Epoch [15/20], Step [100/245], Loss: 1.0249\n",
            "Epoch [15/20], Step [200/245], Loss: 0.8206\n"
          ]
        },
        {
          "output_type": "stream",
          "name": "stderr",
          "text": [
            "\r 75%|███████▌  | 15/20 [07:17<02:25, 29.18s/it]"
          ]
        },
        {
          "output_type": "stream",
          "name": "stdout",
          "text": [
            "Validation accuracy is: 66.5 %\n",
            "Epoch [16/20], Step [100/245], Loss: 0.8320\n",
            "Epoch [16/20], Step [200/245], Loss: 0.9228\n"
          ]
        },
        {
          "output_type": "stream",
          "name": "stderr",
          "text": [
            "\r 80%|████████  | 16/20 [07:47<01:56, 29.18s/it]"
          ]
        },
        {
          "output_type": "stream",
          "name": "stdout",
          "text": [
            "Validation accuracy is: 66.5 %\n",
            "Epoch [17/20], Step [100/245], Loss: 0.9321\n",
            "Epoch [17/20], Step [200/245], Loss: 0.9069\n"
          ]
        },
        {
          "output_type": "stream",
          "name": "stderr",
          "text": [
            "\r 85%|████████▌ | 17/20 [08:16<01:27, 29.23s/it]"
          ]
        },
        {
          "output_type": "stream",
          "name": "stdout",
          "text": [
            "Validation accuracy is: 63.2 %\n",
            "Epoch [18/20], Step [100/245], Loss: 0.9087\n",
            "Epoch [18/20], Step [200/245], Loss: 0.8242\n"
          ]
        },
        {
          "output_type": "stream",
          "name": "stderr",
          "text": [
            "\r 90%|█████████ | 18/20 [08:46<00:58, 29.36s/it]"
          ]
        },
        {
          "output_type": "stream",
          "name": "stdout",
          "text": [
            "Validation accuracy is: 66.0 %\n",
            "Epoch [19/20], Step [100/245], Loss: 0.8419\n",
            "Epoch [19/20], Step [200/245], Loss: 0.8088\n"
          ]
        },
        {
          "output_type": "stream",
          "name": "stderr",
          "text": [
            "\r 95%|█████████▌| 19/20 [09:15<00:29, 29.34s/it]"
          ]
        },
        {
          "output_type": "stream",
          "name": "stdout",
          "text": [
            "Validation accuracy is: 67.9 %\n",
            "Epoch [20/20], Step [100/245], Loss: 0.9283\n",
            "Epoch [20/20], Step [200/245], Loss: 0.9543\n"
          ]
        },
        {
          "output_type": "stream",
          "name": "stderr",
          "text": [
            "100%|██████████| 20/20 [09:44<00:00, 29.25s/it]"
          ]
        },
        {
          "output_type": "stream",
          "name": "stdout",
          "text": [
            "Validation accuracy is: 67.2 %\n"
          ]
        },
        {
          "output_type": "stream",
          "name": "stderr",
          "text": [
            "\n"
          ]
        }
      ]
    },
    {
      "cell_type": "code",
      "source": [
        "## Plot validation and training losses\n",
        "\n",
        "# visualize the loss as the network trained\n",
        "fig = plt.figure(figsize = (8,4))\n",
        "plt.plot(range(1,len(loss_train_07)+1), loss_train_07, label = 'Training Loss')\n",
        "plt.plot(range(1,len(loss_val_07)+1), loss_val_07, label = 'Validation Loss')\n",
        "\n",
        "# find position of lowest validation loss\n",
        "minposs = loss_val_07.index(min(loss_val_07)) + 1 \n",
        "plt.axvline(minposs, linestyle = '--', color = 'r', label = 'Early Stopping Checkpoint')\n",
        "\n",
        "plt.xlabel('Epochs')\n",
        "plt.ylabel('Loss')\n",
        "plt.ylim(0.004, 0.009) # consistent scale\n",
        "plt.xticks(range(0, num_epochs+1))\n",
        "plt.xlim(0, len(loss_train_07)+1) # consistent scale\n",
        "plt.grid(True)\n",
        "plt.legend()\n",
        "plt.tight_layout()\n",
        "plt.show()\n",
        "## Min Loss: epoch 20"
      ],
      "metadata": {
        "id": "OEGyTq9KcTDN",
        "colab": {
          "base_uri": "https://localhost:8080/",
          "height": 297
        },
        "outputId": "326a5917-277b-4cdb-f5c8-1987065c5ee8"
      },
      "execution_count": null,
      "outputs": [
        {
          "output_type": "display_data",
          "data": {
            "text/plain": [
              "<Figure size 576x288 with 1 Axes>"
            ],
            "image/png": "[encoded data removed]"
          },
          "metadata": {
            "needs_background": "light"
          }
        }
      ]
    },
    {
      "cell_type": "code",
      "source": [
        "## Check\n",
        "print(\"Accuracy at epoch 20:\", accuracy_val_07[loss_val_07.index(min(loss_val_07))])"
      ],
      "metadata": {
        "id": "MBeqTNbFcWJS",
        "colab": {
          "base_uri": "https://localhost:8080/"
        },
        "outputId": "b38c20a1-d95b-43d4-910c-68f4e8032430"
      },
      "execution_count": null,
      "outputs": [
        {
          "output_type": "stream",
          "name": "stdout",
          "text": [
            "Accuracy at epoch 20: 67.2\n"
          ]
        }
      ]
    },
    {
      "cell_type": "markdown",
      "source": [
        "### P = 0.8"
      ],
      "metadata": {
        "id": "OsJQvAe4cixr"
      }
    },
    {
      "cell_type": "code",
      "source": [
        "norm_layer = \"BN\"\n",
        "num_epochs = 20\n",
        "\n",
        "## Init model (p = 0.8)\n",
        "model_08 = ConvNet(input_size, hidden_size, num_classes, norm_layer = norm_layer, drop = 0.8).to(device)\n",
        "model_08.apply(weights_init)\n",
        "\n",
        "## Train Model\n",
        "loss_train_08, loss_val_08, accuracy_val_08 =  train_model(model_08, early_stop = True)"
      ],
      "metadata": {
        "id": "w3dPp0iGckMm",
        "colab": {
          "base_uri": "https://localhost:8080/"
        },
        "outputId": "8fe1d85e-2117-4771-e76f-4a051d792589"
      },
      "execution_count": null,
      "outputs": [
        {
          "output_type": "stream",
          "name": "stderr",
          "text": [
            "\r  0%|          | 0/20 [00:00<?, ?it/s]"
          ]
        },
        {
          "output_type": "stream",
          "name": "stdout",
          "text": [
            "Epoch [1/20], Step [100/245], Loss: 1.7509\n",
            "Epoch [1/20], Step [200/245], Loss: 1.8006\n"
          ]
        },
        {
          "output_type": "stream",
          "name": "stderr",
          "text": [
            "\r  5%|▌         | 1/20 [00:29<09:26, 29.79s/it]"
          ]
        },
        {
          "output_type": "stream",
          "name": "stdout",
          "text": [
            "Validation accuracy is: 23.5 %\n",
            "Epoch [2/20], Step [100/245], Loss: 1.5570\n",
            "Epoch [2/20], Step [200/245], Loss: 1.5613\n"
          ]
        },
        {
          "output_type": "stream",
          "name": "stderr",
          "text": [
            "\r 10%|█         | 2/20 [00:59<08:58, 29.89s/it]"
          ]
        },
        {
          "output_type": "stream",
          "name": "stdout",
          "text": [
            "Validation accuracy is: 17.3 %\n",
            "Epoch [3/20], Step [100/245], Loss: 1.4160\n",
            "Epoch [3/20], Step [200/245], Loss: 1.5663\n"
          ]
        },
        {
          "output_type": "stream",
          "name": "stderr",
          "text": [
            "\r 15%|█▌        | 3/20 [01:29<08:23, 29.61s/it]"
          ]
        },
        {
          "output_type": "stream",
          "name": "stdout",
          "text": [
            "Validation accuracy is: 16.9 %\n",
            "Epoch [4/20], Step [100/245], Loss: 1.5993\n",
            "Epoch [4/20], Step [200/245], Loss: 1.3950\n"
          ]
        },
        {
          "output_type": "stream",
          "name": "stderr",
          "text": [
            "\r 20%|██        | 4/20 [01:58<07:51, 29.50s/it]"
          ]
        },
        {
          "output_type": "stream",
          "name": "stdout",
          "text": [
            "Validation accuracy is: 22.6 %\n",
            "Epoch [5/20], Step [100/245], Loss: 1.4654\n",
            "Epoch [5/20], Step [200/245], Loss: 1.5058\n"
          ]
        },
        {
          "output_type": "stream",
          "name": "stderr",
          "text": [
            "\r 25%|██▌       | 5/20 [02:28<07:24, 29.63s/it]"
          ]
        },
        {
          "output_type": "stream",
          "name": "stdout",
          "text": [
            "Validation accuracy is: 36.1 %\n",
            "Epoch [6/20], Step [100/245], Loss: 1.3872\n",
            "Epoch [6/20], Step [200/245], Loss: 1.4860\n"
          ]
        },
        {
          "output_type": "stream",
          "name": "stderr",
          "text": [
            "\r 30%|███       | 6/20 [02:57<06:55, 29.68s/it]"
          ]
        },
        {
          "output_type": "stream",
          "name": "stdout",
          "text": [
            "Validation accuracy is: 30.4 %\n",
            "Epoch [7/20], Step [100/245], Loss: 1.3748\n",
            "Epoch [7/20], Step [200/245], Loss: 1.4315\n"
          ]
        },
        {
          "output_type": "stream",
          "name": "stderr",
          "text": [
            "\r 35%|███▌      | 7/20 [03:28<06:29, 29.97s/it]"
          ]
        },
        {
          "output_type": "stream",
          "name": "stdout",
          "text": [
            "Validation accuracy is: 29.8 %\n",
            "Epoch [8/20], Step [100/245], Loss: 1.4955\n",
            "Epoch [8/20], Step [200/245], Loss: 1.2597\n"
          ]
        },
        {
          "output_type": "stream",
          "name": "stderr",
          "text": [
            "\r 40%|████      | 8/20 [03:58<06:00, 30.04s/it]"
          ]
        },
        {
          "output_type": "stream",
          "name": "stdout",
          "text": [
            "Validation accuracy is: 40.4 %\n",
            "Epoch [9/20], Step [100/245], Loss: 1.3899\n",
            "Epoch [9/20], Step [200/245], Loss: 1.3732\n"
          ]
        },
        {
          "output_type": "stream",
          "name": "stderr",
          "text": [
            "\r 45%|████▌     | 9/20 [04:29<05:31, 30.13s/it]"
          ]
        },
        {
          "output_type": "stream",
          "name": "stdout",
          "text": [
            "Validation accuracy is: 34.5 %\n",
            "Epoch [10/20], Step [100/245], Loss: 1.1204\n",
            "Epoch [10/20], Step [200/245], Loss: 1.2229\n"
          ]
        },
        {
          "output_type": "stream",
          "name": "stderr",
          "text": [
            "\r 50%|█████     | 10/20 [04:59<05:00, 30.09s/it]"
          ]
        },
        {
          "output_type": "stream",
          "name": "stdout",
          "text": [
            "Validation accuracy is: 36.9 %\n",
            "Epoch [11/20], Step [100/245], Loss: 1.2660\n",
            "Epoch [11/20], Step [200/245], Loss: 1.1704\n"
          ]
        },
        {
          "output_type": "stream",
          "name": "stderr",
          "text": [
            "\r 55%|█████▌    | 11/20 [05:29<04:30, 30.08s/it]"
          ]
        },
        {
          "output_type": "stream",
          "name": "stdout",
          "text": [
            "Validation accuracy is: 34.7 %\n",
            "Epoch [12/20], Step [100/245], Loss: 1.2797\n",
            "Epoch [12/20], Step [200/245], Loss: 1.2150\n"
          ]
        },
        {
          "output_type": "stream",
          "name": "stderr",
          "text": [
            "\r 60%|██████    | 12/20 [05:59<04:01, 30.21s/it]"
          ]
        },
        {
          "output_type": "stream",
          "name": "stdout",
          "text": [
            "Validation accuracy is: 37.2 %\n",
            "Epoch [13/20], Step [100/245], Loss: 1.3125\n",
            "Epoch [13/20], Step [200/245], Loss: 1.2309\n"
          ]
        },
        {
          "output_type": "stream",
          "name": "stderr",
          "text": [
            "\r 65%|██████▌   | 13/20 [06:29<03:31, 30.16s/it]"
          ]
        },
        {
          "output_type": "stream",
          "name": "stdout",
          "text": [
            "Validation accuracy is: 35.2 %\n",
            "Epoch [14/20], Step [100/245], Loss: 1.3081\n",
            "Epoch [14/20], Step [200/245], Loss: 1.2212\n"
          ]
        },
        {
          "output_type": "stream",
          "name": "stderr",
          "text": [
            "\r 70%|███████   | 14/20 [06:59<03:00, 30.02s/it]"
          ]
        },
        {
          "output_type": "stream",
          "name": "stdout",
          "text": [
            "Validation accuracy is: 40.6 %\n",
            "Epoch [15/20], Step [100/245], Loss: 1.3409\n",
            "Epoch [15/20], Step [200/245], Loss: 1.1727\n"
          ]
        },
        {
          "output_type": "stream",
          "name": "stderr",
          "text": [
            "\r 75%|███████▌  | 15/20 [07:29<02:29, 29.92s/it]"
          ]
        },
        {
          "output_type": "stream",
          "name": "stdout",
          "text": [
            "Validation accuracy is: 42.0 %\n",
            "Epoch [16/20], Step [100/245], Loss: 1.3738\n",
            "Epoch [16/20], Step [200/245], Loss: 1.1209\n"
          ]
        },
        {
          "output_type": "stream",
          "name": "stderr",
          "text": [
            "\r 80%|████████  | 16/20 [07:58<01:59, 29.77s/it]"
          ]
        },
        {
          "output_type": "stream",
          "name": "stdout",
          "text": [
            "Validation accuracy is: 42.0 %\n",
            "Epoch [17/20], Step [100/245], Loss: 1.1875\n",
            "Epoch [17/20], Step [200/245], Loss: 1.1349\n"
          ]
        },
        {
          "output_type": "stream",
          "name": "stderr",
          "text": [
            "\r 85%|████████▌ | 17/20 [08:27<01:28, 29.66s/it]"
          ]
        },
        {
          "output_type": "stream",
          "name": "stdout",
          "text": [
            "Validation accuracy is: 42.5 %\n",
            "Epoch [18/20], Step [100/245], Loss: 1.2015\n",
            "Epoch [18/20], Step [200/245], Loss: 1.1793\n"
          ]
        },
        {
          "output_type": "stream",
          "name": "stderr",
          "text": [
            "\r 90%|█████████ | 18/20 [08:57<00:59, 29.67s/it]"
          ]
        },
        {
          "output_type": "stream",
          "name": "stdout",
          "text": [
            "Validation accuracy is: 37.7 %\n",
            "Epoch [19/20], Step [100/245], Loss: 1.1168\n",
            "Epoch [19/20], Step [200/245], Loss: 1.1310\n"
          ]
        },
        {
          "output_type": "stream",
          "name": "stderr",
          "text": [
            "\r 95%|█████████▌| 19/20 [09:27<00:29, 29.61s/it]"
          ]
        },
        {
          "output_type": "stream",
          "name": "stdout",
          "text": [
            "Validation accuracy is: 35.3 %\n",
            "Epoch [20/20], Step [100/245], Loss: 1.2134\n",
            "Epoch [20/20], Step [200/245], Loss: 1.2840\n"
          ]
        },
        {
          "output_type": "stream",
          "name": "stderr",
          "text": [
            "100%|██████████| 20/20 [09:56<00:00, 29.83s/it]"
          ]
        },
        {
          "output_type": "stream",
          "name": "stdout",
          "text": [
            "Validation accuracy is: 51.2 %\n"
          ]
        },
        {
          "output_type": "stream",
          "name": "stderr",
          "text": [
            "\n"
          ]
        }
      ]
    },
    {
      "cell_type": "code",
      "source": [
        "## Plot validation and training losses\n",
        "\n",
        "# visualize the loss as the network trained\n",
        "fig = plt.figure(figsize = (8,4))\n",
        "plt.plot(range(1,len(loss_train_08)+1), loss_train_08, label = 'Training Loss')\n",
        "plt.plot(range(1,len(loss_val_08)+1), loss_val_08, label = 'Validation Loss')\n",
        "\n",
        "# find position of lowest validation loss\n",
        "minposs = loss_val_08.index(min(loss_val_08)) + 1 \n",
        "plt.axvline(minposs, linestyle = '--', color = 'r', label = 'Early Stopping Checkpoint')\n",
        "\n",
        "plt.xlabel('Epochs')\n",
        "plt.ylabel('Loss')\n",
        "plt.ylim(0.005, 0.014) # consistent scale\n",
        "plt.xticks(range(0, num_epochs+1))\n",
        "plt.xlim(0, len(loss_train_08)+1) # consistent scale\n",
        "plt.grid(True)\n",
        "plt.legend()\n",
        "plt.tight_layout()\n",
        "plt.show()\n",
        "## Min Loss: epoch 20"
      ],
      "metadata": {
        "id": "aDrtjZ88csMf",
        "colab": {
          "base_uri": "https://localhost:8080/",
          "height": 297
        },
        "outputId": "1e6f5a63-ebd5-48dc-efce-c7f969a04eaf"
      },
      "execution_count": null,
      "outputs": [
        {
          "output_type": "display_data",
          "data": {
            "text/plain": [
              "<Figure size 576x288 with 1 Axes>"
            ],
            "image/png": "[encoded data removed]"
          },
          "metadata": {
            "needs_background": "light"
          }
        }
      ]
    },
    {
      "cell_type": "code",
      "source": [
        "## Check\n",
        "print(\"Accuracy at epoch 20:\", accuracy_val_08[loss_val_08.index(min(loss_val_08))])"
      ],
      "metadata": {
        "id": "7a5iYKaHcz9_",
        "colab": {
          "base_uri": "https://localhost:8080/"
        },
        "outputId": "e2d9982d-8753-4008-ac04-098b6cc32a96"
      },
      "execution_count": null,
      "outputs": [
        {
          "output_type": "stream",
          "name": "stdout",
          "text": [
            "Accuracy at epoch 20: 51.2\n"
          ]
        }
      ]
    },
    {
      "cell_type": "markdown",
      "source": [
        "### P = 0.9"
      ],
      "metadata": {
        "id": "Xq4wZHUCc7v8"
      }
    },
    {
      "cell_type": "code",
      "source": [
        "norm_layer = \"BN\"\n",
        "num_epochs = 20\n",
        "\n",
        "## Init model (p = 0.9)\n",
        "model_09 = ConvNet(input_size, hidden_size, num_classes, norm_layer = norm_layer, drop = 0.9).to(device)\n",
        "model_09.apply(weights_init)\n",
        "\n",
        "## Train Model\n",
        "loss_train_09, loss_val_09, accuracy_val_09 =  train_model(model_09, early_stop = True)"
      ],
      "metadata": {
        "id": "pH3PmI9jc9Dz",
        "colab": {
          "base_uri": "https://localhost:8080/"
        },
        "outputId": "32640820-d9c2-41ef-cc6f-bf0f7257eb01"
      },
      "execution_count": null,
      "outputs": [
        {
          "output_type": "stream",
          "name": "stderr",
          "text": [
            "\r  0%|          | 0/20 [00:00<?, ?it/s]"
          ]
        },
        {
          "output_type": "stream",
          "name": "stdout",
          "text": [
            "Epoch [1/20], Step [100/245], Loss: 2.1228\n",
            "Epoch [1/20], Step [200/245], Loss: 1.9271\n"
          ]
        },
        {
          "output_type": "stream",
          "name": "stderr",
          "text": [
            "\r  5%|▌         | 1/20 [00:29<09:25, 29.74s/it]"
          ]
        },
        {
          "output_type": "stream",
          "name": "stdout",
          "text": [
            "Validation accuracy is: 10.2 %\n",
            "Epoch [2/20], Step [100/245], Loss: 1.8989\n",
            "Epoch [2/20], Step [200/245], Loss: 1.8861\n"
          ]
        },
        {
          "output_type": "stream",
          "name": "stderr",
          "text": [
            "\r 10%|█         | 2/20 [00:59<08:57, 29.84s/it]"
          ]
        },
        {
          "output_type": "stream",
          "name": "stdout",
          "text": [
            "Validation accuracy is: 11.4 %\n",
            "Epoch [3/20], Step [100/245], Loss: 1.8602\n",
            "Epoch [3/20], Step [200/245], Loss: 1.9736\n"
          ]
        },
        {
          "output_type": "stream",
          "name": "stderr",
          "text": [
            "\r 15%|█▌        | 3/20 [01:28<08:22, 29.58s/it]"
          ]
        },
        {
          "output_type": "stream",
          "name": "stdout",
          "text": [
            "Validation accuracy is: 10.5 %\n",
            "Epoch [4/20], Step [100/245], Loss: 1.8140\n",
            "Epoch [4/20], Step [200/245], Loss: 1.8981\n"
          ]
        },
        {
          "output_type": "stream",
          "name": "stderr",
          "text": [
            "\r 20%|██        | 4/20 [01:58<07:55, 29.69s/it]"
          ]
        },
        {
          "output_type": "stream",
          "name": "stdout",
          "text": [
            "Validation accuracy is: 10.7 %\n",
            "Epoch [5/20], Step [100/245], Loss: 1.8263\n",
            "Epoch [5/20], Step [200/245], Loss: 1.8130\n"
          ]
        },
        {
          "output_type": "stream",
          "name": "stderr",
          "text": [
            "\r 25%|██▌       | 5/20 [02:27<07:21, 29.46s/it]"
          ]
        },
        {
          "output_type": "stream",
          "name": "stdout",
          "text": [
            "Validation accuracy is: 10.3 %\n",
            "Epoch [6/20], Step [100/245], Loss: 1.7407\n",
            "Epoch [6/20], Step [200/245], Loss: 1.8608\n"
          ]
        },
        {
          "output_type": "stream",
          "name": "stderr",
          "text": [
            "\r 30%|███       | 6/20 [02:56<06:49, 29.28s/it]"
          ]
        },
        {
          "output_type": "stream",
          "name": "stdout",
          "text": [
            "Validation accuracy is: 10.3 %\n",
            "Epoch [7/20], Step [100/245], Loss: 1.8615\n",
            "Epoch [7/20], Step [200/245], Loss: 1.7289\n"
          ]
        },
        {
          "output_type": "stream",
          "name": "stderr",
          "text": [
            "\r 35%|███▌      | 7/20 [03:25<06:19, 29.21s/it]"
          ]
        },
        {
          "output_type": "stream",
          "name": "stdout",
          "text": [
            "Validation accuracy is: 10.8 %\n",
            "Epoch [8/20], Step [100/245], Loss: 1.8514\n",
            "Epoch [8/20], Step [200/245], Loss: 1.7956\n"
          ]
        },
        {
          "output_type": "stream",
          "name": "stderr",
          "text": [
            "\r 40%|████      | 8/20 [03:55<05:50, 29.20s/it]"
          ]
        },
        {
          "output_type": "stream",
          "name": "stdout",
          "text": [
            "Validation accuracy is: 10.5 %\n",
            "Epoch [9/20], Step [100/245], Loss: 1.7330\n",
            "Epoch [9/20], Step [200/245], Loss: 1.7236\n"
          ]
        },
        {
          "output_type": "stream",
          "name": "stderr",
          "text": [
            "\r 45%|████▌     | 9/20 [04:24<05:22, 29.28s/it]"
          ]
        },
        {
          "output_type": "stream",
          "name": "stdout",
          "text": [
            "Validation accuracy is: 10.1 %\n",
            "Epoch [10/20], Step [100/245], Loss: 1.7866\n",
            "Epoch [10/20], Step [200/245], Loss: 1.8316\n"
          ]
        },
        {
          "output_type": "stream",
          "name": "stderr",
          "text": [
            "\r 50%|█████     | 10/20 [04:53<04:52, 29.20s/it]"
          ]
        },
        {
          "output_type": "stream",
          "name": "stdout",
          "text": [
            "Validation accuracy is: 10.2 %\n",
            "Epoch [11/20], Step [100/245], Loss: 1.7826\n",
            "Epoch [11/20], Step [200/245], Loss: 1.6831\n"
          ]
        },
        {
          "output_type": "stream",
          "name": "stderr",
          "text": [
            "\r 55%|█████▌    | 11/20 [05:22<04:22, 29.18s/it]"
          ]
        },
        {
          "output_type": "stream",
          "name": "stdout",
          "text": [
            "Validation accuracy is: 10.2 %\n",
            "Epoch [12/20], Step [100/245], Loss: 1.6618\n",
            "Epoch [12/20], Step [200/245], Loss: 1.7321\n"
          ]
        },
        {
          "output_type": "stream",
          "name": "stderr",
          "text": [
            "\r 60%|██████    | 12/20 [05:51<03:53, 29.22s/it]"
          ]
        },
        {
          "output_type": "stream",
          "name": "stdout",
          "text": [
            "Validation accuracy is: 10.2 %\n",
            "Epoch [13/20], Step [100/245], Loss: 1.7281\n",
            "Epoch [13/20], Step [200/245], Loss: 1.7564\n"
          ]
        },
        {
          "output_type": "stream",
          "name": "stderr",
          "text": [
            "\r 65%|██████▌   | 13/20 [06:21<03:25, 29.30s/it]"
          ]
        },
        {
          "output_type": "stream",
          "name": "stdout",
          "text": [
            "Validation accuracy is: 10.2 %\n",
            "Epoch [14/20], Step [100/245], Loss: 1.7661\n",
            "Epoch [14/20], Step [200/245], Loss: 1.6437\n"
          ]
        },
        {
          "output_type": "stream",
          "name": "stderr",
          "text": [
            "\r 70%|███████   | 14/20 [06:51<02:56, 29.39s/it]"
          ]
        },
        {
          "output_type": "stream",
          "name": "stdout",
          "text": [
            "Validation accuracy is: 10.2 %\n",
            "Epoch [15/20], Step [100/245], Loss: 1.6728\n",
            "Epoch [15/20], Step [200/245], Loss: 1.7115\n"
          ]
        },
        {
          "output_type": "stream",
          "name": "stderr",
          "text": [
            "\r 75%|███████▌  | 15/20 [07:20<02:27, 29.48s/it]"
          ]
        },
        {
          "output_type": "stream",
          "name": "stdout",
          "text": [
            "Validation accuracy is: 10.2 %\n",
            "Epoch [16/20], Step [100/245], Loss: 1.6721\n",
            "Epoch [16/20], Step [200/245], Loss: 1.8643\n"
          ]
        },
        {
          "output_type": "stream",
          "name": "stderr",
          "text": [
            "\r 80%|████████  | 16/20 [07:50<01:57, 29.46s/it]"
          ]
        },
        {
          "output_type": "stream",
          "name": "stdout",
          "text": [
            "Validation accuracy is: 10.4 %\n",
            "Epoch [17/20], Step [100/245], Loss: 1.6736\n",
            "Epoch [17/20], Step [200/245], Loss: 1.6012\n"
          ]
        },
        {
          "output_type": "stream",
          "name": "stderr",
          "text": [
            "\r 85%|████████▌ | 17/20 [08:19<01:28, 29.44s/it]"
          ]
        },
        {
          "output_type": "stream",
          "name": "stdout",
          "text": [
            "Validation accuracy is: 10.2 %\n",
            "Epoch [18/20], Step [100/245], Loss: 1.6590\n",
            "Epoch [18/20], Step [200/245], Loss: 1.7252\n"
          ]
        },
        {
          "output_type": "stream",
          "name": "stderr",
          "text": [
            "\r 90%|█████████ | 18/20 [08:48<00:58, 29.42s/it]"
          ]
        },
        {
          "output_type": "stream",
          "name": "stdout",
          "text": [
            "Validation accuracy is: 10.3 %\n",
            "Epoch [19/20], Step [100/245], Loss: 1.5951\n",
            "Epoch [19/20], Step [200/245], Loss: 1.5983\n"
          ]
        },
        {
          "output_type": "stream",
          "name": "stderr",
          "text": [
            "\r 95%|█████████▌| 19/20 [09:18<00:29, 29.38s/it]"
          ]
        },
        {
          "output_type": "stream",
          "name": "stdout",
          "text": [
            "Validation accuracy is: 10.3 %\n",
            "Epoch [20/20], Step [100/245], Loss: 1.6545\n",
            "Epoch [20/20], Step [200/245], Loss: 1.7358\n"
          ]
        },
        {
          "output_type": "stream",
          "name": "stderr",
          "text": [
            "100%|██████████| 20/20 [09:47<00:00, 29.40s/it]"
          ]
        },
        {
          "output_type": "stream",
          "name": "stdout",
          "text": [
            "Validation accuracy is: 10.3 %\n"
          ]
        },
        {
          "output_type": "stream",
          "name": "stderr",
          "text": [
            "\n"
          ]
        }
      ]
    },
    {
      "cell_type": "code",
      "source": [
        "## Plot validation and training losses\n",
        "\n",
        "# visualize the loss as the network trained\n",
        "fig = plt.figure(figsize = (8,4))\n",
        "plt.plot(range(1,len(loss_train_09)+1), loss_train_09, label = 'Training Loss')\n",
        "plt.plot(range(1,len(loss_val_09)+1), loss_val_09, label = 'Validation Loss')\n",
        "\n",
        "# find position of lowest validation loss\n",
        "minposs = loss_val_09.index(min(loss_val_09)) + 1 \n",
        "plt.axvline(minposs, linestyle = '--', color = 'r', label = 'Early Stopping Checkpoint')\n",
        "\n",
        "plt.xlabel('Epochs')\n",
        "plt.ylabel('Loss')\n",
        "plt.ylim(0.008, 0.017) # consistent scale\n",
        "plt.xticks(range(0, num_epochs+1))\n",
        "plt.xlim(0, len(loss_train_09)+1) # consistent scale\n",
        "plt.grid(True)\n",
        "plt.legend()\n",
        "plt.tight_layout()\n",
        "plt.show()\n",
        "## Min Loss: epoch 10"
      ],
      "metadata": {
        "id": "EDLGZy6ndE4e",
        "colab": {
          "base_uri": "https://localhost:8080/",
          "height": 297
        },
        "outputId": "2191ec99-219b-4bb6-b1ca-2bfef4108aca"
      },
      "execution_count": null,
      "outputs": [
        {
          "output_type": "display_data",
          "data": {
            "text/plain": [
              "<Figure size 576x288 with 1 Axes>"
            ],
            "image/png": "[encoded data removed]"
          },
          "metadata": {
            "needs_background": "light"
          }
        }
      ]
    },
    {
      "cell_type": "code",
      "source": [
        "## Check\n",
        "print(\"Accuracy at epoch 10:\", accuracy_val_09[loss_val_09.index(min(loss_val_09))])"
      ],
      "metadata": {
        "id": "v0thGkK5dSlB",
        "colab": {
          "base_uri": "https://localhost:8080/"
        },
        "outputId": "c3e803c5-d9d5-4cb9-ea04-eaed70560018"
      },
      "execution_count": null,
      "outputs": [
        {
          "output_type": "stream",
          "name": "stdout",
          "text": [
            "Accuracy at epoch 10: 10.2\n"
          ]
        }
      ]
    },
    {
      "cell_type": "markdown",
      "source": [
        "### Comparison"
      ],
      "metadata": {
        "id": "H6a2EHAZa4F1"
      }
    },
    {
      "cell_type": "code",
      "source": [
        "## Comparison\n",
        "\n",
        "## creating the dataset\n",
        "res = {\"0.1\" : accuracy_val_01[loss_val_01.index(min(loss_val_01))],\n",
        "       \"0.2\" : accuracy_val_02[loss_val_02.index(min(loss_val_02))],\n",
        "       \"0.3\" : accuracy_val_03[loss_val_03.index(min(loss_val_03))],\n",
        "       \"0.4\" : accuracy_val_04[loss_val_04.index(min(loss_val_04))],\n",
        "       \"0.5\" : accuracy_val_05[loss_val_05.index(min(loss_val_05))],\n",
        "       \"0.6\" : accuracy_val_06[loss_val_06.index(min(loss_val_06))],\n",
        "       \"0.7\" : accuracy_val_07[loss_val_07.index(min(loss_val_07))],\n",
        "       \"0.8\" : accuracy_val_08[loss_val_08.index(min(loss_val_08))],\n",
        "       \"0.9\" : accuracy_val_09[loss_val_09.index(min(loss_val_09))]}\n",
        "probs = list(res.keys())\n",
        "values = list(res.values())"
      ],
      "metadata": {
        "id": "Bhx7mw2Ra59K"
      },
      "execution_count": null,
      "outputs": []
    },
    {
      "cell_type": "code",
      "source": [
        "## Plot\n",
        "fig = plt.figure(figsize = (8, 4))\n",
        "plt.bar(probs, values, color = \"blue\", width = 0.4)\n",
        "plt.xlabel(\"Probability\")\n",
        "plt.ylabel(\"Accuracy [%]\")\n",
        "plt.ylim(0, 90)\n",
        "plt.show()"
      ],
      "metadata": {
        "id": "vdwFn6VxelU6",
        "colab": {
          "base_uri": "https://localhost:8080/",
          "height": 283
        },
        "outputId": "f9d407b5-efae-4c15-99da-10fc10cd7074"
      },
      "execution_count": null,
      "outputs": [
        {
          "output_type": "display_data",
          "data": {
            "text/plain": [
              "<Figure size 576x288 with 1 Axes>"
            ],
            "image/png": "[encoded data removed]"
          },
          "metadata": {
            "needs_background": "light"
          }
        }
      ]
    },
    {
      "cell_type": "markdown",
      "source": [
        "We note that increasing the value of **p**, the value of accuracy deacreases and\n",
        "this is due to the fact that the model is too simple and increasing p.\n",
        "\n",
        "We can conclude that in this case the dropout is not so useful."
      ],
      "metadata": {
        "id": "sCvlpxAd7iN8"
      }
    }
  ],
  "metadata": {
    "accelerator": "GPU",
    "colab": {
      "collapsed_sections": [],
      "provenance": []
    },
    "kernelspec": {
      "display_name": "Python 3",
      "name": "python3"
    },
    "language_info": {
      "name": "python"
    }
  },
  "nbformat": 4,
  "nbformat_minor": 0
}